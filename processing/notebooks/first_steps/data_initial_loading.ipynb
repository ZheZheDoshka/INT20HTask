{
 "cells": [
  {
   "cell_type": "code",
   "execution_count": 2,
   "metadata": {
    "collapsed": true
   },
   "outputs": [],
   "source": [
    "import pandas as pd"
   ]
  },
  {
   "cell_type": "code",
   "execution_count": 8,
   "outputs": [],
   "source": [
    "orders_df = pd.read_csv('../../data/initial/orders.csv')\n",
    "nodes_df = pd.read_csv('../../data/initial/nodes.csv')"
   ],
   "metadata": {
    "collapsed": false
   }
  },
  {
   "cell_type": "code",
   "execution_count": 9,
   "outputs": [
    {
     "data": {
      "text/plain": "                    Id         running_time       completed_time  \\\n0  7013180891535596072  2022-01-24 11:04:12  2022-01-24 11:14:07   \n1 -1446874864726772723  2022-01-24 18:31:03  2022-01-24 18:44:03   \n2 -7109832734562886369  2022-01-24 07:33:11  2022-01-24 07:38:33   \n3  5574536568610609787  2022-01-24 17:23:20  2022-01-24 17:35:11   \n4 -9022427340295022993  2022-01-24 18:01:45  2022-01-24 18:07:09   \n\n   route_distance_km  delta_time  \n0              4.061       595.0  \n1              2.766       780.0  \n2              2.022       322.0  \n3              4.309       711.0  \n4              1.819       324.0  ",
      "text/html": "<div>\n<style scoped>\n    .dataframe tbody tr th:only-of-type {\n        vertical-align: middle;\n    }\n\n    .dataframe tbody tr th {\n        vertical-align: top;\n    }\n\n    .dataframe thead th {\n        text-align: right;\n    }\n</style>\n<table border=\"1\" class=\"dataframe\">\n  <thead>\n    <tr style=\"text-align: right;\">\n      <th></th>\n      <th>Id</th>\n      <th>running_time</th>\n      <th>completed_time</th>\n      <th>route_distance_km</th>\n      <th>delta_time</th>\n    </tr>\n  </thead>\n  <tbody>\n    <tr>\n      <th>0</th>\n      <td>7013180891535596072</td>\n      <td>2022-01-24 11:04:12</td>\n      <td>2022-01-24 11:14:07</td>\n      <td>4.061</td>\n      <td>595.0</td>\n    </tr>\n    <tr>\n      <th>1</th>\n      <td>-1446874864726772723</td>\n      <td>2022-01-24 18:31:03</td>\n      <td>2022-01-24 18:44:03</td>\n      <td>2.766</td>\n      <td>780.0</td>\n    </tr>\n    <tr>\n      <th>2</th>\n      <td>-7109832734562886369</td>\n      <td>2022-01-24 07:33:11</td>\n      <td>2022-01-24 07:38:33</td>\n      <td>2.022</td>\n      <td>322.0</td>\n    </tr>\n    <tr>\n      <th>3</th>\n      <td>5574536568610609787</td>\n      <td>2022-01-24 17:23:20</td>\n      <td>2022-01-24 17:35:11</td>\n      <td>4.309</td>\n      <td>711.0</td>\n    </tr>\n    <tr>\n      <th>4</th>\n      <td>-9022427340295022993</td>\n      <td>2022-01-24 18:01:45</td>\n      <td>2022-01-24 18:07:09</td>\n      <td>1.819</td>\n      <td>324.0</td>\n    </tr>\n  </tbody>\n</table>\n</div>"
     },
     "execution_count": 9,
     "metadata": {},
     "output_type": "execute_result"
    }
   ],
   "source": [
    "orders_df.head()"
   ],
   "metadata": {
    "collapsed": false
   }
  },
  {
   "cell_type": "code",
   "execution_count": 10,
   "outputs": [
    {
     "data": {
      "text/plain": "                    Id  node_start  node_finish    distance  speed\n0  1403210517021349791   290773715   2041636852   64.755864   36.0\n1  1403210517021349791   290773722   2163829963   59.012828   36.0\n2  1403210517021349791   290773723   3129305123    8.709567   34.0\n3  1403210517021349791   291071720   5216935099  275.796769   33.0\n4  1403210517021349791   297978510   3684572319    8.141696   38.0",
      "text/html": "<div>\n<style scoped>\n    .dataframe tbody tr th:only-of-type {\n        vertical-align: middle;\n    }\n\n    .dataframe tbody tr th {\n        vertical-align: top;\n    }\n\n    .dataframe thead th {\n        text-align: right;\n    }\n</style>\n<table border=\"1\" class=\"dataframe\">\n  <thead>\n    <tr style=\"text-align: right;\">\n      <th></th>\n      <th>Id</th>\n      <th>node_start</th>\n      <th>node_finish</th>\n      <th>distance</th>\n      <th>speed</th>\n    </tr>\n  </thead>\n  <tbody>\n    <tr>\n      <th>0</th>\n      <td>1403210517021349791</td>\n      <td>290773715</td>\n      <td>2041636852</td>\n      <td>64.755864</td>\n      <td>36.0</td>\n    </tr>\n    <tr>\n      <th>1</th>\n      <td>1403210517021349791</td>\n      <td>290773722</td>\n      <td>2163829963</td>\n      <td>59.012828</td>\n      <td>36.0</td>\n    </tr>\n    <tr>\n      <th>2</th>\n      <td>1403210517021349791</td>\n      <td>290773723</td>\n      <td>3129305123</td>\n      <td>8.709567</td>\n      <td>34.0</td>\n    </tr>\n    <tr>\n      <th>3</th>\n      <td>1403210517021349791</td>\n      <td>291071720</td>\n      <td>5216935099</td>\n      <td>275.796769</td>\n      <td>33.0</td>\n    </tr>\n    <tr>\n      <th>4</th>\n      <td>1403210517021349791</td>\n      <td>297978510</td>\n      <td>3684572319</td>\n      <td>8.141696</td>\n      <td>38.0</td>\n    </tr>\n  </tbody>\n</table>\n</div>"
     },
     "execution_count": 10,
     "metadata": {},
     "output_type": "execute_result"
    }
   ],
   "source": [
    "nodes_df.head()"
   ],
   "metadata": {
    "collapsed": false
   }
  },
  {
   "cell_type": "code",
   "execution_count": null,
   "outputs": [],
   "source": [],
   "metadata": {
    "collapsed": false
   }
  }
 ],
 "metadata": {
  "kernelspec": {
   "display_name": "Python 3",
   "language": "python",
   "name": "python3"
  },
  "language_info": {
   "codemirror_mode": {
    "name": "ipython",
    "version": 2
   },
   "file_extension": ".py",
   "mimetype": "text/x-python",
   "name": "python",
   "nbconvert_exporter": "python",
   "pygments_lexer": "ipython2",
   "version": "2.7.6"
  }
 },
 "nbformat": 4,
 "nbformat_minor": 0
}
