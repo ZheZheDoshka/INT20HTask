{
 "cells": [
  {
   "cell_type": "code",
   "execution_count": 1,
   "outputs": [
    {
     "name": "stderr",
     "output_type": "stream",
     "text": [
      "D:\\Anaconda3\\envs\\int20h\\lib\\site-packages\\geopandas\\_compat.py:123: UserWarning: The Shapely GEOS version (3.11.1-CAPI-1.17.1) is incompatible with the GEOS version PyGEOS was compiled with (3.10.4-CAPI-1.16.2). Conversions between both will be slow.\n",
      "  warnings.warn(\n",
      "D:\\Anaconda3\\envs\\int20h\\lib\\site-packages\\pyrosm\\utils\\__init__.py:8: UserWarning: Shapely 2.0 is installed, but because PyGEOS is also installed, GeoPandas will still use PyGEOS by default for now. To force to use and test Shapely 2.0, you have to set the environment variable USE_PYGEOS=0. You can do this before starting the Python process, or in your code before importing geopandas:\n",
      "\n",
      "import os\n",
      "os.environ['USE_PYGEOS'] = '0'\n",
      "import geopandas\n",
      "\n",
      "In a future release, GeoPandas will switch to using Shapely by default. If you are using PyGEOS directly (calling PyGEOS functions on geometries from GeoPandas), this will then stop working and you are encouraged to migrate from PyGEOS to Shapely 2.0 (https://shapely.readthedocs.io/en/latest/migration_pygeos.html).\n",
      "  import geopandas as gpd\n"
     ]
    }
   ],
   "source": [
    "import pyrosm\n",
    "from pyrosm import get_data"
   ],
   "metadata": {
    "collapsed": false
   }
  },
  {
   "cell_type": "code",
   "execution_count": 4,
   "outputs": [],
   "source": [
    "osm = pyrosm.OSM(\"../../../data/odessa_oblast-latest.osm.pbf\")"
   ],
   "metadata": {
    "collapsed": false
   }
  },
  {
   "cell_type": "code",
   "execution_count": null,
   "outputs": [],
   "source": [
    "nodes, edges = osm.get_network(nodes=True)"
   ],
   "metadata": {
    "collapsed": false,
    "pycharm": {
     "is_executing": true
    }
   }
  },
  {
   "cell_type": "code",
   "execution_count": 6,
   "outputs": [
    {
     "data": {
      "text/plain": "         lon        lat                                               tags  \\\n0  30.726735  46.417998  {'bus': 'yes', 'name': '4-а станція Люстдорфсь...   \n1  30.728752  46.418113                                               None   \n2  30.729990  46.418192                                               None   \n3  30.730786  46.418242                                               None   \n4  30.733380  46.418398                                               None   \n\n    timestamp  version  changeset          id                   geometry  \n0  1675408622        7  132030016  4374904173  POINT (30.72674 46.41800)  \n1  1235567821        6     662222   352682638  POINT (30.72875 46.41811)  \n2  1360360048        2   14961083  2142884470  POINT (30.72999 46.41819)  \n3  1411115275        1   25536642  3085790909  POINT (30.73079 46.41824)  \n4  1632780744       21  111790669    27126458  POINT (30.73338 46.41840)  ",
      "text/html": "<div>\n<style scoped>\n    .dataframe tbody tr th:only-of-type {\n        vertical-align: middle;\n    }\n\n    .dataframe tbody tr th {\n        vertical-align: top;\n    }\n\n    .dataframe thead th {\n        text-align: right;\n    }\n</style>\n<table border=\"1\" class=\"dataframe\">\n  <thead>\n    <tr style=\"text-align: right;\">\n      <th></th>\n      <th>lon</th>\n      <th>lat</th>\n      <th>tags</th>\n      <th>timestamp</th>\n      <th>version</th>\n      <th>changeset</th>\n      <th>id</th>\n      <th>geometry</th>\n    </tr>\n  </thead>\n  <tbody>\n    <tr>\n      <th>0</th>\n      <td>30.726735</td>\n      <td>46.417998</td>\n      <td>{'bus': 'yes', 'name': '4-а станція Люстдорфсь...</td>\n      <td>1675408622</td>\n      <td>7</td>\n      <td>132030016</td>\n      <td>4374904173</td>\n      <td>POINT (30.72674 46.41800)</td>\n    </tr>\n    <tr>\n      <th>1</th>\n      <td>30.728752</td>\n      <td>46.418113</td>\n      <td>None</td>\n      <td>1235567821</td>\n      <td>6</td>\n      <td>662222</td>\n      <td>352682638</td>\n      <td>POINT (30.72875 46.41811)</td>\n    </tr>\n    <tr>\n      <th>2</th>\n      <td>30.729990</td>\n      <td>46.418192</td>\n      <td>None</td>\n      <td>1360360048</td>\n      <td>2</td>\n      <td>14961083</td>\n      <td>2142884470</td>\n      <td>POINT (30.72999 46.41819)</td>\n    </tr>\n    <tr>\n      <th>3</th>\n      <td>30.730786</td>\n      <td>46.418242</td>\n      <td>None</td>\n      <td>1411115275</td>\n      <td>1</td>\n      <td>25536642</td>\n      <td>3085790909</td>\n      <td>POINT (30.73079 46.41824)</td>\n    </tr>\n    <tr>\n      <th>4</th>\n      <td>30.733380</td>\n      <td>46.418398</td>\n      <td>None</td>\n      <td>1632780744</td>\n      <td>21</td>\n      <td>111790669</td>\n      <td>27126458</td>\n      <td>POINT (30.73338 46.41840)</td>\n    </tr>\n  </tbody>\n</table>\n</div>"
     },
     "execution_count": 6,
     "metadata": {},
     "output_type": "execute_result"
    }
   ],
   "source": [
    "nodes.head()"
   ],
   "metadata": {
    "collapsed": false
   }
  },
  {
   "cell_type": "code",
   "execution_count": 10,
   "outputs": [],
   "source": [
    "id_loc = {}\n",
    "for _, node in nodes.iterrows():\n",
    "    id_loc[node['id']] = (node['lon'], node['lat'])"
   ],
   "metadata": {
    "collapsed": false
   }
  },
  {
   "cell_type": "code",
   "execution_count": 11,
   "outputs": [],
   "source": [
    "import pickle\n",
    "with open('../../../data/all_odesa_nodes.pickle_from_local.pickle', 'wb') as f:\n",
    "    pickle.dump(id_loc, f)"
   ],
   "metadata": {
    "collapsed": false
   }
  },
  {
   "cell_type": "code",
   "execution_count": null,
   "outputs": [],
   "source": [],
   "metadata": {
    "collapsed": false
   }
  }
 ],
 "metadata": {
  "kernelspec": {
   "display_name": "Python 3",
   "language": "python",
   "name": "python3"
  },
  "language_info": {
   "codemirror_mode": {
    "name": "ipython",
    "version": 2
   },
   "file_extension": ".py",
   "mimetype": "text/x-python",
   "name": "python",
   "nbconvert_exporter": "python",
   "pygments_lexer": "ipython2",
   "version": "2.7.6"
  }
 },
 "nbformat": 4,
 "nbformat_minor": 0
}
