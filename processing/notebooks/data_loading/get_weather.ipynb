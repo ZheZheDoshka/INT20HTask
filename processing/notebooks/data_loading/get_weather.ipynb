{
 "cells": [
  {
   "cell_type": "code",
   "execution_count": 63,
   "outputs": [],
   "source": [
    "from datetime import datetime"
   ],
   "metadata": {
    "collapsed": false
   }
  },
  {
   "cell_type": "code",
   "execution_count": 79,
   "outputs": [],
   "source": [
    "from meteostat import Point, Hourly"
   ],
   "metadata": {
    "collapsed": false
   }
  },
  {
   "cell_type": "code",
   "execution_count": 65,
   "outputs": [],
   "source": [
    "start = datetime(2023, 1, 1)\n",
    "end = datetime.now()"
   ],
   "metadata": {
    "collapsed": false
   }
  },
  {
   "cell_type": "code",
   "execution_count": 98,
   "outputs": [],
   "source": [
    "start_date = end.replace(minute=0, second=0, microsecond=0)\n",
    "end_date = end.replace(minute=59, second=59, microsecond=999999)"
   ],
   "metadata": {
    "collapsed": false
   }
  },
  {
   "cell_type": "code",
   "execution_count": 99,
   "outputs": [
    {
     "data": {
      "text/plain": "(datetime.datetime(2023, 3, 4, 19, 0),\n datetime.datetime(2023, 3, 4, 19, 59, 59, 999999))"
     },
     "execution_count": 99,
     "metadata": {},
     "output_type": "execute_result"
    }
   ],
   "source": [
    "start_date, end_date"
   ],
   "metadata": {
    "collapsed": false
   }
  },
  {
   "cell_type": "code",
   "execution_count": 100,
   "outputs": [
    {
     "data": {
      "text/plain": "        name country region    wmo  icao  latitude  longitude  elevation  \\\nid                                                                         \n33837  Odesa      UA     OD  33837  UKOO   46.4333    30.7667       42.0   \n\n                timezone hourly_start hourly_end daily_start  daily_end  \\\nid                                                                        \n33837  Europe/Simferopol   1932-01-01 2023-03-03  1894-01-01 2023-02-24   \n\n      monthly_start monthly_end     distance     score  \nid                                                      \n33837    1894-01-01  2022-01-01  3356.167848  0.942466  ",
      "text/html": "<div>\n<style scoped>\n    .dataframe tbody tr th:only-of-type {\n        vertical-align: middle;\n    }\n\n    .dataframe tbody tr th {\n        vertical-align: top;\n    }\n\n    .dataframe thead th {\n        text-align: right;\n    }\n</style>\n<table border=\"1\" class=\"dataframe\">\n  <thead>\n    <tr style=\"text-align: right;\">\n      <th></th>\n      <th>name</th>\n      <th>country</th>\n      <th>region</th>\n      <th>wmo</th>\n      <th>icao</th>\n      <th>latitude</th>\n      <th>longitude</th>\n      <th>elevation</th>\n      <th>timezone</th>\n      <th>hourly_start</th>\n      <th>hourly_end</th>\n      <th>daily_start</th>\n      <th>daily_end</th>\n      <th>monthly_start</th>\n      <th>monthly_end</th>\n      <th>distance</th>\n      <th>score</th>\n    </tr>\n    <tr>\n      <th>id</th>\n      <th></th>\n      <th></th>\n      <th></th>\n      <th></th>\n      <th></th>\n      <th></th>\n      <th></th>\n      <th></th>\n      <th></th>\n      <th></th>\n      <th></th>\n      <th></th>\n      <th></th>\n      <th></th>\n      <th></th>\n      <th></th>\n      <th></th>\n    </tr>\n  </thead>\n  <tbody>\n    <tr>\n      <th>33837</th>\n      <td>Odesa</td>\n      <td>UA</td>\n      <td>OD</td>\n      <td>33837</td>\n      <td>UKOO</td>\n      <td>46.4333</td>\n      <td>30.7667</td>\n      <td>42.0</td>\n      <td>Europe/Simferopol</td>\n      <td>1932-01-01</td>\n      <td>2023-03-03</td>\n      <td>1894-01-01</td>\n      <td>2023-02-24</td>\n      <td>1894-01-01</td>\n      <td>2022-01-01</td>\n      <td>3356.167848</td>\n      <td>0.942466</td>\n    </tr>\n  </tbody>\n</table>\n</div>"
     },
     "execution_count": 100,
     "metadata": {},
     "output_type": "execute_result"
    }
   ],
   "source": [
    "point = Point(46.4384699, 30.7235512)\n",
    "point.get_stations(start=start_date, end=end_date)"
   ],
   "metadata": {
    "collapsed": false
   }
  },
  {
   "cell_type": "code",
   "execution_count": 84,
   "outputs": [],
   "source": [
    "station_id = point.stations.item()"
   ],
   "metadata": {
    "collapsed": false
   }
  },
  {
   "cell_type": "code",
   "execution_count": 101,
   "outputs": [],
   "source": [
    "data = Hourly(station_id, start_date, end_date)"
   ],
   "metadata": {
    "collapsed": false
   }
  },
  {
   "cell_type": "code",
   "execution_count": 102,
   "outputs": [
    {
     "data": {
      "text/plain": "                     temp  dwpt  rhum  prcp  snow   wdir  wspd  wpgt    pres  \\\ntime                                                                           \n2023-03-04 19:00:00   5.9   2.2  77.0   0.0   NaN  234.0   7.4  16.7  1008.4   \n\n                     tsun  coco  \ntime                             \n2023-03-04 19:00:00   NaN   2.0  ",
      "text/html": "<div>\n<style scoped>\n    .dataframe tbody tr th:only-of-type {\n        vertical-align: middle;\n    }\n\n    .dataframe tbody tr th {\n        vertical-align: top;\n    }\n\n    .dataframe thead th {\n        text-align: right;\n    }\n</style>\n<table border=\"1\" class=\"dataframe\">\n  <thead>\n    <tr style=\"text-align: right;\">\n      <th></th>\n      <th>temp</th>\n      <th>dwpt</th>\n      <th>rhum</th>\n      <th>prcp</th>\n      <th>snow</th>\n      <th>wdir</th>\n      <th>wspd</th>\n      <th>wpgt</th>\n      <th>pres</th>\n      <th>tsun</th>\n      <th>coco</th>\n    </tr>\n    <tr>\n      <th>time</th>\n      <th></th>\n      <th></th>\n      <th></th>\n      <th></th>\n      <th></th>\n      <th></th>\n      <th></th>\n      <th></th>\n      <th></th>\n      <th></th>\n      <th></th>\n    </tr>\n  </thead>\n  <tbody>\n    <tr>\n      <th>2023-03-04 19:00:00</th>\n      <td>5.9</td>\n      <td>2.2</td>\n      <td>77.0</td>\n      <td>0.0</td>\n      <td>NaN</td>\n      <td>234.0</td>\n      <td>7.4</td>\n      <td>16.7</td>\n      <td>1008.4</td>\n      <td>NaN</td>\n      <td>2.0</td>\n    </tr>\n  </tbody>\n</table>\n</div>"
     },
     "execution_count": 102,
     "metadata": {},
     "output_type": "execute_result"
    }
   ],
   "source": [
    "df = data.fetch()\n",
    "df"
   ],
   "metadata": {
    "collapsed": false
   }
  },
  {
   "cell_type": "code",
   "execution_count": 95,
   "outputs": [
    {
     "data": {
      "text/plain": "7.8"
     },
     "execution_count": 95,
     "metadata": {},
     "output_type": "execute_result"
    }
   ],
   "source": [
    "df.iloc[0]['temp']"
   ],
   "metadata": {
    "collapsed": false
   }
  },
  {
   "cell_type": "code",
   "execution_count": null,
   "outputs": [],
   "source": [],
   "metadata": {
    "collapsed": false
   }
  }
 ],
 "metadata": {
  "kernelspec": {
   "display_name": "Python 3",
   "language": "python",
   "name": "python3"
  },
  "language_info": {
   "codemirror_mode": {
    "name": "ipython",
    "version": 2
   },
   "file_extension": ".py",
   "mimetype": "text/x-python",
   "name": "python",
   "nbconvert_exporter": "python",
   "pygments_lexer": "ipython2",
   "version": "2.7.6"
  }
 },
 "nbformat": 4,
 "nbformat_minor": 0
}
