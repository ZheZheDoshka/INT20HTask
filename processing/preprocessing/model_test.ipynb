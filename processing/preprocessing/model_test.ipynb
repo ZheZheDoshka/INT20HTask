{
 "cells": [
  {
   "cell_type": "code",
   "execution_count": 1,
   "id": "d480605b",
   "metadata": {},
   "outputs": [],
   "source": [
    "\n",
    "import matplotlib.pyplot as plt\n",
    "import pandas as pd\n",
    "import numpy as np\n",
    "\n",
    "import keras\n",
    "from keras.layers import LSTM, Embedding, Dense, Flatten, Dropout, Add, Multiply\n",
    "from keras.layers import Input, LayerNormalization\n",
    "from keras import Sequential\n",
    "from keras import Model\n",
    "from keras.models import save_model, load_model\n",
    "\n",
    "from skimage import io\n",
    "from skimage.transform import rescale, resize, downscale_local_mean\n",
    "\n",
    "from sklearn.model_selection import train_test_split\n",
    "\n",
    "from tensorflow.keras.metrics import RootMeanSquaredError\n",
    "import math"
   ]
  },
  {
   "cell_type": "code",
   "execution_count": 2,
   "id": "9c2169a2",
   "metadata": {},
   "outputs": [],
   "source": [
    "import data_preprocessing"
   ]
  },
  {
   "cell_type": "code",
   "execution_count": null,
   "id": "82f5aa1a",
   "metadata": {},
   "outputs": [],
   "source": []
  },
  {
   "cell_type": "code",
   "execution_count": 3,
   "id": "54b80d7d",
   "metadata": {},
   "outputs": [],
   "source": [
    "def remove_nan(df_node):\n",
    "    mean = np.nanmean(df_node['speed'])\n",
    "    df_node['speed'] = df_node['speed'].replace()\n",
    "    return df_node"
   ]
  },
  {
   "cell_type": "code",
   "execution_count": 4,
   "id": "48244e46",
   "metadata": {},
   "outputs": [],
   "source": [
    "def av_time(row):\n",
    "    temp_df = nodes_df[nodes_df['Id'] ==row[\"Id\"]]\n",
    "    time = (temp_df['distance']/(temp_df['speed']))\n",
    "    total_time = sum(time)/1000\n",
    "    return total_time"
   ]
  },
  {
   "cell_type": "code",
   "execution_count": 5,
   "id": "53b84523",
   "metadata": {},
   "outputs": [],
   "source": [
    "def av_speed(row):\n",
    "    return row[\"route_distance_km\"]/row[\"av_time_H\"]"
   ]
  },
  {
   "cell_type": "code",
   "execution_count": 6,
   "id": "6a1bd80e",
   "metadata": {},
   "outputs": [],
   "source": [
    "def num_nods(row):\n",
    "    temp_df = nodes_df[nodes_df['Id'] ==row[\"Id\"]]\n",
    "    return len(temp_df)"
   ]
  },
  {
   "cell_type": "code",
   "execution_count": 97,
   "id": "9c8fbd61",
   "metadata": {},
   "outputs": [
    {
     "data": {
      "text/plain": [
       "272"
      ]
     },
     "execution_count": 97,
     "metadata": {},
     "output_type": "execute_result"
    }
   ],
   "source": [
    "a = 0\n",
    "for i in df[\"Id\"]:\n",
    "    b = len(nodes_df[nodes_df['Id'] == i])\n",
    "    if b>a:\n",
    "        a = b\n",
    "a"
   ]
  },
  {
   "cell_type": "code",
   "execution_count": 93,
   "id": "8285de83",
   "metadata": {},
   "outputs": [
    {
     "data": {
      "text/html": [
       "<div>\n",
       "<style scoped>\n",
       "    .dataframe tbody tr th:only-of-type {\n",
       "        vertical-align: middle;\n",
       "    }\n",
       "\n",
       "    .dataframe tbody tr th {\n",
       "        vertical-align: top;\n",
       "    }\n",
       "\n",
       "    .dataframe thead th {\n",
       "        text-align: right;\n",
       "    }\n",
       "</style>\n",
       "<table border=\"1\" class=\"dataframe\">\n",
       "  <thead>\n",
       "    <tr style=\"text-align: right;\">\n",
       "      <th></th>\n",
       "      <th>Id</th>\n",
       "      <th>running_time</th>\n",
       "      <th>completed_time</th>\n",
       "      <th>route_distance_km</th>\n",
       "      <th>delta_time</th>\n",
       "      <th>time</th>\n",
       "      <th>month</th>\n",
       "      <th>quarter</th>\n",
       "      <th>day_week</th>\n",
       "      <th>weekend</th>\n",
       "      <th>minute</th>\n",
       "      <th>hour</th>\n",
       "      <th>av_time_H</th>\n",
       "      <th>num_nods</th>\n",
       "      <th>av_speed_kmH</th>\n",
       "    </tr>\n",
       "  </thead>\n",
       "  <tbody>\n",
       "    <tr>\n",
       "      <th>0</th>\n",
       "      <td>-4773019581999572651</td>\n",
       "      <td>2022-01-24 18:30:21</td>\n",
       "      <td>2022-01-24 18:44:43</td>\n",
       "      <td>3.740</td>\n",
       "      <td>862.0</td>\n",
       "      <td>2022-01-24 18:30:21</td>\n",
       "      <td>1</td>\n",
       "      <td>1</td>\n",
       "      <td>0</td>\n",
       "      <td>0</td>\n",
       "      <td>30.0</td>\n",
       "      <td>18.0</td>\n",
       "      <td>0.123829</td>\n",
       "      <td>106</td>\n",
       "      <td>30.202871</td>\n",
       "    </tr>\n",
       "    <tr>\n",
       "      <th>1</th>\n",
       "      <td>-7575630690398473489</td>\n",
       "      <td>2022-01-24 06:53:53</td>\n",
       "      <td>2022-01-24 07:06:26</td>\n",
       "      <td>3.526</td>\n",
       "      <td>753.0</td>\n",
       "      <td>2022-01-24 06:53:53</td>\n",
       "      <td>1</td>\n",
       "      <td>1</td>\n",
       "      <td>0</td>\n",
       "      <td>0</td>\n",
       "      <td>53.0</td>\n",
       "      <td>6.0</td>\n",
       "      <td>0.094348</td>\n",
       "      <td>61</td>\n",
       "      <td>37.372254</td>\n",
       "    </tr>\n",
       "    <tr>\n",
       "      <th>2</th>\n",
       "      <td>-6264582368520213833</td>\n",
       "      <td>2022-01-24 10:00:59</td>\n",
       "      <td>2022-01-24 10:15:58</td>\n",
       "      <td>5.071</td>\n",
       "      <td>899.0</td>\n",
       "      <td>2022-01-24 10:00:59</td>\n",
       "      <td>1</td>\n",
       "      <td>1</td>\n",
       "      <td>0</td>\n",
       "      <td>0</td>\n",
       "      <td>0.0</td>\n",
       "      <td>10.0</td>\n",
       "      <td>0.154315</td>\n",
       "      <td>151</td>\n",
       "      <td>32.861256</td>\n",
       "    </tr>\n",
       "    <tr>\n",
       "      <th>3</th>\n",
       "      <td>5964315354301636538</td>\n",
       "      <td>2022-01-24 14:28:05</td>\n",
       "      <td>2022-01-24 14:35:08</td>\n",
       "      <td>2.867</td>\n",
       "      <td>423.0</td>\n",
       "      <td>2022-01-24 14:28:05</td>\n",
       "      <td>1</td>\n",
       "      <td>1</td>\n",
       "      <td>0</td>\n",
       "      <td>0</td>\n",
       "      <td>28.0</td>\n",
       "      <td>14.0</td>\n",
       "      <td>0.090993</td>\n",
       "      <td>69</td>\n",
       "      <td>31.507933</td>\n",
       "    </tr>\n",
       "    <tr>\n",
       "      <th>4</th>\n",
       "      <td>1372379574816145639</td>\n",
       "      <td>2022-01-24 11:57:29</td>\n",
       "      <td>2022-01-24 12:06:29</td>\n",
       "      <td>3.751</td>\n",
       "      <td>540.0</td>\n",
       "      <td>2022-01-24 11:57:29</td>\n",
       "      <td>1</td>\n",
       "      <td>1</td>\n",
       "      <td>0</td>\n",
       "      <td>0</td>\n",
       "      <td>57.0</td>\n",
       "      <td>11.0</td>\n",
       "      <td>0.114511</td>\n",
       "      <td>81</td>\n",
       "      <td>32.756669</td>\n",
       "    </tr>\n",
       "    <tr>\n",
       "      <th>...</th>\n",
       "      <td>...</td>\n",
       "      <td>...</td>\n",
       "      <td>...</td>\n",
       "      <td>...</td>\n",
       "      <td>...</td>\n",
       "      <td>...</td>\n",
       "      <td>...</td>\n",
       "      <td>...</td>\n",
       "      <td>...</td>\n",
       "      <td>...</td>\n",
       "      <td>...</td>\n",
       "      <td>...</td>\n",
       "      <td>...</td>\n",
       "      <td>...</td>\n",
       "      <td>...</td>\n",
       "    </tr>\n",
       "    <tr>\n",
       "      <th>4995</th>\n",
       "      <td>7096714159023973792</td>\n",
       "      <td>2022-01-24 21:10:38</td>\n",
       "      <td>2022-01-24 21:23:53</td>\n",
       "      <td>7.397</td>\n",
       "      <td>795.0</td>\n",
       "      <td>2022-01-24 21:10:38</td>\n",
       "      <td>1</td>\n",
       "      <td>1</td>\n",
       "      <td>0</td>\n",
       "      <td>0</td>\n",
       "      <td>10.0</td>\n",
       "      <td>21.0</td>\n",
       "      <td>0.152364</td>\n",
       "      <td>114</td>\n",
       "      <td>48.548230</td>\n",
       "    </tr>\n",
       "    <tr>\n",
       "      <th>4996</th>\n",
       "      <td>-3836026425968071806</td>\n",
       "      <td>2022-01-24 15:10:27</td>\n",
       "      <td>2022-01-24 15:20:21</td>\n",
       "      <td>1.948</td>\n",
       "      <td>594.0</td>\n",
       "      <td>2022-01-24 15:10:27</td>\n",
       "      <td>1</td>\n",
       "      <td>1</td>\n",
       "      <td>0</td>\n",
       "      <td>0</td>\n",
       "      <td>10.0</td>\n",
       "      <td>15.0</td>\n",
       "      <td>0.095044</td>\n",
       "      <td>40</td>\n",
       "      <td>20.495674</td>\n",
       "    </tr>\n",
       "    <tr>\n",
       "      <th>4997</th>\n",
       "      <td>2926216435675216636</td>\n",
       "      <td>2022-01-24 13:57:04</td>\n",
       "      <td>2022-01-24 14:03:18</td>\n",
       "      <td>2.547</td>\n",
       "      <td>374.0</td>\n",
       "      <td>2022-01-24 13:57:04</td>\n",
       "      <td>1</td>\n",
       "      <td>1</td>\n",
       "      <td>0</td>\n",
       "      <td>0</td>\n",
       "      <td>57.0</td>\n",
       "      <td>13.0</td>\n",
       "      <td>0.074323</td>\n",
       "      <td>60</td>\n",
       "      <td>34.269213</td>\n",
       "    </tr>\n",
       "    <tr>\n",
       "      <th>4998</th>\n",
       "      <td>-6677307480063489707</td>\n",
       "      <td>2022-01-24 08:46:13</td>\n",
       "      <td>2022-01-24 08:55:34</td>\n",
       "      <td>3.013</td>\n",
       "      <td>561.0</td>\n",
       "      <td>2022-01-24 08:46:13</td>\n",
       "      <td>1</td>\n",
       "      <td>1</td>\n",
       "      <td>0</td>\n",
       "      <td>0</td>\n",
       "      <td>46.0</td>\n",
       "      <td>8.0</td>\n",
       "      <td>0.085984</td>\n",
       "      <td>71</td>\n",
       "      <td>35.041395</td>\n",
       "    </tr>\n",
       "    <tr>\n",
       "      <th>4999</th>\n",
       "      <td>-4845695090750648713</td>\n",
       "      <td>2022-01-24 14:57:46</td>\n",
       "      <td>2022-01-24 15:11:25</td>\n",
       "      <td>2.323</td>\n",
       "      <td>819.0</td>\n",
       "      <td>2022-01-24 14:57:46</td>\n",
       "      <td>1</td>\n",
       "      <td>1</td>\n",
       "      <td>0</td>\n",
       "      <td>0</td>\n",
       "      <td>57.0</td>\n",
       "      <td>14.0</td>\n",
       "      <td>0.091406</td>\n",
       "      <td>45</td>\n",
       "      <td>25.413991</td>\n",
       "    </tr>\n",
       "  </tbody>\n",
       "</table>\n",
       "<p>5000 rows × 15 columns</p>\n",
       "</div>"
      ],
      "text/plain": [
       "                       Id         running_time       completed_time  \\\n",
       "0    -4773019581999572651  2022-01-24 18:30:21  2022-01-24 18:44:43   \n",
       "1    -7575630690398473489  2022-01-24 06:53:53  2022-01-24 07:06:26   \n",
       "2    -6264582368520213833  2022-01-24 10:00:59  2022-01-24 10:15:58   \n",
       "3     5964315354301636538  2022-01-24 14:28:05  2022-01-24 14:35:08   \n",
       "4     1372379574816145639  2022-01-24 11:57:29  2022-01-24 12:06:29   \n",
       "...                   ...                  ...                  ...   \n",
       "4995  7096714159023973792  2022-01-24 21:10:38  2022-01-24 21:23:53   \n",
       "4996 -3836026425968071806  2022-01-24 15:10:27  2022-01-24 15:20:21   \n",
       "4997  2926216435675216636  2022-01-24 13:57:04  2022-01-24 14:03:18   \n",
       "4998 -6677307480063489707  2022-01-24 08:46:13  2022-01-24 08:55:34   \n",
       "4999 -4845695090750648713  2022-01-24 14:57:46  2022-01-24 15:11:25   \n",
       "\n",
       "      route_distance_km  delta_time                time  month  quarter  \\\n",
       "0                 3.740       862.0 2022-01-24 18:30:21      1        1   \n",
       "1                 3.526       753.0 2022-01-24 06:53:53      1        1   \n",
       "2                 5.071       899.0 2022-01-24 10:00:59      1        1   \n",
       "3                 2.867       423.0 2022-01-24 14:28:05      1        1   \n",
       "4                 3.751       540.0 2022-01-24 11:57:29      1        1   \n",
       "...                 ...         ...                 ...    ...      ...   \n",
       "4995              7.397       795.0 2022-01-24 21:10:38      1        1   \n",
       "4996              1.948       594.0 2022-01-24 15:10:27      1        1   \n",
       "4997              2.547       374.0 2022-01-24 13:57:04      1        1   \n",
       "4998              3.013       561.0 2022-01-24 08:46:13      1        1   \n",
       "4999              2.323       819.0 2022-01-24 14:57:46      1        1   \n",
       "\n",
       "      day_week  weekend  minute  hour  av_time_H  num_nods  av_speed_kmH  \n",
       "0            0        0    30.0  18.0   0.123829       106     30.202871  \n",
       "1            0        0    53.0   6.0   0.094348        61     37.372254  \n",
       "2            0        0     0.0  10.0   0.154315       151     32.861256  \n",
       "3            0        0    28.0  14.0   0.090993        69     31.507933  \n",
       "4            0        0    57.0  11.0   0.114511        81     32.756669  \n",
       "...        ...      ...     ...   ...        ...       ...           ...  \n",
       "4995         0        0    10.0  21.0   0.152364       114     48.548230  \n",
       "4996         0        0    10.0  15.0   0.095044        40     20.495674  \n",
       "4997         0        0    57.0  13.0   0.074323        60     34.269213  \n",
       "4998         0        0    46.0   8.0   0.085984        71     35.041395  \n",
       "4999         0        0    57.0  14.0   0.091406        45     25.413991  \n",
       "\n",
       "[5000 rows x 15 columns]"
      ]
     },
     "execution_count": 93,
     "metadata": {},
     "output_type": "execute_result"
    }
   ],
   "source": [
    "df"
   ]
  },
  {
   "cell_type": "code",
   "execution_count": null,
   "id": "6238a897",
   "metadata": {},
   "outputs": [],
   "source": []
  },
  {
   "cell_type": "code",
   "execution_count": 18,
   "id": "961f8e72",
   "metadata": {},
   "outputs": [],
   "source": [
    "orders_df = pd.read_csv('../../data/initial/orders.csv')"
   ]
  },
  {
   "cell_type": "code",
   "execution_count": 9,
   "id": "4ccce669",
   "metadata": {},
   "outputs": [],
   "source": [
    "orders_df_test = pd.read_csv('../../data/initial/final_test.csv')"
   ]
  },
  {
   "cell_type": "code",
   "execution_count": null,
   "id": "775dbf89",
   "metadata": {},
   "outputs": [],
   "source": []
  },
  {
   "cell_type": "code",
   "execution_count": 270,
   "id": "9550850f",
   "metadata": {},
   "outputs": [],
   "source": [
    "time_columns = [\"month\", \"quarter\", \"day_week\", \"weekend\", \"minute\", \"hour\"]"
   ]
  },
  {
   "cell_type": "code",
   "execution_count": 271,
   "id": "6755b223",
   "metadata": {},
   "outputs": [],
   "source": [
    "static_columns = [\"route_distance_km\", \"av_time_H\", \"av_speed_kmH\", \"num_nods\"]"
   ]
  },
  {
   "cell_type": "code",
   "execution_count": null,
   "id": "3fec7c2d",
   "metadata": {},
   "outputs": [],
   "source": []
  },
  {
   "cell_type": "code",
   "execution_count": 14,
   "id": "0fde3344",
   "metadata": {},
   "outputs": [],
   "source": [
    "df = data_preprocessing.date_transform(orders_df)"
   ]
  },
  {
   "cell_type": "code",
   "execution_count": null,
   "id": "818c3d4e",
   "metadata": {},
   "outputs": [],
   "source": []
  },
  {
   "cell_type": "code",
   "execution_count": null,
   "id": "d2221f1f",
   "metadata": {},
   "outputs": [],
   "source": []
  },
  {
   "cell_type": "code",
   "execution_count": null,
   "id": "bc81013e",
   "metadata": {},
   "outputs": [],
   "source": []
  },
  {
   "cell_type": "code",
   "execution_count": 15,
   "id": "45d7909d",
   "metadata": {},
   "outputs": [],
   "source": [
    "df_test =  data_preprocessing.date_transform(orders_df_test)"
   ]
  },
  {
   "cell_type": "code",
   "execution_count": 96,
   "id": "0dfe37fe",
   "metadata": {
    "scrolled": false
   },
   "outputs": [],
   "source": [
    "nodes_df = pd.read_csv('../../data/initial/nodes.csv')"
   ]
  },
  {
   "cell_type": "code",
   "execution_count": 23,
   "id": "79d699e6",
   "metadata": {},
   "outputs": [],
   "source": [
    "nodes_df = remove_nan(nodes_df)"
   ]
  },
  {
   "cell_type": "code",
   "execution_count": 24,
   "id": "cfa06b27",
   "metadata": {},
   "outputs": [],
   "source": [
    "df[\"av_time_H\"] = df.apply(av_time, axis=1)"
   ]
  },
  {
   "cell_type": "code",
   "execution_count": 25,
   "id": "cc135249",
   "metadata": {},
   "outputs": [],
   "source": [
    "df[\"num_nods\"] = df.apply(num_nods, axis=1)"
   ]
  },
  {
   "cell_type": "code",
   "execution_count": 26,
   "id": "e30fdcf8",
   "metadata": {},
   "outputs": [],
   "source": [
    "df[\"av_speed_kmH\"] = df.apply(av_speed, axis=1)"
   ]
  },
  {
   "cell_type": "code",
   "execution_count": 297,
   "id": "1d23bb9c",
   "metadata": {},
   "outputs": [],
   "source": [
    "nodes_df = pd.read_csv('../../data/initial/nodes_test.csv')"
   ]
  },
  {
   "cell_type": "code",
   "execution_count": 298,
   "id": "6adc9fe3",
   "metadata": {},
   "outputs": [],
   "source": [
    "nodes_df = remove_nan(nodes_df)"
   ]
  },
  {
   "cell_type": "code",
   "execution_count": 299,
   "id": "f2b4a273",
   "metadata": {},
   "outputs": [],
   "source": [
    "df_test[\"av_time_H\"] = df_test.apply(av_time, axis=1)"
   ]
  },
  {
   "cell_type": "code",
   "execution_count": 300,
   "id": "e0a32f52",
   "metadata": {},
   "outputs": [],
   "source": [
    "df_test[\"av_speed_kmH\"] = df_test.apply(av_speed, axis=1)"
   ]
  },
  {
   "cell_type": "code",
   "execution_count": 301,
   "id": "5578edad",
   "metadata": {},
   "outputs": [],
   "source": [
    "df_test[\"num_nods\"] = df_test.apply(num_nods, axis=1)"
   ]
  },
  {
   "cell_type": "code",
   "execution_count": 237,
   "id": "6aa872d6",
   "metadata": {},
   "outputs": [],
   "source": [
    "x = df.drop(['completed_time', 'running_time', \"time\", 'delta_time'], axis = 1)"
   ]
  },
  {
   "cell_type": "code",
   "execution_count": 238,
   "id": "cf0383b0",
   "metadata": {},
   "outputs": [
    {
     "data": {
      "text/plain": [
       "11"
      ]
     },
     "execution_count": 238,
     "metadata": {},
     "output_type": "execute_result"
    }
   ],
   "source": [
    "len(x.columns)"
   ]
  },
  {
   "cell_type": "code",
   "execution_count": 239,
   "id": "4e2a1b92",
   "metadata": {},
   "outputs": [],
   "source": [
    "\n",
    "#x_test = df_test.drop(['Id','completed_time', 'running_time', \"time\", 'delta_time'], axis = 1)"
   ]
  },
  {
   "cell_type": "code",
   "execution_count": 240,
   "id": "887e22ac",
   "metadata": {},
   "outputs": [
    {
     "data": {
      "text/plain": [
       "Index(['Id', 'route_distance_km', 'month', 'quarter', 'day_week', 'weekend',\n",
       "       'minute', 'hour', 'av_time_H', 'num_nods', 'av_speed_kmH'],\n",
       "      dtype='object')"
      ]
     },
     "execution_count": 240,
     "metadata": {},
     "output_type": "execute_result"
    }
   ],
   "source": [
    "x.columns"
   ]
  },
  {
   "cell_type": "code",
   "execution_count": 241,
   "id": "32f781db",
   "metadata": {},
   "outputs": [],
   "source": [
    "y = df['delta_time']"
   ]
  },
  {
   "cell_type": "code",
   "execution_count": 302,
   "id": "f4640c26",
   "metadata": {},
   "outputs": [],
   "source": [
    "x_test = df_test.drop(['running_time', \"time\"], axis = 1)"
   ]
  },
  {
   "cell_type": "code",
   "execution_count": 243,
   "id": "99aea8df",
   "metadata": {},
   "outputs": [],
   "source": [
    "#x_test = np.asarray(x_test).astype('float32')\n",
    "#y_test = np.asarray(y_test).astype('float32')"
   ]
  },
  {
   "cell_type": "code",
   "execution_count": 244,
   "id": "650b9618",
   "metadata": {},
   "outputs": [],
   "source": [
    "X_train, Y_train = x, y"
   ]
  },
  {
   "cell_type": "code",
   "execution_count": 275,
   "id": "351b5733",
   "metadata": {},
   "outputs": [],
   "source": [
    "\n",
    "\n",
    "static_x_train = X_train.drop(time_columns, axis = 1)\n",
    "time_x_train = X_train.drop(static_columns, axis = 1)"
   ]
  },
  {
   "cell_type": "code",
   "execution_count": 277,
   "id": "2511efda",
   "metadata": {},
   "outputs": [
    {
     "data": {
      "text/html": [
       "<div>\n",
       "<style scoped>\n",
       "    .dataframe tbody tr th:only-of-type {\n",
       "        vertical-align: middle;\n",
       "    }\n",
       "\n",
       "    .dataframe tbody tr th {\n",
       "        vertical-align: top;\n",
       "    }\n",
       "\n",
       "    .dataframe thead th {\n",
       "        text-align: right;\n",
       "    }\n",
       "</style>\n",
       "<table border=\"1\" class=\"dataframe\">\n",
       "  <thead>\n",
       "    <tr style=\"text-align: right;\">\n",
       "      <th></th>\n",
       "      <th>month</th>\n",
       "      <th>quarter</th>\n",
       "      <th>day_week</th>\n",
       "      <th>weekend</th>\n",
       "      <th>minute</th>\n",
       "      <th>hour</th>\n",
       "    </tr>\n",
       "  </thead>\n",
       "  <tbody>\n",
       "    <tr>\n",
       "      <th>0</th>\n",
       "      <td>1</td>\n",
       "      <td>1</td>\n",
       "      <td>0</td>\n",
       "      <td>0</td>\n",
       "      <td>30.0</td>\n",
       "      <td>18.0</td>\n",
       "    </tr>\n",
       "    <tr>\n",
       "      <th>1</th>\n",
       "      <td>1</td>\n",
       "      <td>1</td>\n",
       "      <td>0</td>\n",
       "      <td>0</td>\n",
       "      <td>53.0</td>\n",
       "      <td>6.0</td>\n",
       "    </tr>\n",
       "    <tr>\n",
       "      <th>2</th>\n",
       "      <td>1</td>\n",
       "      <td>1</td>\n",
       "      <td>0</td>\n",
       "      <td>0</td>\n",
       "      <td>0.0</td>\n",
       "      <td>10.0</td>\n",
       "    </tr>\n",
       "    <tr>\n",
       "      <th>3</th>\n",
       "      <td>1</td>\n",
       "      <td>1</td>\n",
       "      <td>0</td>\n",
       "      <td>0</td>\n",
       "      <td>28.0</td>\n",
       "      <td>14.0</td>\n",
       "    </tr>\n",
       "    <tr>\n",
       "      <th>4</th>\n",
       "      <td>1</td>\n",
       "      <td>1</td>\n",
       "      <td>0</td>\n",
       "      <td>0</td>\n",
       "      <td>57.0</td>\n",
       "      <td>11.0</td>\n",
       "    </tr>\n",
       "    <tr>\n",
       "      <th>...</th>\n",
       "      <td>...</td>\n",
       "      <td>...</td>\n",
       "      <td>...</td>\n",
       "      <td>...</td>\n",
       "      <td>...</td>\n",
       "      <td>...</td>\n",
       "    </tr>\n",
       "    <tr>\n",
       "      <th>4995</th>\n",
       "      <td>1</td>\n",
       "      <td>1</td>\n",
       "      <td>0</td>\n",
       "      <td>0</td>\n",
       "      <td>10.0</td>\n",
       "      <td>21.0</td>\n",
       "    </tr>\n",
       "    <tr>\n",
       "      <th>4996</th>\n",
       "      <td>1</td>\n",
       "      <td>1</td>\n",
       "      <td>0</td>\n",
       "      <td>0</td>\n",
       "      <td>10.0</td>\n",
       "      <td>15.0</td>\n",
       "    </tr>\n",
       "    <tr>\n",
       "      <th>4997</th>\n",
       "      <td>1</td>\n",
       "      <td>1</td>\n",
       "      <td>0</td>\n",
       "      <td>0</td>\n",
       "      <td>57.0</td>\n",
       "      <td>13.0</td>\n",
       "    </tr>\n",
       "    <tr>\n",
       "      <th>4998</th>\n",
       "      <td>1</td>\n",
       "      <td>1</td>\n",
       "      <td>0</td>\n",
       "      <td>0</td>\n",
       "      <td>46.0</td>\n",
       "      <td>8.0</td>\n",
       "    </tr>\n",
       "    <tr>\n",
       "      <th>4999</th>\n",
       "      <td>1</td>\n",
       "      <td>1</td>\n",
       "      <td>0</td>\n",
       "      <td>0</td>\n",
       "      <td>57.0</td>\n",
       "      <td>14.0</td>\n",
       "    </tr>\n",
       "  </tbody>\n",
       "</table>\n",
       "<p>5000 rows × 6 columns</p>\n",
       "</div>"
      ],
      "text/plain": [
       "      month  quarter  day_week  weekend  minute  hour\n",
       "0         1        1         0        0    30.0  18.0\n",
       "1         1        1         0        0    53.0   6.0\n",
       "2         1        1         0        0     0.0  10.0\n",
       "3         1        1         0        0    28.0  14.0\n",
       "4         1        1         0        0    57.0  11.0\n",
       "...     ...      ...       ...      ...     ...   ...\n",
       "4995      1        1         0        0    10.0  21.0\n",
       "4996      1        1         0        0    10.0  15.0\n",
       "4997      1        1         0        0    57.0  13.0\n",
       "4998      1        1         0        0    46.0   8.0\n",
       "4999      1        1         0        0    57.0  14.0\n",
       "\n",
       "[5000 rows x 6 columns]"
      ]
     },
     "execution_count": 277,
     "metadata": {},
     "output_type": "execute_result"
    }
   ],
   "source": [
    "time_x_train"
   ]
  },
  {
   "cell_type": "code",
   "execution_count": 274,
   "id": "62317d28",
   "metadata": {},
   "outputs": [],
   "source": [
    "#static_x_train = static_x_train.drop([\"Id\"], axis=1)\n",
    "#time_x_train = time_x_train.drop([\"Id\"], axis=1)"
   ]
  },
  {
   "cell_type": "code",
   "execution_count": 246,
   "id": "e9e5f958",
   "metadata": {},
   "outputs": [],
   "source": [
    "lstm_x_speed = []\n",
    "lstm_x_dist = []"
   ]
  },
  {
   "cell_type": "code",
   "execution_count": 247,
   "id": "9dbab00f",
   "metadata": {},
   "outputs": [],
   "source": [
    "for i in X_train[\"Id\"]:\n",
    "    temp_df = nodes_df[nodes_df['Id'] == i]\n",
    "    ls = temp_df[\"speed\"].to_numpy()\n",
    "    ls = np.pad(ls, (0, 300 - len(ls)%300), 'constant')\n",
    "    lstm_x_speed.append(ls)\n",
    "    ld = temp_df[\"distance\"].to_numpy()\n",
    "    ld = np.pad(ld, (0, 300 - len(ld)%300), 'constant')\n",
    "    lstm_x_speed.append(ls)\n",
    "    lstm_x_dist.append(ld)"
   ]
  },
  {
   "cell_type": "code",
   "execution_count": 248,
   "id": "9efc88f4",
   "metadata": {},
   "outputs": [],
   "source": [
    "lstm_x_speed = np.asarray(lstm_x_speed).astype('float32')\n",
    "lstm_x_dist = np.asarray(lstm_x_dist).astype('float32')\n"
   ]
  },
  {
   "cell_type": "code",
   "execution_count": 249,
   "id": "9bf6b27f",
   "metadata": {},
   "outputs": [],
   "source": [
    "x= x.drop([\"Id\"], axis=1)"
   ]
  },
  {
   "cell_type": "code",
   "execution_count": 251,
   "id": "d2f0d090",
   "metadata": {},
   "outputs": [],
   "source": [
    "static_x_train = np.asarray(static_x_train).astype('float32')\n",
    "static_x_test = np.asarray(static_x_test).astype('float32')\n",
    "\n",
    "time_x_train = np.asarray(time_x_train).astype('float32')\n",
    "time_x_test = np.asarray(time_x_test).astype('float32')"
   ]
  },
  {
   "cell_type": "code",
   "execution_count": 252,
   "id": "e7dd0b52",
   "metadata": {},
   "outputs": [],
   "source": [
    "Y_test = np.asarray(Y_test).astype('float32')\n",
    "Y_train = np.asarray(Y_train).astype('float32')"
   ]
  },
  {
   "cell_type": "code",
   "execution_count": null,
   "id": "bf5590a0",
   "metadata": {},
   "outputs": [],
   "source": []
  },
  {
   "cell_type": "code",
   "execution_count": null,
   "id": "0525733d",
   "metadata": {},
   "outputs": [],
   "source": []
  },
  {
   "cell_type": "code",
   "execution_count": null,
   "id": "57abf10c",
   "metadata": {},
   "outputs": [],
   "source": []
  },
  {
   "cell_type": "code",
   "execution_count": null,
   "id": "519114bd",
   "metadata": {},
   "outputs": [],
   "source": []
  },
  {
   "cell_type": "code",
   "execution_count": 279,
   "id": "1e5ea6a5",
   "metadata": {
    "scrolled": true
   },
   "outputs": [],
   "source": [
    "optimizer = keras.optimizers.Adam(learning_rate=0.04)"
   ]
  },
  {
   "cell_type": "code",
   "execution_count": 280,
   "id": "db88dad9",
   "metadata": {},
   "outputs": [],
   "source": [
    "input_layer_lstm_s = Input(shape=(300,))\n",
    "embedded_s = Embedding(1, output_dim=32, input_length=300)(input_layer_lstm_s)\n",
    "\n",
    "input_layer_lstm_d = Input(shape=(300,))\n",
    "embedded_d = Embedding(1, output_dim=32, input_length=300)(input_layer_lstm_d)"
   ]
  },
  {
   "cell_type": "code",
   "execution_count": 281,
   "id": "91fc8dc1",
   "metadata": {},
   "outputs": [],
   "source": [
    "lstm_s = LSTM(units=32)(embedded_s)\n",
    "lstm_s =Dense(128)(lstm_s)\n",
    "\n",
    "lstm_d = LSTM(units=32)(embedded_d)\n",
    "lstm_d =Dense(128)(lstm_d)"
   ]
  },
  {
   "cell_type": "code",
   "execution_count": 282,
   "id": "67e8ff61",
   "metadata": {},
   "outputs": [],
   "source": [
    "input_layer_time = Input(shape=(len(time_columns),), name='input_t')\n",
    "input_layer_static = Input(shape=(len(static_columns),), name='input_s', dtype='float32')"
   ]
  },
  {
   "cell_type": "code",
   "execution_count": 283,
   "id": "240838b1",
   "metadata": {},
   "outputs": [],
   "source": [
    "x_time = Dense(128)(input_layer_time)\n",
    "x_static = Dense(128)(input_layer_static)\n",
    "\n",
    "x_2_t = Dense(128)(input_layer_time)\n",
    "x_2_s  = Dense(128)(input_layer_static)"
   ]
  },
  {
   "cell_type": "code",
   "execution_count": 284,
   "id": "431729b8",
   "metadata": {
    "scrolled": true
   },
   "outputs": [],
   "source": [
    "combined = Add()([x_2_t, x_2_s])\n",
    "combined = LayerNormalization()(combined)"
   ]
  },
  {
   "cell_type": "code",
   "execution_count": null,
   "id": "66ad4930",
   "metadata": {},
   "outputs": [],
   "source": []
  },
  {
   "cell_type": "code",
   "execution_count": 285,
   "id": "e14ba8d8",
   "metadata": {},
   "outputs": [],
   "source": [
    "combined_FCNN = Dense(128)(combined)\n",
    "combined_FCNN_2 = Dense(128)(combined_FCNN)"
   ]
  },
  {
   "cell_type": "code",
   "execution_count": 286,
   "id": "66144d71",
   "metadata": {},
   "outputs": [],
   "source": [
    "connected_lstm = Multiply()([lstm_s, lstm_d])"
   ]
  },
  {
   "cell_type": "code",
   "execution_count": 287,
   "id": "6e69e39e",
   "metadata": {},
   "outputs": [],
   "source": [
    "combined_FCNN_2 = Add()([combined_FCNN_2, connected_lstm])"
   ]
  },
  {
   "cell_type": "code",
   "execution_count": 288,
   "id": "63acf676",
   "metadata": {},
   "outputs": [],
   "source": [
    "\n",
    "combined_FCNN_2N = LayerNormalization()(combined_FCNN_2)\n",
    "combined_FCNN_3 = Dense(128)(combined_FCNN_2N)\n",
    "combined_FCNN_3N = LayerNormalization()(combined_FCNN_3)\n",
    "\n",
    "combined_FCNN_3N = Add()([combined_FCNN_3N, connected_lstm])\n",
    "\n",
    "combined_FCNN_4 = Dense(256)(combined_FCNN_3N)\n",
    "\n",
    "combined_FCNN_4N = LayerNormalization()(combined_FCNN_4)\n",
    "\n",
    "combined_FCNN_4 = Dense(64)(combined_FCNN_4)\n",
    "dropout = Dropout(0.2)(combined_FCNN_4)"
   ]
  },
  {
   "cell_type": "code",
   "execution_count": 289,
   "id": "20268073",
   "metadata": {},
   "outputs": [],
   "source": [
    "output = Dense(1)(dropout)"
   ]
  },
  {
   "cell_type": "code",
   "execution_count": 290,
   "id": "a62bf91c",
   "metadata": {
    "scrolled": true
   },
   "outputs": [],
   "source": [
    "model = Model(inputs=[input_layer_time, input_layer_static, input_layer_lstm_s, input_layer_lstm_d], outputs=output)"
   ]
  },
  {
   "cell_type": "code",
   "execution_count": 291,
   "id": "95462b3d",
   "metadata": {},
   "outputs": [],
   "source": [
    "model.compile(loss=\"mean_absolute_error\", metrics = ['mse'], optimizer=optimizer)"
   ]
  },
  {
   "cell_type": "code",
   "execution_count": 292,
   "id": "c069f202",
   "metadata": {
    "scrolled": false
   },
   "outputs": [
    {
     "name": "stdout",
     "output_type": "stream",
     "text": [
      "Model: \"model_9\"\n",
      "__________________________________________________________________________________________________\n",
      " Layer (type)                   Output Shape         Param #     Connected to                     \n",
      "==================================================================================================\n",
      " input_t (InputLayer)           [(None, 6)]          0           []                               \n",
      "                                                                                                  \n",
      " input_s (InputLayer)           [(None, 4)]          0           []                               \n",
      "                                                                                                  \n",
      " dense_104 (Dense)              (None, 128)          896         ['input_t[0][0]']                \n",
      "                                                                                                  \n",
      " dense_105 (Dense)              (None, 128)          640         ['input_s[0][0]']                \n",
      "                                                                                                  \n",
      " input_12 (InputLayer)          [(None, 300)]        0           []                               \n",
      "                                                                                                  \n",
      " input_13 (InputLayer)          [(None, 300)]        0           []                               \n",
      "                                                                                                  \n",
      " add_15 (Add)                   (None, 128)          0           ['dense_104[0][0]',              \n",
      "                                                                  'dense_105[0][0]']              \n",
      "                                                                                                  \n",
      " embedding_11 (Embedding)       (None, 300, 32)      32          ['input_12[0][0]']               \n",
      "                                                                                                  \n",
      " embedding_12 (Embedding)       (None, 300, 32)      32          ['input_13[0][0]']               \n",
      "                                                                                                  \n",
      " layer_normalization_35 (LayerN  (None, 128)         256         ['add_15[0][0]']                 \n",
      " ormalization)                                                                                    \n",
      "                                                                                                  \n",
      " lstm_11 (LSTM)                 (None, 32)           8320        ['embedding_11[0][0]']           \n",
      "                                                                                                  \n",
      " lstm_12 (LSTM)                 (None, 32)           8320        ['embedding_12[0][0]']           \n",
      "                                                                                                  \n",
      " dense_106 (Dense)              (None, 128)          16512       ['layer_normalization_35[0][0]'] \n",
      "                                                                                                  \n",
      " dense_100 (Dense)              (None, 128)          4224        ['lstm_11[0][0]']                \n",
      "                                                                                                  \n",
      " dense_101 (Dense)              (None, 128)          4224        ['lstm_12[0][0]']                \n",
      "                                                                                                  \n",
      " dense_107 (Dense)              (None, 128)          16512       ['dense_106[0][0]']              \n",
      "                                                                                                  \n",
      " multiply_18 (Multiply)         (None, 128)          0           ['dense_100[0][0]',              \n",
      "                                                                  'dense_101[0][0]']              \n",
      "                                                                                                  \n",
      " add_16 (Add)                   (None, 128)          0           ['dense_107[0][0]',              \n",
      "                                                                  'multiply_18[0][0]']            \n",
      "                                                                                                  \n",
      " layer_normalization_36 (LayerN  (None, 128)         256         ['add_16[0][0]']                 \n",
      " ormalization)                                                                                    \n",
      "                                                                                                  \n",
      " dense_108 (Dense)              (None, 128)          16512       ['layer_normalization_36[0][0]'] \n",
      "                                                                                                  \n",
      " layer_normalization_37 (LayerN  (None, 128)         256         ['dense_108[0][0]']              \n",
      " ormalization)                                                                                    \n",
      "                                                                                                  \n",
      " add_17 (Add)                   (None, 128)          0           ['layer_normalization_37[0][0]', \n",
      "                                                                  'multiply_18[0][0]']            \n",
      "                                                                                                  \n",
      " dense_109 (Dense)              (None, 256)          33024       ['add_17[0][0]']                 \n",
      "                                                                                                  \n",
      " dense_110 (Dense)              (None, 64)           16448       ['dense_109[0][0]']              \n",
      "                                                                                                  \n",
      " dropout_9 (Dropout)            (None, 64)           0           ['dense_110[0][0]']              \n",
      "                                                                                                  \n",
      " dense_111 (Dense)              (None, 1)            65          ['dropout_9[0][0]']              \n",
      "                                                                                                  \n",
      "==================================================================================================\n",
      "Total params: 126,529\n",
      "Trainable params: 126,529\n",
      "Non-trainable params: 0\n",
      "__________________________________________________________________________________________________\n"
     ]
    }
   ],
   "source": [
    "\n",
    "model.summary()"
   ]
  },
  {
   "cell_type": "code",
   "execution_count": 293,
   "id": "12ae9138",
   "metadata": {},
   "outputs": [],
   "source": [
    "from tensorflow.keras.callbacks import ModelCheckpoint\n",
    "filepath = 'model.h5'\n",
    "checkpoint = ModelCheckpoint(filepath, monitor='accuracy', verbose=1, save_best_only=True, mode='max')\n",
    "callbacks = [checkpoint]"
   ]
  },
  {
   "cell_type": "code",
   "execution_count": 294,
   "id": "9585f9c4",
   "metadata": {
    "scrolled": true
   },
   "outputs": [
    {
     "name": "stdout",
     "output_type": "stream",
     "text": [
      "Epoch 1/45\n",
      "125/125 [==============================] - ETA: 0s - loss: 217.1129 - mse: 72116.2109WARNING:tensorflow:Can save best model only with accuracy available, skipping.\n",
      "125/125 [==============================] - 14s 66ms/step - loss: 217.1129 - mse: 72116.2109 - val_loss: 205.1624 - val_mse: 65634.7812\n",
      "Epoch 2/45\n",
      "124/125 [============================>.] - ETA: 0s - loss: 165.3057 - mse: 42382.7969WARNING:tensorflow:Can save best model only with accuracy available, skipping.\n",
      "125/125 [==============================] - 7s 55ms/step - loss: 165.1069 - mse: 42292.8594 - val_loss: 143.7738 - val_mse: 33988.8438\n",
      "Epoch 3/45\n",
      "125/125 [==============================] - ETA: 0s - loss: 152.5023 - mse: 36982.1094WARNING:tensorflow:Can save best model only with accuracy available, skipping.\n",
      "125/125 [==============================] - 7s 57ms/step - loss: 152.5023 - mse: 36982.1094 - val_loss: 136.5674 - val_mse: 32045.8633\n",
      "Epoch 4/45\n",
      "125/125 [==============================] - ETA: 0s - loss: 144.2890 - mse: 33088.9492WARNING:tensorflow:Can save best model only with accuracy available, skipping.\n",
      "125/125 [==============================] - 7s 58ms/step - loss: 144.2890 - mse: 33088.9492 - val_loss: 133.0314 - val_mse: 29136.1289\n",
      "Epoch 5/45\n",
      "125/125 [==============================] - ETA: 0s - loss: 132.8689 - mse: 28777.2578WARNING:tensorflow:Can save best model only with accuracy available, skipping.\n",
      "125/125 [==============================] - 8s 62ms/step - loss: 132.8689 - mse: 28777.2578 - val_loss: 128.5932 - val_mse: 30298.6445\n",
      "Epoch 6/45\n",
      "125/125 [==============================] - ETA: 0s - loss: 132.3809 - mse: 28957.4844WARNING:tensorflow:Can save best model only with accuracy available, skipping.\n",
      "125/125 [==============================] - 7s 59ms/step - loss: 132.3809 - mse: 28957.4844 - val_loss: 119.8063 - val_mse: 25232.2363\n",
      "Epoch 7/45\n",
      "125/125 [==============================] - ETA: 0s - loss: 135.0712 - mse: 29712.2949WARNING:tensorflow:Can save best model only with accuracy available, skipping.\n",
      "125/125 [==============================] - 8s 60ms/step - loss: 135.0712 - mse: 29712.2949 - val_loss: 146.2145 - val_mse: 30103.6113\n",
      "Epoch 8/45\n",
      "125/125 [==============================] - ETA: 0s - loss: 131.0592 - mse: 27575.0488WARNING:tensorflow:Can save best model only with accuracy available, skipping.\n",
      "125/125 [==============================] - 7s 56ms/step - loss: 131.0592 - mse: 27575.0488 - val_loss: 111.9045 - val_mse: 20151.3047\n",
      "Epoch 9/45\n",
      "124/125 [============================>.] - ETA: 0s - loss: 130.3081 - mse: 27983.6738WARNING:tensorflow:Can save best model only with accuracy available, skipping.\n",
      "125/125 [==============================] - 7s 55ms/step - loss: 130.3583 - mse: 27981.6836 - val_loss: 111.5617 - val_mse: 19677.0527\n",
      "Epoch 10/45\n",
      "125/125 [==============================] - ETA: 0s - loss: 128.7455 - mse: 26898.1133WARNING:tensorflow:Can save best model only with accuracy available, skipping.\n",
      "125/125 [==============================] - 7s 55ms/step - loss: 128.7455 - mse: 26898.1133 - val_loss: 109.5199 - val_mse: 19789.3652\n",
      "Epoch 11/45\n",
      "125/125 [==============================] - ETA: 0s - loss: 122.5859 - mse: 24953.0312WARNING:tensorflow:Can save best model only with accuracy available, skipping.\n",
      "125/125 [==============================] - 7s 55ms/step - loss: 122.5859 - mse: 24953.0312 - val_loss: 122.5307 - val_mse: 24517.5215\n",
      "Epoch 12/45\n",
      "125/125 [==============================] - ETA: 0s - loss: 129.2004 - mse: 27640.1621WARNING:tensorflow:Can save best model only with accuracy available, skipping.\n",
      "125/125 [==============================] - 7s 60ms/step - loss: 129.2004 - mse: 27640.1621 - val_loss: 123.0884 - val_mse: 25984.9883\n",
      "Epoch 13/45\n",
      "125/125 [==============================] - ETA: 0s - loss: 126.6359 - mse: 26368.9805WARNING:tensorflow:Can save best model only with accuracy available, skipping.\n",
      "125/125 [==============================] - 7s 56ms/step - loss: 126.6359 - mse: 26368.9805 - val_loss: 109.0007 - val_mse: 19448.1543\n",
      "Epoch 14/45\n",
      "125/125 [==============================] - ETA: 0s - loss: 123.0328 - mse: 25090.4844WARNING:tensorflow:Can save best model only with accuracy available, skipping.\n",
      "125/125 [==============================] - 7s 57ms/step - loss: 123.0328 - mse: 25090.4844 - val_loss: 114.3444 - val_mse: 20081.2891\n",
      "Epoch 15/45\n",
      "124/125 [============================>.] - ETA: 0s - loss: 121.3307 - mse: 24373.7520WARNING:tensorflow:Can save best model only with accuracy available, skipping.\n",
      "125/125 [==============================] - 7s 56ms/step - loss: 121.4582 - mse: 24397.9805 - val_loss: 108.8149 - val_mse: 19566.6621\n",
      "Epoch 16/45\n",
      "125/125 [==============================] - ETA: 0s - loss: 125.2310 - mse: 26135.1230WARNING:tensorflow:Can save best model only with accuracy available, skipping.\n",
      "125/125 [==============================] - 7s 56ms/step - loss: 125.2310 - mse: 26135.1230 - val_loss: 120.5684 - val_mse: 22093.3398\n",
      "Epoch 17/45\n",
      "125/125 [==============================] - ETA: 0s - loss: 122.5830 - mse: 24515.0684WARNING:tensorflow:Can save best model only with accuracy available, skipping.\n",
      "125/125 [==============================] - 7s 57ms/step - loss: 122.5830 - mse: 24515.0684 - val_loss: 130.4634 - val_mse: 24092.9941\n",
      "Epoch 18/45\n",
      "124/125 [============================>.] - ETA: 0s - loss: 119.0974 - mse: 23589.9570WARNING:tensorflow:Can save best model only with accuracy available, skipping.\n",
      "125/125 [==============================] - 7s 56ms/step - loss: 118.9135 - mse: 23523.7871 - val_loss: 117.9249 - val_mse: 20501.2383\n",
      "Epoch 19/45\n",
      "125/125 [==============================] - ETA: 0s - loss: 119.1508 - mse: 23493.1426WARNING:tensorflow:Can save best model only with accuracy available, skipping.\n",
      "125/125 [==============================] - 7s 56ms/step - loss: 119.1508 - mse: 23493.1426 - val_loss: 139.8113 - val_mse: 27258.2539\n",
      "Epoch 20/45\n",
      "124/125 [============================>.] - ETA: 0s - loss: 119.3771 - mse: 23402.0449WARNING:tensorflow:Can save best model only with accuracy available, skipping.\n",
      "125/125 [==============================] - 7s 56ms/step - loss: 119.3672 - mse: 23390.1465 - val_loss: 118.1066 - val_mse: 20331.1328\n",
      "Epoch 21/45\n",
      "125/125 [==============================] - ETA: 0s - loss: 120.6472 - mse: 24101.8066WARNING:tensorflow:Can save best model only with accuracy available, skipping.\n",
      "125/125 [==============================] - 7s 55ms/step - loss: 120.6472 - mse: 24101.8066 - val_loss: 106.6388 - val_mse: 21172.5781\n",
      "Epoch 22/45\n",
      "125/125 [==============================] - ETA: 0s - loss: 117.7438 - mse: 23025.4746WARNING:tensorflow:Can save best model only with accuracy available, skipping.\n",
      "125/125 [==============================] - 7s 58ms/step - loss: 117.7438 - mse: 23025.4746 - val_loss: 110.2882 - val_mse: 22136.9199\n",
      "Epoch 23/45\n",
      "124/125 [============================>.] - ETA: 0s - loss: 123.0577 - mse: 25056.7656WARNING:tensorflow:Can save best model only with accuracy available, skipping.\n",
      "125/125 [==============================] - 7s 56ms/step - loss: 123.3983 - mse: 25154.0996 - val_loss: 135.5898 - val_mse: 25903.3594\n",
      "Epoch 24/45\n",
      "125/125 [==============================] - ETA: 0s - loss: 119.4294 - mse: 23758.4961WARNING:tensorflow:Can save best model only with accuracy available, skipping.\n",
      "125/125 [==============================] - 7s 59ms/step - loss: 119.4294 - mse: 23758.4961 - val_loss: 106.7910 - val_mse: 18713.5020\n",
      "Epoch 25/45\n",
      "125/125 [==============================] - ETA: 0s - loss: 117.9211 - mse: 23193.2012WARNING:tensorflow:Can save best model only with accuracy available, skipping.\n",
      "125/125 [==============================] - 9s 69ms/step - loss: 117.9211 - mse: 23193.2012 - val_loss: 105.3927 - val_mse: 18966.6426\n",
      "Epoch 26/45\n",
      "124/125 [============================>.] - ETA: 0s - loss: 119.4623 - mse: 23876.3770WARNING:tensorflow:Can save best model only with accuracy available, skipping.\n",
      "125/125 [==============================] - 8s 66ms/step - loss: 119.3698 - mse: 23856.3789 - val_loss: 114.1268 - val_mse: 19753.2715\n",
      "Epoch 27/45\n",
      "125/125 [==============================] - ETA: 0s - loss: 117.9712 - mse: 23076.7930WARNING:tensorflow:Can save best model only with accuracy available, skipping.\n"
     ]
    },
    {
     "name": "stdout",
     "output_type": "stream",
     "text": [
      "125/125 [==============================] - 8s 67ms/step - loss: 117.9712 - mse: 23076.7930 - val_loss: 110.4914 - val_mse: 19019.7148\n",
      "Epoch 28/45\n",
      "124/125 [============================>.] - ETA: 0s - loss: 117.7864 - mse: 23289.0352WARNING:tensorflow:Can save best model only with accuracy available, skipping.\n",
      "125/125 [==============================] - 8s 66ms/step - loss: 117.7348 - mse: 23283.6953 - val_loss: 105.7524 - val_mse: 20763.5332\n",
      "Epoch 29/45\n",
      "125/125 [==============================] - ETA: 0s - loss: 122.9749 - mse: 24873.1270WARNING:tensorflow:Can save best model only with accuracy available, skipping.\n",
      "125/125 [==============================] - 9s 74ms/step - loss: 122.9749 - mse: 24873.1270 - val_loss: 107.6068 - val_mse: 18417.9980\n",
      "Epoch 30/45\n",
      "125/125 [==============================] - ETA: 0s - loss: 117.1796 - mse: 22933.4746WARNING:tensorflow:Can save best model only with accuracy available, skipping.\n",
      "125/125 [==============================] - 8s 63ms/step - loss: 117.1796 - mse: 22933.4746 - val_loss: 111.4741 - val_mse: 19058.5547\n",
      "Epoch 31/45\n",
      "125/125 [==============================] - ETA: 0s - loss: 117.0727 - mse: 22896.4766WARNING:tensorflow:Can save best model only with accuracy available, skipping.\n",
      "125/125 [==============================] - 7s 59ms/step - loss: 117.0727 - mse: 22896.4766 - val_loss: 107.9415 - val_mse: 21026.1055\n",
      "Epoch 32/45\n",
      "125/125 [==============================] - ETA: 0s - loss: 119.0468 - mse: 23487.3320WARNING:tensorflow:Can save best model only with accuracy available, skipping.\n",
      "125/125 [==============================] - 8s 66ms/step - loss: 119.0468 - mse: 23487.3320 - val_loss: 115.1147 - val_mse: 19977.7793\n",
      "Epoch 33/45\n",
      "125/125 [==============================] - ETA: 0s - loss: 118.4188 - mse: 23069.5449WARNING:tensorflow:Can save best model only with accuracy available, skipping.\n",
      "125/125 [==============================] - 7s 59ms/step - loss: 118.4188 - mse: 23069.5449 - val_loss: 111.6848 - val_mse: 19690.0820\n",
      "Epoch 34/45\n",
      "125/125 [==============================] - ETA: 0s - loss: 118.8542 - mse: 23690.4023WARNING:tensorflow:Can save best model only with accuracy available, skipping.\n",
      "125/125 [==============================] - 9s 68ms/step - loss: 118.8542 - mse: 23690.4023 - val_loss: 112.3985 - val_mse: 19765.4883\n",
      "Epoch 35/45\n",
      "125/125 [==============================] - ETA: 0s - loss: 119.7071 - mse: 23699.3828WARNING:tensorflow:Can save best model only with accuracy available, skipping.\n",
      "125/125 [==============================] - 7s 59ms/step - loss: 119.7071 - mse: 23699.3828 - val_loss: 116.7644 - val_mse: 19864.1523\n",
      "Epoch 36/45\n",
      "125/125 [==============================] - ETA: 0s - loss: 122.1561 - mse: 24868.0977WARNING:tensorflow:Can save best model only with accuracy available, skipping.\n",
      "125/125 [==============================] - 7s 57ms/step - loss: 122.1561 - mse: 24868.0977 - val_loss: 112.6267 - val_mse: 19769.5898\n",
      "Epoch 37/45\n",
      "125/125 [==============================] - ETA: 0s - loss: 117.1516 - mse: 22523.7480WARNING:tensorflow:Can save best model only with accuracy available, skipping.\n",
      "125/125 [==============================] - 7s 60ms/step - loss: 117.1516 - mse: 22523.7480 - val_loss: 118.2830 - val_mse: 21231.9238\n",
      "Epoch 38/45\n",
      "125/125 [==============================] - ETA: 0s - loss: 116.5288 - mse: 22666.9902WARNING:tensorflow:Can save best model only with accuracy available, skipping.\n",
      "125/125 [==============================] - 9s 70ms/step - loss: 116.5288 - mse: 22666.9902 - val_loss: 111.4123 - val_mse: 19032.8047\n",
      "Epoch 39/45\n",
      "125/125 [==============================] - ETA: 0s - loss: 120.5314 - mse: 23708.1074WARNING:tensorflow:Can save best model only with accuracy available, skipping.\n",
      "125/125 [==============================] - 7s 57ms/step - loss: 120.5314 - mse: 23708.1074 - val_loss: 107.7389 - val_mse: 18672.2129\n",
      "Epoch 40/45\n",
      "125/125 [==============================] - ETA: 0s - loss: 117.4889 - mse: 22971.6621WARNING:tensorflow:Can save best model only with accuracy available, skipping.\n",
      "125/125 [==============================] - 7s 55ms/step - loss: 117.4889 - mse: 22971.6621 - val_loss: 113.7825 - val_mse: 19923.6875\n",
      "Epoch 41/45\n",
      "125/125 [==============================] - ETA: 0s - loss: 117.9061 - mse: 22955.4199WARNING:tensorflow:Can save best model only with accuracy available, skipping.\n",
      "125/125 [==============================] - 9s 69ms/step - loss: 117.9061 - mse: 22955.4199 - val_loss: 117.8742 - val_mse: 20408.8848\n",
      "Epoch 42/45\n",
      "125/125 [==============================] - ETA: 0s - loss: 121.8812 - mse: 24691.4629WARNING:tensorflow:Can save best model only with accuracy available, skipping.\n",
      "125/125 [==============================] - 8s 60ms/step - loss: 121.8812 - mse: 24691.4629 - val_loss: 110.7501 - val_mse: 18823.6875\n",
      "Epoch 43/45\n",
      "125/125 [==============================] - ETA: 0s - loss: 119.1766 - mse: 23451.3633WARNING:tensorflow:Can save best model only with accuracy available, skipping.\n",
      "125/125 [==============================] - 8s 61ms/step - loss: 119.1766 - mse: 23451.3633 - val_loss: 106.9683 - val_mse: 19947.8203\n",
      "Epoch 44/45\n",
      "124/125 [============================>.] - ETA: 0s - loss: 117.1448 - mse: 22694.7500WARNING:tensorflow:Can save best model only with accuracy available, skipping.\n",
      "125/125 [==============================] - 7s 58ms/step - loss: 117.2622 - mse: 22698.5977 - val_loss: 117.2128 - val_mse: 20839.7109\n",
      "Epoch 45/45\n",
      "125/125 [==============================] - ETA: 0s - loss: 121.8117 - mse: 24437.6582WARNING:tensorflow:Can save best model only with accuracy available, skipping.\n",
      "125/125 [==============================] - 8s 64ms/step - loss: 121.8117 - mse: 24437.6582 - val_loss: 123.8796 - val_mse: 21804.0352\n"
     ]
    }
   ],
   "source": [
    "history = model.fit(\n",
    "    [time_x_train, static_x_train, lstm_x_speed, lstm_x_dist],\n",
    "    Y_train,\n",
    "    epochs=45,\n",
    "    verbose=1,\n",
    "    validation_split = 0.2,\n",
    "    callbacks = callbacks)"
   ]
  },
  {
   "cell_type": "code",
   "execution_count": 296,
   "id": "601ca4b6",
   "metadata": {},
   "outputs": [],
   "source": [
    "model.save_weights(\"h15\")"
   ]
  },
  {
   "cell_type": "code",
   "execution_count": 83,
   "id": "2d321073",
   "metadata": {},
   "outputs": [
    {
     "name": "stdout",
     "output_type": "stream",
     "text": [
      "32/32 [==============================] - 1s 5ms/step\n"
     ]
    }
   ],
   "source": [
    "Y_pred = model.predict([time_x_test, static_x_test])"
   ]
  },
  {
   "cell_type": "code",
   "execution_count": 84,
   "id": "c172ac1a",
   "metadata": {},
   "outputs": [
    {
     "name": "stdout",
     "output_type": "stream",
     "text": [
      "[26809.83]\n"
     ]
    }
   ],
   "source": [
    "se = 0\n",
    "for i in range(len(Y_pred)):\n",
    "    se+=(Y_pred[i]-Y_test[i])**2\n",
    "se=se/1000\n",
    "print(se)"
   ]
  },
  {
   "cell_type": "code",
   "execution_count": 85,
   "id": "be89b685",
   "metadata": {},
   "outputs": [
    {
     "data": {
      "text/plain": [
       "array([163.73708], dtype=float32)"
      ]
     },
     "execution_count": 85,
     "metadata": {},
     "output_type": "execute_result"
    }
   ],
   "source": [
    "se**(1/2)"
   ]
  },
  {
   "cell_type": "code",
   "execution_count": 151,
   "id": "0f315444",
   "metadata": {},
   "outputs": [],
   "source": [
    "from sklearn.metrics import mean_squared_error"
   ]
  },
  {
   "cell_type": "code",
   "execution_count": 455,
   "id": "094af40f",
   "metadata": {
    "scrolled": false
   },
   "outputs": [],
   "source": [
    "Y_pr = [Y_pred[i][0] for i in range(len(Y_pred))]"
   ]
  },
  {
   "cell_type": "code",
   "execution_count": 456,
   "id": "4938c035",
   "metadata": {
    "scrolled": false
   },
   "outputs": [
    {
     "data": {
      "text/plain": [
       "25276.148"
      ]
     },
     "execution_count": 456,
     "metadata": {},
     "output_type": "execute_result"
    }
   ],
   "source": [
    "mean_squared_error(Y_test, Y_pr)"
   ]
  },
  {
   "cell_type": "code",
   "execution_count": 304,
   "id": "b032d2aa",
   "metadata": {},
   "outputs": [],
   "source": [
    "\n",
    "X_test = x_test"
   ]
  },
  {
   "cell_type": "code",
   "execution_count": 329,
   "id": "09ef7ed6",
   "metadata": {},
   "outputs": [],
   "source": [
    "static_x_test = X_test.drop(time_columns, axis = 1)\n",
    "time_x_test = X_test.drop(static_columns, axis = 1)\n"
   ]
  },
  {
   "cell_type": "code",
   "execution_count": null,
   "id": "cedffd09",
   "metadata": {},
   "outputs": [],
   "source": []
  },
  {
   "cell_type": "code",
   "execution_count": 330,
   "id": "f9ae703f",
   "metadata": {},
   "outputs": [],
   "source": [
    "lstm_x_speed = []\n",
    "lstm_x_dist = []"
   ]
  },
  {
   "cell_type": "code",
   "execution_count": 331,
   "id": "3f705f66",
   "metadata": {},
   "outputs": [
    {
     "data": {
      "text/plain": [
       "0"
      ]
     },
     "execution_count": 331,
     "metadata": {},
     "output_type": "execute_result"
    }
   ],
   "source": [
    "len(lstm_x_speed)"
   ]
  },
  {
   "cell_type": "code",
   "execution_count": 332,
   "id": "4cc9299d",
   "metadata": {},
   "outputs": [
    {
     "data": {
      "text/plain": [
       "0"
      ]
     },
     "execution_count": 332,
     "metadata": {},
     "output_type": "execute_result"
    }
   ],
   "source": [
    "len(lstm_x_dist)"
   ]
  },
  {
   "cell_type": "code",
   "execution_count": 333,
   "id": "29cb4b09",
   "metadata": {},
   "outputs": [],
   "source": [
    "for i in df_test[\"Id\"]:\n",
    "    temp_df = nodes_df[nodes_df['Id'] == i]\n",
    "    ls = temp_df[\"speed\"].to_numpy()\n",
    "    ls = np.pad(ls, (0, 300 - len(ls)%300), 'constant')\n",
    "    ld = temp_df[\"distance\"].to_numpy()\n",
    "    ld = np.pad(ld, (0, 300 - len(ld)%300), 'constant')\n",
    "    lstm_x_speed.append(ls)\n",
    "    lstm_x_dist.append(ld)"
   ]
  },
  {
   "cell_type": "code",
   "execution_count": 334,
   "id": "466a009f",
   "metadata": {},
   "outputs": [],
   "source": [
    "lstm_x_speed = np.asarray(lstm_x_speed).astype('float32')\n",
    "lstm_x_dist = np.asarray(lstm_x_dist).astype('float32')"
   ]
  },
  {
   "cell_type": "code",
   "execution_count": 335,
   "id": "7a3e5b8d",
   "metadata": {},
   "outputs": [],
   "source": [
    "static_x_test = static_x_test.drop([\"Id\"], axis = 1)\n",
    "time_x_test = time_x_test.drop([\"Id\"], axis = 1)"
   ]
  },
  {
   "cell_type": "code",
   "execution_count": 336,
   "id": "eccfe124",
   "metadata": {},
   "outputs": [
    {
     "name": "stdout",
     "output_type": "stream",
     "text": [
      "32/32 [==============================] - 2s 21ms/step\n"
     ]
    }
   ],
   "source": [
    "Y_pred = model.predict([time_x_test, static_x_test, lstm_x_speed, lstm_x_dist])"
   ]
  },
  {
   "cell_type": "code",
   "execution_count": 337,
   "id": "1b7a00a9",
   "metadata": {},
   "outputs": [],
   "source": [
    "df_test[\"Predicted\"] = Y_pred"
   ]
  },
  {
   "cell_type": "code",
   "execution_count": 339,
   "id": "15aad8ba",
   "metadata": {},
   "outputs": [],
   "source": [
    "df_test = df_test[[\"Id\", \"Predicted\"]]"
   ]
  },
  {
   "cell_type": "code",
   "execution_count": 340,
   "id": "bfe3a809",
   "metadata": {},
   "outputs": [
    {
     "data": {
      "text/html": [
       "<div>\n",
       "<style scoped>\n",
       "    .dataframe tbody tr th:only-of-type {\n",
       "        vertical-align: middle;\n",
       "    }\n",
       "\n",
       "    .dataframe tbody tr th {\n",
       "        vertical-align: top;\n",
       "    }\n",
       "\n",
       "    .dataframe thead th {\n",
       "        text-align: right;\n",
       "    }\n",
       "</style>\n",
       "<table border=\"1\" class=\"dataframe\">\n",
       "  <thead>\n",
       "    <tr style=\"text-align: right;\">\n",
       "      <th></th>\n",
       "      <th>Id</th>\n",
       "      <th>Predicted</th>\n",
       "    </tr>\n",
       "  </thead>\n",
       "  <tbody>\n",
       "    <tr>\n",
       "      <th>0</th>\n",
       "      <td>6198</td>\n",
       "      <td>668.584900</td>\n",
       "    </tr>\n",
       "    <tr>\n",
       "      <th>1</th>\n",
       "      <td>6417</td>\n",
       "      <td>635.973633</td>\n",
       "    </tr>\n",
       "    <tr>\n",
       "      <th>2</th>\n",
       "      <td>7054</td>\n",
       "      <td>655.983276</td>\n",
       "    </tr>\n",
       "    <tr>\n",
       "      <th>3</th>\n",
       "      <td>9628</td>\n",
       "      <td>615.632385</td>\n",
       "    </tr>\n",
       "    <tr>\n",
       "      <th>4</th>\n",
       "      <td>10283</td>\n",
       "      <td>650.400879</td>\n",
       "    </tr>\n",
       "    <tr>\n",
       "      <th>...</th>\n",
       "      <td>...</td>\n",
       "      <td>...</td>\n",
       "    </tr>\n",
       "    <tr>\n",
       "      <th>995</th>\n",
       "      <td>525706</td>\n",
       "      <td>535.278076</td>\n",
       "    </tr>\n",
       "    <tr>\n",
       "      <th>996</th>\n",
       "      <td>526604</td>\n",
       "      <td>549.520020</td>\n",
       "    </tr>\n",
       "    <tr>\n",
       "      <th>997</th>\n",
       "      <td>527213</td>\n",
       "      <td>521.269897</td>\n",
       "    </tr>\n",
       "    <tr>\n",
       "      <th>998</th>\n",
       "      <td>527520</td>\n",
       "      <td>350.894165</td>\n",
       "    </tr>\n",
       "    <tr>\n",
       "      <th>999</th>\n",
       "      <td>527850</td>\n",
       "      <td>700.747925</td>\n",
       "    </tr>\n",
       "  </tbody>\n",
       "</table>\n",
       "<p>1000 rows × 2 columns</p>\n",
       "</div>"
      ],
      "text/plain": [
       "         Id   Predicted\n",
       "0      6198  668.584900\n",
       "1      6417  635.973633\n",
       "2      7054  655.983276\n",
       "3      9628  615.632385\n",
       "4     10283  650.400879\n",
       "..      ...         ...\n",
       "995  525706  535.278076\n",
       "996  526604  549.520020\n",
       "997  527213  521.269897\n",
       "998  527520  350.894165\n",
       "999  527850  700.747925\n",
       "\n",
       "[1000 rows x 2 columns]"
      ]
     },
     "execution_count": 340,
     "metadata": {},
     "output_type": "execute_result"
    }
   ],
   "source": [
    "df_test"
   ]
  },
  {
   "cell_type": "code",
   "execution_count": 341,
   "id": "f03c1a9d",
   "metadata": {},
   "outputs": [
    {
     "data": {
      "text/plain": [
       "',Id,Predicted\\r\\n0,6198,668.5849\\r\\n1,6417,635.97363\\r\\n2,7054,655.9833\\r\\n3,9628,615.6324\\r\\n4,10283,650.4009\\r\\n5,10660,482.52188\\r\\n6,12778,527.26117\\r\\n7,15267,695.33453\\r\\n8,17648,490.5948\\r\\n9,20377,683.6954\\r\\n10,21710,533.40686\\r\\n11,23832,655.7658\\r\\n12,24693,704.44946\\r\\n13,28920,601.6003\\r\\n14,29889,657.6755\\r\\n15,30186,608.5209\\r\\n16,30596,570.9651\\r\\n17,30815,624.7533\\r\\n18,30958,481.61624\\r\\n19,31401,633.78253\\r\\n20,32452,694.843\\r\\n21,33885,565.35315\\r\\n22,34012,549.8318\\r\\n23,37794,678.1706\\r\\n24,38858,567.2301\\r\\n25,38961,384.13452\\r\\n26,39912,627.15857\\r\\n27,43686,628.8891\\r\\n28,43792,427.33493\\r\\n29,44405,599.65234\\r\\n30,44821,549.2839\\r\\n31,45083,612.3218\\r\\n32,45315,529.1186\\r\\n33,47093,663.951\\r\\n34,47190,573.8474\\r\\n35,47549,651.57697\\r\\n36,49333,600.3849\\r\\n37,50669,552.9178\\r\\n38,53294,588.0896\\r\\n39,54019,533.86786\\r\\n40,54558,615.95435\\r\\n41,55170,599.46735\\r\\n42,55846,503.6539\\r\\n43,56337,604.259\\r\\n44,57502,558.4912\\r\\n45,57569,663.6715\\r\\n46,57913,518.55164\\r\\n47,58662,424.92725\\r\\n48,59198,721.5814\\r\\n49,61513,630.86273\\r\\n50,61994,588.45807\\r\\n51,62781,502.31073\\r\\n52,64209,543.37305\\r\\n53,64488,631.39307\\r\\n54,65236,491.38446\\r\\n55,65342,528.53107\\r\\n56,65456,570.4384\\r\\n57,65538,664.65485\\r\\n58,65800,631.6206\\r\\n59,66330,665.54095\\r\\n60,66579,490.62045\\r\\n61,66906,473.87604\\r\\n62,66959,565.3471\\r\\n63,67340,641.28015\\r\\n64,68042,624.4931\\r\\n65,68620,502.69962\\r\\n66,69087,635.2417\\r\\n67,69533,646.39453\\r\\n68,72898,557.71173\\r\\n69,73805,649.2509\\r\\n70,74298,568.5335\\r\\n71,75201,662.058\\r\\n72,75558,396.51456\\r\\n73,75894,494.41864\\r\\n74,76792,568.16547\\r\\n75,77189,616.10645\\r\\n76,77584,642.16895\\r\\n77,77701,620.16345\\r\\n78,78468,470.4854\\r\\n79,78971,531.2946\\r\\n80,79796,445.2966\\r\\n81,80814,394.43573\\r\\n82,81229,653.971\\r\\n83,82441,680.43335\\r\\n84,82636,656.76196\\r\\n85,83555,662.6457\\r\\n86,83977,731.8154\\r\\n87,84186,602.93695\\r\\n88,84473,600.46814\\r\\n89,84580,420.4803\\r\\n90,85317,483.5906\\r\\n91,85634,447.10736\\r\\n92,86257,679.8929\\r\\n93,86985,613.04614\\r\\n94,87323,528.5988\\r\\n95,87982,655.83673\\r\\n96,90422,599.2783\\r\\n97,91193,635.64014\\r\\n98,91525,533.8403\\r\\n99,91661,643.8512\\r\\n100,92804,663.5494\\r\\n101,95530,476.55328\\r\\n102,96821,528.9141\\r\\n103,97618,479.89563\\r\\n104,97856,621.8687\\r\\n105,99334,599.1985\\r\\n106,99434,580.8314\\r\\n107,100172,551.3405\\r\\n108,100819,650.05255\\r\\n109,101363,463.2362\\r\\n110,102100,568.7498\\r\\n111,102729,676.3846\\r\\n112,102882,636.97943\\r\\n113,103056,454.98758\\r\\n114,103257,541.35315\\r\\n115,104655,578.9015\\r\\n116,105210,525.8301\\r\\n117,105590,496.47678\\r\\n118,105672,538.6789\\r\\n119,105943,604.2424\\r\\n120,106141,558.6011\\r\\n121,106240,434.155\\r\\n122,106674,701.30927\\r\\n123,107086,596.6963\\r\\n124,107183,469.87744\\r\\n125,107744,431.7964\\r\\n126,108244,519.1968\\r\\n127,108764,689.481\\r\\n128,108911,494.36502\\r\\n129,110277,639.71436\\r\\n130,111171,572.26154\\r\\n131,112119,680.695\\r\\n132,112989,468.29654\\r\\n133,113081,727.24207\\r\\n134,113247,631.15314\\r\\n135,115804,605.40155\\r\\n136,116337,608.42255\\r\\n137,116809,394.4629\\r\\n138,116843,536.8014\\r\\n139,116988,598.2925\\r\\n140,117056,667.1572\\r\\n141,117830,539.11084\\r\\n142,118399,380.4047\\r\\n143,118901,512.16583\\r\\n144,119000,711.0574\\r\\n145,120029,609.34204\\r\\n146,120293,661.6861\\r\\n147,121484,454.46954\\r\\n148,121684,491.1974\\r\\n149,122726,696.6673\\r\\n150,122886,467.872\\r\\n151,123002,608.8312\\r\\n152,125530,620.1322\\r\\n153,127385,675.8508\\r\\n154,127718,507.63165\\r\\n155,128341,618.27423\\r\\n156,128685,509.08612\\r\\n157,129263,451.37015\\r\\n158,129485,506.50632\\r\\n159,129544,455.98923\\r\\n160,130129,594.5965\\r\\n161,130352,469.93823\\r\\n162,130755,676.0355\\r\\n163,133565,624.5246\\r\\n164,134715,432.13943\\r\\n165,135441,584.49603\\r\\n166,135751,569.0092\\r\\n167,136352,434.84436\\r\\n168,136502,582.12054\\r\\n169,137171,576.0019\\r\\n170,137715,507.34045\\r\\n171,137768,580.1149\\r\\n172,138209,481.88467\\r\\n173,138247,565.3149\\r\\n174,138880,547.63873\\r\\n175,139164,431.96332\\r\\n176,139196,472.55304\\r\\n177,139264,549.0094\\r\\n178,139887,603.3845\\r\\n179,140048,526.37964\\r\\n180,140525,557.3142\\r\\n181,142419,628.1358\\r\\n182,142578,503.89368\\r\\n183,142882,576.0596\\r\\n184,144416,380.8037\\r\\n185,144518,488.6208\\r\\n186,145738,436.34515\\r\\n187,146893,524.0939\\r\\n188,147072,719.3214\\r\\n189,148059,554.23236\\r\\n190,148450,631.01306\\r\\n191,149889,482.93774\\r\\n192,150389,366.20288\\r\\n193,150516,703.1036\\r\\n194,150830,617.02936\\r\\n195,150976,624.57184\\r\\n196,151773,418.61145\\r\\n197,151820,595.7494\\r\\n198,153135,643.42505\\r\\n199,153758,586.1792\\r\\n200,153951,657.5401\\r\\n201,156027,463.77817\\r\\n202,157434,590.419\\r\\n203,158433,542.39307\\r\\n204,158514,525.01996\\r\\n205,158610,535.1856\\r\\n206,158705,674.0018\\r\\n207,159526,626.0939\\r\\n208,159954,683.14014\\r\\n209,160752,609.4404\\r\\n210,160825,698.50275\\r\\n211,161996,662.3968\\r\\n212,162964,653.8623\\r\\n213,163289,561.3721\\r\\n214,163379,633.4688\\r\\n215,163584,667.01434\\r\\n216,164958,515.4184\\r\\n217,165108,666.06006\\r\\n218,165514,421.0957\\r\\n219,166129,591.91644\\r\\n220,167945,623.4309\\r\\n221,168234,508.2464\\r\\n222,168469,639.84875\\r\\n223,168560,561.53186\\r\\n224,168815,616.1291\\r\\n225,169661,543.7812\\r\\n226,169942,468.40756\\r\\n227,170719,408.6\\r\\n228,171145,699.2376\\r\\n229,171881,384.29065\\r\\n230,172116,637.25836\\r\\n231,172221,693.0777\\r\\n232,172629,534.8734\\r\\n233,172764,712.93604\\r\\n234,173187,477.99298\\r\\n235,173266,419.44482\\r\\n236,173328,411.13748\\r\\n237,173363,530.64685\\r\\n238,173854,526.29565\\r\\n239,173974,678.809\\r\\n240,174086,434.4229\\r\\n241,174156,531.5024\\r\\n242,174777,544.4255\\r\\n243,175128,671.0394\\r\\n244,176327,700.79584\\r\\n245,177328,584.05334\\r\\n246,177969,632.5005\\r\\n247,178173,342.22415\\r\\n248,178577,606.3526\\r\\n249,178662,557.2705\\r\\n250,178712,507.1436\\r\\n251,179181,609.18463\\r\\n252,179483,543.54346\\r\\n253,179767,421.0152\\r\\n254,180081,564.3732\\r\\n255,180181,553.9408\\r\\n256,180448,483.12936\\r\\n257,181602,570.99005\\r\\n258,182788,648.7785\\r\\n259,184078,669.30206\\r\\n260,184490,526.4687\\r\\n261,184726,535.3597\\r\\n262,184964,499.1681\\r\\n263,185045,500.94046\\r\\n264,185772,529.51013\\r\\n265,186530,575.4922\\r\\n266,186788,594.73615\\r\\n267,186854,423.70874\\r\\n268,187919,409.04684\\r\\n269,187944,635.0591\\r\\n270,188840,616.7687\\r\\n271,189252,506.29465\\r\\n272,189876,421.98682\\r\\n273,189901,602.7552\\r\\n274,190418,453.5023\\r\\n275,190483,673.9181\\r\\n276,190685,523.83484\\r\\n277,191307,411.7799\\r\\n278,191424,676.6151\\r\\n279,191602,526.71783\\r\\n280,191774,471.76367\\r\\n281,192389,706.4455\\r\\n282,193666,546.57574\\r\\n283,193890,614.11206\\r\\n284,194957,619.42926\\r\\n285,195648,614.9125\\r\\n286,196598,363.3023\\r\\n287,196630,584.8884\\r\\n288,196840,586.84454\\r\\n289,197635,501.47977\\r\\n290,197816,517.79425\\r\\n291,197861,571.49554\\r\\n292,198105,580.3646\\r\\n293,198700,647.19403\\r\\n294,198903,556.99115\\r\\n295,199451,651.8546\\r\\n296,199602,607.39716\\r\\n297,201013,670.1475\\r\\n298,201862,406.87473\\r\\n299,202377,517.95233\\r\\n300,202477,654.23914\\r\\n301,202601,518.76624\\r\\n302,203157,576.3228\\r\\n303,203375,446.51987\\r\\n304,203526,477.9364\\r\\n305,203684,637.08356\\r\\n306,204072,525.92847\\r\\n307,205399,569.53784\\r\\n308,207637,625.51117\\r\\n309,207936,442.62064\\r\\n310,208380,661.16833\\r\\n311,208517,518.52545\\r\\n312,208773,640.0826\\r\\n313,208999,637.3695\\r\\n314,209453,367.547\\r\\n315,209646,615.62164\\r\\n316,210148,538.7648\\r\\n317,210875,578.38074\\r\\n318,210933,589.57605\\r\\n319,211280,668.1327\\r\\n320,211715,562.33203\\r\\n321,211927,599.18134\\r\\n322,212138,464.19675\\r\\n323,212268,366.01218\\r\\n324,212633,617.2209\\r\\n325,213222,524.5704\\r\\n326,214934,623.1133\\r\\n327,215089,525.3105\\r\\n328,215437,717.78577\\r\\n329,216055,472.83752\\r\\n330,216197,647.3517\\r\\n331,216900,470.5866\\r\\n332,217116,643.55676\\r\\n333,217260,564.0882\\r\\n334,217609,658.4806\\r\\n335,218139,611.4872\\r\\n336,220222,467.4959\\r\\n337,220924,419.28827\\r\\n338,220960,614.7958\\r\\n339,221064,538.1439\\r\\n340,221149,664.4214\\r\\n341,222704,511.61636\\r\\n342,223672,631.61084\\r\\n343,223893,535.055\\r\\n344,223979,682.2623\\r\\n345,225113,442.63724\\r\\n346,225652,477.22046\\r\\n347,225724,712.5777\\r\\n348,225854,625.46027\\r\\n349,226368,539.1857\\r\\n350,226636,500.77246\\r\\n351,227145,673.69293\\r\\n352,227649,450.53088\\r\\n353,227716,592.99615\\r\\n354,227877,518.0374\\r\\n355,227996,623.56396\\r\\n356,228420,595.6459\\r\\n357,228710,576.95667\\r\\n358,229175,517.9324\\r\\n359,229244,628.6192\\r\\n360,229743,610.0975\\r\\n361,229897,554.1965\\r\\n362,229995,593.21606\\r\\n363,231277,574.45795\\r\\n364,232299,586.6415\\r\\n365,232481,573.5205\\r\\n366,233903,436.15356\\r\\n367,234233,626.5702\\r\\n368,234790,554.4995\\r\\n369,235313,745.45276\\r\\n370,235499,638.99945\\r\\n371,235601,527.5667\\r\\n372,235859,632.548\\r\\n373,236111,696.5032\\r\\n374,236319,574.6639\\r\\n375,236485,415.11945\\r\\n376,237272,702.6143\\r\\n377,237759,594.2428\\r\\n378,237812,405.81564\\r\\n379,238479,677.65497\\r\\n380,239411,598.79663\\r\\n381,239716,631.8152\\r\\n382,239951,588.9664\\r\\n383,240332,697.7072\\r\\n384,240723,625.72864\\r\\n385,240911,661.1403\\r\\n386,241075,568.20825\\r\\n387,241473,635.06036\\r\\n388,242430,517.80225\\r\\n389,242531,566.6345\\r\\n390,243488,523.0536\\r\\n391,243676,533.6588\\r\\n392,243884,529.03125\\r\\n393,244472,633.26074\\r\\n394,244603,612.38916\\r\\n395,244905,465.35275\\r\\n396,245208,369.05954\\r\\n397,245945,521.4321\\r\\n398,246475,592.2683\\r\\n399,246875,563.46625\\r\\n400,247197,597.60236\\r\\n401,247556,693.40027\\r\\n402,247785,610.8667\\r\\n403,247854,455.95883\\r\\n404,247975,425.07794\\r\\n405,248244,495.17197\\r\\n406,248506,501.14615\\r\\n407,248900,553.0117\\r\\n408,250380,657.9762\\r\\n409,250631,608.9426\\r\\n410,250712,400.62808\\r\\n411,250734,660.0539\\r\\n412,251026,402.96286\\r\\n413,251152,381.778\\r\\n414,251705,637.2167\\r\\n415,252355,482.96994\\r\\n416,252629,587.51166\\r\\n417,252919,651.69104\\r\\n418,253382,680.1239\\r\\n419,253673,491.32672\\r\\n420,253744,487.13092\\r\\n421,254112,648.6695\\r\\n422,254353,668.79376\\r\\n423,255512,519.2114\\r\\n424,255596,659.94775\\r\\n425,255955,605.90704\\r\\n426,256047,654.9697\\r\\n427,256389,536.1899\\r\\n428,257129,400.5665\\r\\n429,257310,376.72232\\r\\n430,257512,546.24567\\r\\n431,257724,508.1752\\r\\n432,258902,509.34888\\r\\n433,259224,328.7721\\r\\n434,259251,701.8065\\r\\n435,259576,554.15326\\r\\n436,260050,536.2242\\r\\n437,260171,510.18762\\r\\n438,260698,617.1652\\r\\n439,261123,525.9293\\r\\n440,261285,668.98474\\r\\n441,261530,520.9039\\r\\n442,261937,605.71027\\r\\n443,263029,661.66736\\r\\n444,263280,535.9813\\r\\n445,263920,600.5529\\r\\n446,264049,458.966\\r\\n447,264107,673.9718\\r\\n448,264309,528.0411\\r\\n449,264806,589.01184\\r\\n450,265244,553.90283\\r\\n451,266202,519.68506\\r\\n452,266579,549.6864\\r\\n453,269044,628.44995\\r\\n454,269264,540.63184\\r\\n455,270306,670.7631\\r\\n456,270570,565.8877\\r\\n457,270702,538.1892\\r\\n458,270944,570.2653\\r\\n459,272684,640.8132\\r\\n460,272926,590.6597\\r\\n461,273125,421.8136\\r\\n462,273740,524.4715\\r\\n463,274610,539.7386\\r\\n464,274930,557.4667\\r\\n465,275497,504.85907\\r\\n466,276110,567.48334\\r\\n467,276569,678.1243\\r\\n468,276689,367.31195\\r\\n469,276722,656.99316\\r\\n470,277041,470.93646\\r\\n471,277269,483.6749\\r\\n472,277331,488.00403\\r\\n473,277861,426.219\\r\\n474,277941,448.36005\\r\\n475,278309,442.81888\\r\\n476,279062,572.2699\\r\\n477,280056,539.36816\\r\\n478,281543,583.6041\\r\\n479,281786,508.4041\\r\\n480,282169,449.22614\\r\\n481,282250,357.34573\\r\\n482,282281,632.14905\\r\\n483,283164,573.23254\\r\\n484,283600,512.24445\\r\\n485,284018,512.37585\\r\\n486,284106,725.3186\\r\\n487,284475,486.82162\\r\\n488,284551,638.15955\\r\\n489,285013,488.97208\\r\\n490,287068,497.82275\\r\\n491,287156,721.13257\\r\\n492,287469,428.7135\\r\\n493,287756,442.03015\\r\\n494,288547,641.21075\\r\\n495,288646,580.05975\\r\\n496,289082,521.1006\\r\\n497,289334,468.81088\\r\\n498,289365,715.3653\\r\\n499,290676,627.33765\\r\\n500,291467,452.96133\\r\\n501,292959,525.0076\\r\\n502,294584,662.70605\\r\\n503,295445,510.9778\\r\\n504,295537,499.88458\\r\\n505,295630,646.0048\\r\\n506,296169,624.60974\\r\\n507,296709,619.9546\\r\\n508,297115,674.29376\\r\\n509,297278,480.41144\\r\\n510,297338,610.26135\\r\\n511,297497,692.7933\\r\\n512,298280,496.6348\\r\\n513,299558,683.81573\\r\\n514,299723,631.4928\\r\\n515,299932,423.1216\\r\\n516,299980,625.1702\\r\\n517,300202,492.8304\\r\\n518,300294,650.6304\\r\\n519,300468,447.6433\\r\\n520,300562,503.1174\\r\\n521,300640,561.48706\\r\\n522,301780,534.96344\\r\\n523,302326,674.3696\\r\\n524,303946,491.97656\\r\\n525,304542,545.55786\\r\\n526,305023,757.94916\\r\\n527,305266,463.82352\\r\\n528,305463,486.58197\\r\\n529,305483,551.94824\\r\\n530,305732,628.7571\\r\\n531,305863,639.33154\\r\\n532,308062,598.364\\r\\n533,308447,518.93427\\r\\n534,308884,501.96768\\r\\n535,309147,610.44385\\r\\n536,309394,490.79907\\r\\n537,310703,504.68265\\r\\n538,310856,400.87003\\r\\n539,311532,573.8331\\r\\n540,311747,631.22833\\r\\n541,311991,645.9043\\r\\n542,312102,589.6154\\r\\n543,312249,597.9758\\r\\n544,312451,687.56274\\r\\n545,312636,601.54535\\r\\n546,312762,395.60007\\r\\n547,312869,521.1416\\r\\n548,313176,597.4508\\r\\n549,314415,641.7322\\r\\n550,314597,631.3921\\r\\n551,314852,663.182\\r\\n552,314980,554.2008\\r\\n553,315167,689.67236\\r\\n554,315741,658.1333\\r\\n555,315946,665.67004\\r\\n556,316257,690.94666\\r\\n557,316685,406.78693\\r\\n558,317323,688.508\\r\\n559,317602,574.6614\\r\\n560,317963,599.878\\r\\n561,318231,412.97003\\r\\n562,318290,427.72043\\r\\n563,318465,546.4379\\r\\n564,318750,638.1658\\r\\n565,319621,587.6666\\r\\n566,319693,638.71497\\r\\n567,320110,405.36765\\r\\n568,320557,513.09674\\r\\n569,321117,449.47125\\r\\n570,321169,521.2279\\r\\n571,322025,478.57837\\r\\n572,322501,430.99493\\r\\n573,322807,559.92975\\r\\n574,323654,508.4919\\r\\n575,323771,599.53503\\r\\n576,324065,502.3355\\r\\n577,324722,528.98254\\r\\n578,325124,550.6295\\r\\n579,325360,523.5649\\r\\n580,326383,560.32196\\r\\n581,326637,574.872\\r\\n582,328036,494.78647\\r\\n583,328249,632.59973\\r\\n584,328439,555.5847\\r\\n585,329384,644.5515\\r\\n586,330165,454.74542\\r\\n587,331080,652.0299\\r\\n588,331938,625.37885\\r\\n589,332033,623.25037\\r\\n590,332171,654.6951\\r\\n591,332889,505.5939\\r\\n592,333177,432.648\\r\\n593,333709,654.0857\\r\\n594,334117,633.9692\\r\\n595,334588,421.09155\\r\\n596,334877,670.1381\\r\\n597,334953,521.4882\\r\\n598,335040,533.11865\\r\\n599,335279,689.57385\\r\\n600,335762,554.88385\\r\\n601,335948,642.2831\\r\\n602,336135,570.3802\\r\\n603,336215,695.10693\\r\\n604,337442,651.24835\\r\\n605,337754,613.50073\\r\\n606,337852,625.62067\\r\\n607,337904,496.41122\\r\\n608,338436,663.1298\\r\\n609,339238,522.7505\\r\\n610,339272,650.8661\\r\\n611,339917,581.3722\\r\\n612,340709,626.2747\\r\\n613,340823,609.45874\\r\\n614,342100,645.0786\\r\\n615,342223,723.89874\\r\\n616,342369,672.3405\\r\\n617,343121,689.12415\\r\\n618,343818,506.8983\\r\\n619,343883,490.70798\\r\\n620,344229,608.5435\\r\\n621,344357,381.5006\\r\\n622,344613,646.80035\\r\\n623,345116,485.41644\\r\\n624,345746,568.675\\r\\n625,346455,514.82544\\r\\n626,346720,483.2047\\r\\n627,346842,553.9748\\r\\n628,347303,555.5214\\r\\n629,347374,359.17245\\r\\n630,347404,634.08203\\r\\n631,348019,626.44775\\r\\n632,348582,514.6777\\r\\n633,348787,829.6498\\r\\n634,348891,462.98572\\r\\n635,348988,600.14465\\r\\n636,349752,450.74966\\r\\n637,350120,576.02563\\r\\n638,350206,523.9307\\r\\n639,350271,488.13092\\r\\n640,350576,646.91406\\r\\n641,351159,523.72797\\r\\n642,351512,614.6032\\r\\n643,351643,432.39627\\r\\n644,352495,543.316\\r\\n645,352601,378.80463\\r\\n646,352737,534.4378\\r\\n647,353962,489.9759\\r\\n648,354222,670.5327\\r\\n649,354389,434.22144\\r\\n650,354662,651.13696\\r\\n651,354953,654.20636\\r\\n652,355043,637.0785\\r\\n653,355982,584.2486\\r\\n654,356204,400.79114\\r\\n655,357635,462.64417\\r\\n656,358118,704.8981\\r\\n657,358510,680.1535\\r\\n658,358841,385.09778\\r\\n659,359003,616.0353\\r\\n660,359186,537.21063\\r\\n661,359282,636.4427\\r\\n662,360373,360.4948\\r\\n663,360584,430.44095\\r\\n664,360679,576.3296\\r\\n665,361107,587.99774\\r\\n666,361743,556.75146\\r\\n667,361957,600.3556\\r\\n668,362320,546.2337\\r\\n669,362394,566.653\\r\\n670,362488,666.6288\\r\\n671,363352,670.80945\\r\\n672,364019,409.85678\\r\\n673,364526,701.53796\\r\\n674,364856,565.41705\\r\\n675,365021,624.04456\\r\\n676,365126,550.2815\\r\\n677,365726,645.99817\\r\\n678,365868,586.0414\\r\\n679,367185,581.0936\\r\\n680,367819,609.7933\\r\\n681,368135,408.99597\\r\\n682,368360,651.57245\\r\\n683,368850,573.18896\\r\\n684,368903,626.58997\\r\\n685,370579,682.49994\\r\\n686,371486,472.41074\\r\\n687,371582,475.97568\\r\\n688,371831,715.3813\\r\\n689,372274,611.3594\\r\\n690,372361,505.32935\\r\\n691,374225,565.3045\\r\\n692,375055,690.7219\\r\\n693,375379,622.1955\\r\\n694,376224,513.27637\\r\\n695,376309,733.86975\\r\\n696,377022,683.7947\\r\\n697,377606,661.03467\\r\\n698,377953,517.9471\\r\\n699,378088,454.0224\\r\\n700,378153,417.73532\\r\\n701,378438,666.9594\\r\\n702,379137,570.1198\\r\\n703,379231,687.6102\\r\\n704,379969,466.98495\\r\\n705,380038,733.91675\\r\\n706,380909,550.8455\\r\\n707,381695,545.6603\\r\\n708,381849,650.54114\\r\\n709,382670,650.249\\r\\n710,382994,643.60065\\r\\n711,383744,624.3256\\r\\n712,384327,624.6068\\r\\n713,384416,638.83044\\r\\n714,384744,680.2538\\r\\n715,384915,707.7319\\r\\n716,385136,665.9926\\r\\n717,385319,581.8276\\r\\n718,386693,529.586\\r\\n719,387030,344.76578\\r\\n720,387278,517.30035\\r\\n721,388353,591.54913\\r\\n722,388428,702.93835\\r\\n723,388740,471.40234\\r\\n724,389048,340.2493\\r\\n725,389064,567.8443\\r\\n726,389143,532.1609\\r\\n727,389264,682.8249\\r\\n728,389389,393.13123\\r\\n729,389560,415.37482\\r\\n730,389972,639.5482\\r\\n731,390227,576.8553\\r\\n732,390791,481.48642\\r\\n733,391339,624.27344\\r\\n734,391714,422.11612\\r\\n735,391742,379.15442\\r\\n736,392042,633.5189\\r\\n737,392751,503.44476\\r\\n738,392844,592.28064\\r\\n739,393890,566.1587\\r\\n740,394472,455.61127\\r\\n741,395374,631.49866\\r\\n742,396036,491.5284\\r\\n743,396471,563.7228\\r\\n744,397173,420.7938\\r\\n745,397453,521.08875\\r\\n746,397735,580.8945\\r\\n747,397871,676.68866\\r\\n748,398154,704.3218\\r\\n749,398319,439.20557\\r\\n750,398519,543.96387\\r\\n751,400012,664.1285\\r\\n752,400175,552.81195\\r\\n753,400990,464.86017\\r\\n754,401374,651.9669\\r\\n755,401521,479.68182\\r\\n756,401810,569.0299\\r\\n757,402515,622.06464\\r\\n758,403095,537.05615\\r\\n759,403772,531.15015\\r\\n760,403831,569.4079\\r\\n761,404162,567.6324\\r\\n762,404337,573.45184\\r\\n763,405721,581.27954\\r\\n764,406097,537.8545\\r\\n765,406214,574.1349\\r\\n766,406451,502.27106\\r\\n767,406621,486.54205\\r\\n768,406678,481.73694\\r\\n769,407791,457.40277\\r\\n770,407929,731.5808\\r\\n771,408343,531.15234\\r\\n772,408381,615.41565\\r\\n773,408608,658.0896\\r\\n774,408923,583.412\\r\\n775,409261,629.70575\\r\\n776,409606,505.92508\\r\\n777,409863,586.265\\r\\n778,410194,452.64685\\r\\n779,411558,695.2254\\r\\n780,412428,515.65594\\r\\n781,413006,525.98035\\r\\n782,413130,591.90625\\r\\n783,413471,577.6249\\r\\n784,414090,652.5902\\r\\n785,414236,351.21738\\r\\n786,414256,639.2337\\r\\n787,414700,514.0574\\r\\n788,414986,569.1791\\r\\n789,415155,619.1991\\r\\n790,416200,645.1248\\r\\n791,416283,452.72702\\r\\n792,416547,475.51434\\r\\n793,416590,696.0339\\r\\n794,417789,698.40955\\r\\n795,418953,636.16473\\r\\n796,419781,555.8465\\r\\n797,419912,648.70734\\r\\n798,420499,449.89127\\r\\n799,420587,644.2277\\r\\n800,420863,550.80066\\r\\n801,420976,719.0125\\r\\n802,423000,593.89374\\r\\n803,423082,581.7386\\r\\n804,423633,622.50055\\r\\n805,424047,549.6731\\r\\n806,424866,535.81915\\r\\n807,424945,549.3251\\r\\n808,425773,628.36096\\r\\n809,426324,510.62897\\r\\n810,426703,705.5494\\r\\n811,427204,475.1495\\r\\n812,427665,677.3278\\r\\n813,427749,593.9112\\r\\n814,428054,468.27338\\r\\n815,428357,603.7086\\r\\n816,428432,668.7886\\r\\n817,428852,541.72144\\r\\n818,428984,620.86084\\r\\n819,429327,515.7172\\r\\n820,429948,526.4961\\r\\n821,430140,543.6974\\r\\n822,430231,470.00406\\r\\n823,432397,524.7496\\r\\n824,432453,652.4119\\r\\n825,433438,616.3756\\r\\n826,434622,582.03937\\r\\n827,435574,672.7213\\r\\n828,436278,627.8479\\r\\n829,436549,608.96515\\r\\n830,436694,580.57935\\r\\n831,436786,619.1788\\r\\n832,437752,542.6352\\r\\n833,437824,596.36755\\r\\n834,438308,651.6657\\r\\n835,438903,488.73175\\r\\n836,439061,656.724\\r\\n837,440250,682.432\\r\\n838,441731,529.47675\\r\\n839,442130,637.56476\\r\\n840,442630,519.47784\\r\\n841,443439,477.54132\\r\\n842,443714,644.08813\\r\\n843,444930,621.30634\\r\\n844,445071,817.6628\\r\\n845,445731,595.31525\\r\\n846,445943,642.5975\\r\\n847,446911,552.6\\r\\n848,447451,613.39276\\r\\n849,447793,706.87695\\r\\n850,448219,645.8369\\r\\n851,449029,619.05316\\r\\n852,449369,444.1144\\r\\n853,450349,508.17578\\r\\n854,450478,525.9787\\r\\n855,451188,610.05054\\r\\n856,451400,587.6118\\r\\n857,451965,642.73334\\r\\n858,452312,666.5911\\r\\n859,452686,467.07968\\r\\n860,453306,669.8034\\r\\n861,453617,651.2734\\r\\n862,454111,621.5764\\r\\n863,455703,560.1743\\r\\n864,456021,599.2768\\r\\n865,459205,587.92126\\r\\n866,459468,534.67224\\r\\n867,459522,544.20447\\r\\n868,460547,522.27185\\r\\n869,460635,541.3637\\r\\n870,462226,603.322\\r\\n871,462949,464.71985\\r\\n872,463201,678.4782\\r\\n873,463367,560.08374\\r\\n874,463528,679.2123\\r\\n875,464036,558.9549\\r\\n876,464117,597.29724\\r\\n877,464650,397.27966\\r\\n878,465002,546.16364\\r\\n879,466270,623.5633\\r\\n880,466398,696.0261\\r\\n881,466592,426.12775\\r\\n882,467201,624.0765\\r\\n883,468070,571.9674\\r\\n884,468451,533.2953\\r\\n885,469169,487.88568\\r\\n886,469961,674.8913\\r\\n887,470422,509.74414\\r\\n888,470614,582.31287\\r\\n889,471445,554.78973\\r\\n890,471535,488.5363\\r\\n891,471971,501.25653\\r\\n892,472373,468.17496\\r\\n893,472652,513.88434\\r\\n894,473861,435.59344\\r\\n895,474403,576.5648\\r\\n896,475709,553.6174\\r\\n897,476314,690.0939\\r\\n898,476788,626.19824\\r\\n899,477466,577.846\\r\\n900,477579,518.5903\\r\\n901,477767,736.68335\\r\\n902,478130,616.9356\\r\\n903,479834,683.65717\\r\\n904,480402,625.7596\\r\\n905,481358,612.97437\\r\\n906,482203,641.3824\\r\\n907,482874,592.772\\r\\n908,483359,355.302\\r\\n909,483395,487.41635\\r\\n910,483594,674.3786\\r\\n911,483739,603.83466\\r\\n912,484508,637.99243\\r\\n913,485287,560.7154\\r\\n914,485383,517.8628\\r\\n915,486520,637.4303\\r\\n916,486810,549.32666\\r\\n917,487063,566.21906\\r\\n918,487357,624.98486\\r\\n919,487569,595.11975\\r\\n920,487662,649.28735\\r\\n921,487833,614.97424\\r\\n922,488841,544.441\\r\\n923,489110,734.2184\\r\\n924,489603,400.0003\\r\\n925,489963,532.89594\\r\\n926,490017,657.5362\\r\\n927,490190,601.1042\\r\\n928,490357,428.4254\\r\\n929,490416,658.90814\\r\\n930,490972,535.55786\\r\\n931,491235,661.11707\\r\\n932,491568,548.3694\\r\\n933,492553,576.65015\\r\\n934,493129,634.4942\\r\\n935,493384,528.87036\\r\\n936,493717,674.27563\\r\\n937,494983,578.70605\\r\\n938,495062,546.6946\\r\\n939,495799,595.696\\r\\n940,497889,542.37494\\r\\n941,497925,366.9172\\r\\n942,500284,662.728\\r\\n943,501433,458.57495\\r\\n944,501502,496.72488\\r\\n945,501756,632.6895\\r\\n946,502224,631.5968\\r\\n947,502357,700.57245\\r\\n948,502878,639.22986\\r\\n949,503336,647.7958\\r\\n950,503657,696.1607\\r\\n951,504798,627.8071\\r\\n952,505976,658.1032\\r\\n953,506424,509.58347\\r\\n954,506485,431.20047\\r\\n955,506626,631.44763\\r\\n956,507255,456.54965\\r\\n957,507472,458.12146\\r\\n958,507511,642.3752\\r\\n959,507707,778.6378\\r\\n960,509028,626.5655\\r\\n961,509379,612.22876\\r\\n962,509758,559.0869\\r\\n963,510383,567.25354\\r\\n964,510915,538.8209\\r\\n965,511723,580.2734\\r\\n966,512312,611.65204\\r\\n967,512869,681.2455\\r\\n968,515397,685.77\\r\\n969,516892,627.37665\\r\\n970,517730,575.40576\\r\\n971,518331,490.7152\\r\\n972,518391,399.0779\\r\\n973,518627,451.93024\\r\\n974,518845,612.77655\\r\\n975,518903,492.30664\\r\\n976,519068,484.32574\\r\\n977,519367,618.7888\\r\\n978,519989,572.9392\\r\\n979,520308,539.4254\\r\\n980,520570,573.8169\\r\\n981,520663,562.8963\\r\\n982,520926,620.20465\\r\\n983,521319,575.404\\r\\n984,521494,675.02655\\r\\n985,521656,654.0838\\r\\n986,521939,585.5807\\r\\n987,522022,495.07294\\r\\n988,522406,594.1456\\r\\n989,522894,592.15955\\r\\n990,523146,527.5463\\r\\n991,523327,520.03265\\r\\n992,524039,515.584\\r\\n993,524664,569.42096\\r\\n994,524974,511.99164\\r\\n995,525706,535.2781\\r\\n996,526604,549.52\\r\\n997,527213,521.2699\\r\\n998,527520,350.89417\\r\\n999,527850,700.7479\\r\\n'"
      ]
     },
     "execution_count": 341,
     "metadata": {},
     "output_type": "execute_result"
    }
   ],
   "source": [
    "df_test.to_csv()"
   ]
  },
  {
   "cell_type": "code",
   "execution_count": null,
   "id": "52964725",
   "metadata": {},
   "outputs": [],
   "source": []
  }
 ],
 "metadata": {
  "kernelspec": {
   "display_name": "Python 3 (ipykernel)",
   "language": "python",
   "name": "python3"
  },
  "language_info": {
   "codemirror_mode": {
    "name": "ipython",
    "version": 3
   },
   "file_extension": ".py",
   "mimetype": "text/x-python",
   "name": "python",
   "nbconvert_exporter": "python",
   "pygments_lexer": "ipython3",
   "version": "3.9.12"
  }
 },
 "nbformat": 4,
 "nbformat_minor": 5
}
