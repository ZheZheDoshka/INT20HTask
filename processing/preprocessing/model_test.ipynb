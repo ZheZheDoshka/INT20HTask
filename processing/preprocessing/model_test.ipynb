{
 "cells": [
  {
   "cell_type": "code",
   "execution_count": 1,
   "id": "d480605b",
   "metadata": {},
   "outputs": [],
   "source": [
    "\n",
    "import matplotlib.pyplot as plt\n",
    "import pandas as pd\n",
    "import numpy as np\n",
    "\n",
    "import keras\n",
    "from keras.layers import LSTM, Embedding, Dense, Flatten, Dropout, Add, Multiply\n",
    "from keras.layers import Input, LayerNormalization\n",
    "from keras import Sequential\n",
    "from keras import Model\n",
    "from keras.models import save_model, load_model\n",
    "\n",
    "from skimage import io\n",
    "from skimage.transform import rescale, resize, downscale_local_mean\n",
    "\n",
    "from sklearn.model_selection import train_test_split\n",
    "\n",
    "from tensorflow.keras.metrics import RootMeanSquaredError\n",
    "import math"
   ]
  },
  {
   "cell_type": "code",
   "execution_count": 2,
   "id": "9c2169a2",
   "metadata": {},
   "outputs": [],
   "source": [
    "import data_preprocessing"
   ]
  },
  {
   "cell_type": "code",
   "execution_count": null,
   "id": "82f5aa1a",
   "metadata": {},
   "outputs": [],
   "source": []
  },
  {
   "cell_type": "code",
   "execution_count": 3,
   "id": "54b80d7d",
   "metadata": {},
   "outputs": [],
   "source": [
    "def remove_nan(df_node):\n",
    "    mean = np.nanmean(df_node['speed'])\n",
    "    df_node['speed'] = df_node['speed'].replace()\n",
    "    return df_node"
   ]
  },
  {
   "cell_type": "code",
   "execution_count": 4,
   "id": "48244e46",
   "metadata": {},
   "outputs": [],
   "source": [
    "def av_time(row):\n",
    "    temp_df = nodes_df[nodes_df['Id'] ==row[\"Id\"]]\n",
    "    time = (temp_df['distance']/(temp_df['speed']))\n",
    "    total_time = sum(time)/1000\n",
    "    return total_time"
   ]
  },
  {
   "cell_type": "code",
   "execution_count": 5,
   "id": "53b84523",
   "metadata": {},
   "outputs": [],
   "source": [
    "def av_speed(row):\n",
    "    return row[\"route_distance_km\"]/row[\"av_time_H\"]"
   ]
  },
  {
   "cell_type": "code",
   "execution_count": 6,
   "id": "6a1bd80e",
   "metadata": {},
   "outputs": [],
   "source": [
    "def num_nods(row):\n",
    "    temp_df = nodes_df[nodes_df['Id'] ==row[\"Id\"]]\n",
    "    return len(temp_df)"
   ]
  },
  {
   "cell_type": "code",
   "execution_count": 97,
   "id": "9c8fbd61",
   "metadata": {},
   "outputs": [
    {
     "data": {
      "text/plain": [
       "272"
      ]
     },
     "execution_count": 97,
     "metadata": {},
     "output_type": "execute_result"
    }
   ],
   "source": [
    "a = 0\n",
    "for i in df[\"Id\"]:\n",
    "    b = len(nodes_df[nodes_df['Id'] == i])\n",
    "    if b>a:\n",
    "        a = b\n",
    "a"
   ]
  },
  {
   "cell_type": "code",
   "execution_count": 93,
   "id": "8285de83",
   "metadata": {},
   "outputs": [
    {
     "data": {
      "text/html": [
       "<div>\n",
       "<style scoped>\n",
       "    .dataframe tbody tr th:only-of-type {\n",
       "        vertical-align: middle;\n",
       "    }\n",
       "\n",
       "    .dataframe tbody tr th {\n",
       "        vertical-align: top;\n",
       "    }\n",
       "\n",
       "    .dataframe thead th {\n",
       "        text-align: right;\n",
       "    }\n",
       "</style>\n",
       "<table border=\"1\" class=\"dataframe\">\n",
       "  <thead>\n",
       "    <tr style=\"text-align: right;\">\n",
       "      <th></th>\n",
       "      <th>Id</th>\n",
       "      <th>running_time</th>\n",
       "      <th>completed_time</th>\n",
       "      <th>route_distance_km</th>\n",
       "      <th>delta_time</th>\n",
       "      <th>time</th>\n",
       "      <th>month</th>\n",
       "      <th>quarter</th>\n",
       "      <th>day_week</th>\n",
       "      <th>weekend</th>\n",
       "      <th>minute</th>\n",
       "      <th>hour</th>\n",
       "      <th>av_time_H</th>\n",
       "      <th>num_nods</th>\n",
       "      <th>av_speed_kmH</th>\n",
       "    </tr>\n",
       "  </thead>\n",
       "  <tbody>\n",
       "    <tr>\n",
       "      <th>0</th>\n",
       "      <td>-4773019581999572651</td>\n",
       "      <td>2022-01-24 18:30:21</td>\n",
       "      <td>2022-01-24 18:44:43</td>\n",
       "      <td>3.740</td>\n",
       "      <td>862.0</td>\n",
       "      <td>2022-01-24 18:30:21</td>\n",
       "      <td>1</td>\n",
       "      <td>1</td>\n",
       "      <td>0</td>\n",
       "      <td>0</td>\n",
       "      <td>30.0</td>\n",
       "      <td>18.0</td>\n",
       "      <td>0.123829</td>\n",
       "      <td>106</td>\n",
       "      <td>30.202871</td>\n",
       "    </tr>\n",
       "    <tr>\n",
       "      <th>1</th>\n",
       "      <td>-7575630690398473489</td>\n",
       "      <td>2022-01-24 06:53:53</td>\n",
       "      <td>2022-01-24 07:06:26</td>\n",
       "      <td>3.526</td>\n",
       "      <td>753.0</td>\n",
       "      <td>2022-01-24 06:53:53</td>\n",
       "      <td>1</td>\n",
       "      <td>1</td>\n",
       "      <td>0</td>\n",
       "      <td>0</td>\n",
       "      <td>53.0</td>\n",
       "      <td>6.0</td>\n",
       "      <td>0.094348</td>\n",
       "      <td>61</td>\n",
       "      <td>37.372254</td>\n",
       "    </tr>\n",
       "    <tr>\n",
       "      <th>2</th>\n",
       "      <td>-6264582368520213833</td>\n",
       "      <td>2022-01-24 10:00:59</td>\n",
       "      <td>2022-01-24 10:15:58</td>\n",
       "      <td>5.071</td>\n",
       "      <td>899.0</td>\n",
       "      <td>2022-01-24 10:00:59</td>\n",
       "      <td>1</td>\n",
       "      <td>1</td>\n",
       "      <td>0</td>\n",
       "      <td>0</td>\n",
       "      <td>0.0</td>\n",
       "      <td>10.0</td>\n",
       "      <td>0.154315</td>\n",
       "      <td>151</td>\n",
       "      <td>32.861256</td>\n",
       "    </tr>\n",
       "    <tr>\n",
       "      <th>3</th>\n",
       "      <td>5964315354301636538</td>\n",
       "      <td>2022-01-24 14:28:05</td>\n",
       "      <td>2022-01-24 14:35:08</td>\n",
       "      <td>2.867</td>\n",
       "      <td>423.0</td>\n",
       "      <td>2022-01-24 14:28:05</td>\n",
       "      <td>1</td>\n",
       "      <td>1</td>\n",
       "      <td>0</td>\n",
       "      <td>0</td>\n",
       "      <td>28.0</td>\n",
       "      <td>14.0</td>\n",
       "      <td>0.090993</td>\n",
       "      <td>69</td>\n",
       "      <td>31.507933</td>\n",
       "    </tr>\n",
       "    <tr>\n",
       "      <th>4</th>\n",
       "      <td>1372379574816145639</td>\n",
       "      <td>2022-01-24 11:57:29</td>\n",
       "      <td>2022-01-24 12:06:29</td>\n",
       "      <td>3.751</td>\n",
       "      <td>540.0</td>\n",
       "      <td>2022-01-24 11:57:29</td>\n",
       "      <td>1</td>\n",
       "      <td>1</td>\n",
       "      <td>0</td>\n",
       "      <td>0</td>\n",
       "      <td>57.0</td>\n",
       "      <td>11.0</td>\n",
       "      <td>0.114511</td>\n",
       "      <td>81</td>\n",
       "      <td>32.756669</td>\n",
       "    </tr>\n",
       "    <tr>\n",
       "      <th>...</th>\n",
       "      <td>...</td>\n",
       "      <td>...</td>\n",
       "      <td>...</td>\n",
       "      <td>...</td>\n",
       "      <td>...</td>\n",
       "      <td>...</td>\n",
       "      <td>...</td>\n",
       "      <td>...</td>\n",
       "      <td>...</td>\n",
       "      <td>...</td>\n",
       "      <td>...</td>\n",
       "      <td>...</td>\n",
       "      <td>...</td>\n",
       "      <td>...</td>\n",
       "      <td>...</td>\n",
       "    </tr>\n",
       "    <tr>\n",
       "      <th>4995</th>\n",
       "      <td>7096714159023973792</td>\n",
       "      <td>2022-01-24 21:10:38</td>\n",
       "      <td>2022-01-24 21:23:53</td>\n",
       "      <td>7.397</td>\n",
       "      <td>795.0</td>\n",
       "      <td>2022-01-24 21:10:38</td>\n",
       "      <td>1</td>\n",
       "      <td>1</td>\n",
       "      <td>0</td>\n",
       "      <td>0</td>\n",
       "      <td>10.0</td>\n",
       "      <td>21.0</td>\n",
       "      <td>0.152364</td>\n",
       "      <td>114</td>\n",
       "      <td>48.548230</td>\n",
       "    </tr>\n",
       "    <tr>\n",
       "      <th>4996</th>\n",
       "      <td>-3836026425968071806</td>\n",
       "      <td>2022-01-24 15:10:27</td>\n",
       "      <td>2022-01-24 15:20:21</td>\n",
       "      <td>1.948</td>\n",
       "      <td>594.0</td>\n",
       "      <td>2022-01-24 15:10:27</td>\n",
       "      <td>1</td>\n",
       "      <td>1</td>\n",
       "      <td>0</td>\n",
       "      <td>0</td>\n",
       "      <td>10.0</td>\n",
       "      <td>15.0</td>\n",
       "      <td>0.095044</td>\n",
       "      <td>40</td>\n",
       "      <td>20.495674</td>\n",
       "    </tr>\n",
       "    <tr>\n",
       "      <th>4997</th>\n",
       "      <td>2926216435675216636</td>\n",
       "      <td>2022-01-24 13:57:04</td>\n",
       "      <td>2022-01-24 14:03:18</td>\n",
       "      <td>2.547</td>\n",
       "      <td>374.0</td>\n",
       "      <td>2022-01-24 13:57:04</td>\n",
       "      <td>1</td>\n",
       "      <td>1</td>\n",
       "      <td>0</td>\n",
       "      <td>0</td>\n",
       "      <td>57.0</td>\n",
       "      <td>13.0</td>\n",
       "      <td>0.074323</td>\n",
       "      <td>60</td>\n",
       "      <td>34.269213</td>\n",
       "    </tr>\n",
       "    <tr>\n",
       "      <th>4998</th>\n",
       "      <td>-6677307480063489707</td>\n",
       "      <td>2022-01-24 08:46:13</td>\n",
       "      <td>2022-01-24 08:55:34</td>\n",
       "      <td>3.013</td>\n",
       "      <td>561.0</td>\n",
       "      <td>2022-01-24 08:46:13</td>\n",
       "      <td>1</td>\n",
       "      <td>1</td>\n",
       "      <td>0</td>\n",
       "      <td>0</td>\n",
       "      <td>46.0</td>\n",
       "      <td>8.0</td>\n",
       "      <td>0.085984</td>\n",
       "      <td>71</td>\n",
       "      <td>35.041395</td>\n",
       "    </tr>\n",
       "    <tr>\n",
       "      <th>4999</th>\n",
       "      <td>-4845695090750648713</td>\n",
       "      <td>2022-01-24 14:57:46</td>\n",
       "      <td>2022-01-24 15:11:25</td>\n",
       "      <td>2.323</td>\n",
       "      <td>819.0</td>\n",
       "      <td>2022-01-24 14:57:46</td>\n",
       "      <td>1</td>\n",
       "      <td>1</td>\n",
       "      <td>0</td>\n",
       "      <td>0</td>\n",
       "      <td>57.0</td>\n",
       "      <td>14.0</td>\n",
       "      <td>0.091406</td>\n",
       "      <td>45</td>\n",
       "      <td>25.413991</td>\n",
       "    </tr>\n",
       "  </tbody>\n",
       "</table>\n",
       "<p>5000 rows × 15 columns</p>\n",
       "</div>"
      ],
      "text/plain": [
       "                       Id         running_time       completed_time  \\\n",
       "0    -4773019581999572651  2022-01-24 18:30:21  2022-01-24 18:44:43   \n",
       "1    -7575630690398473489  2022-01-24 06:53:53  2022-01-24 07:06:26   \n",
       "2    -6264582368520213833  2022-01-24 10:00:59  2022-01-24 10:15:58   \n",
       "3     5964315354301636538  2022-01-24 14:28:05  2022-01-24 14:35:08   \n",
       "4     1372379574816145639  2022-01-24 11:57:29  2022-01-24 12:06:29   \n",
       "...                   ...                  ...                  ...   \n",
       "4995  7096714159023973792  2022-01-24 21:10:38  2022-01-24 21:23:53   \n",
       "4996 -3836026425968071806  2022-01-24 15:10:27  2022-01-24 15:20:21   \n",
       "4997  2926216435675216636  2022-01-24 13:57:04  2022-01-24 14:03:18   \n",
       "4998 -6677307480063489707  2022-01-24 08:46:13  2022-01-24 08:55:34   \n",
       "4999 -4845695090750648713  2022-01-24 14:57:46  2022-01-24 15:11:25   \n",
       "\n",
       "      route_distance_km  delta_time                time  month  quarter  \\\n",
       "0                 3.740       862.0 2022-01-24 18:30:21      1        1   \n",
       "1                 3.526       753.0 2022-01-24 06:53:53      1        1   \n",
       "2                 5.071       899.0 2022-01-24 10:00:59      1        1   \n",
       "3                 2.867       423.0 2022-01-24 14:28:05      1        1   \n",
       "4                 3.751       540.0 2022-01-24 11:57:29      1        1   \n",
       "...                 ...         ...                 ...    ...      ...   \n",
       "4995              7.397       795.0 2022-01-24 21:10:38      1        1   \n",
       "4996              1.948       594.0 2022-01-24 15:10:27      1        1   \n",
       "4997              2.547       374.0 2022-01-24 13:57:04      1        1   \n",
       "4998              3.013       561.0 2022-01-24 08:46:13      1        1   \n",
       "4999              2.323       819.0 2022-01-24 14:57:46      1        1   \n",
       "\n",
       "      day_week  weekend  minute  hour  av_time_H  num_nods  av_speed_kmH  \n",
       "0            0        0    30.0  18.0   0.123829       106     30.202871  \n",
       "1            0        0    53.0   6.0   0.094348        61     37.372254  \n",
       "2            0        0     0.0  10.0   0.154315       151     32.861256  \n",
       "3            0        0    28.0  14.0   0.090993        69     31.507933  \n",
       "4            0        0    57.0  11.0   0.114511        81     32.756669  \n",
       "...        ...      ...     ...   ...        ...       ...           ...  \n",
       "4995         0        0    10.0  21.0   0.152364       114     48.548230  \n",
       "4996         0        0    10.0  15.0   0.095044        40     20.495674  \n",
       "4997         0        0    57.0  13.0   0.074323        60     34.269213  \n",
       "4998         0        0    46.0   8.0   0.085984        71     35.041395  \n",
       "4999         0        0    57.0  14.0   0.091406        45     25.413991  \n",
       "\n",
       "[5000 rows x 15 columns]"
      ]
     },
     "execution_count": 93,
     "metadata": {},
     "output_type": "execute_result"
    }
   ],
   "source": [
    "df"
   ]
  },
  {
   "cell_type": "code",
   "execution_count": null,
   "id": "6238a897",
   "metadata": {},
   "outputs": [],
   "source": []
  },
  {
   "cell_type": "code",
   "execution_count": 18,
   "id": "961f8e72",
   "metadata": {},
   "outputs": [],
   "source": [
    "orders_df = pd.read_csv('../../data/initial/orders.csv')"
   ]
  },
  {
   "cell_type": "code",
   "execution_count": 9,
   "id": "4ccce669",
   "metadata": {},
   "outputs": [],
   "source": [
    "orders_df_test = pd.read_csv('../../data/initial/final_test.csv')"
   ]
  },
  {
   "cell_type": "code",
   "execution_count": null,
   "id": "43a64f4e",
   "metadata": {},
   "outputs": [],
   "source": []
  },
  {
   "cell_type": "code",
   "execution_count": 270,
   "id": "9550850f",
   "metadata": {},
   "outputs": [],
   "source": [
    "time_columns = [\"month\", \"quarter\", \"day_week\", \"weekend\", \"minute\", \"hour\"]"
   ]
  },
  {
   "cell_type": "code",
   "execution_count": 271,
   "id": "6755b223",
   "metadata": {},
   "outputs": [],
   "source": [
    "static_columns = [\"route_distance_km\", \"av_time_H\", \"av_speed_kmH\", \"num_nods\"]"
   ]
  },
  {
   "cell_type": "code",
   "execution_count": null,
   "id": "6b099068",
   "metadata": {},
   "outputs": [],
   "source": []
  },
  {
   "cell_type": "code",
   "execution_count": 14,
   "id": "0fde3344",
   "metadata": {},
   "outputs": [],
   "source": [
    "df = data_preprocessing.date_transform(orders_df)"
   ]
  },
  {
   "cell_type": "code",
   "execution_count": null,
   "id": "818c3d4e",
   "metadata": {},
   "outputs": [],
   "source": []
  },
  {
   "cell_type": "code",
   "execution_count": null,
   "id": "d2221f1f",
   "metadata": {},
   "outputs": [],
   "source": []
  },
  {
   "cell_type": "code",
   "execution_count": null,
   "id": "bc81013e",
   "metadata": {},
   "outputs": [],
   "source": []
  },
  {
   "cell_type": "code",
   "execution_count": 15,
   "id": "45d7909d",
   "metadata": {},
   "outputs": [],
   "source": [
    "df_test =  data_preprocessing.date_transform(orders_df_test)"
   ]
  },
  {
   "cell_type": "code",
   "execution_count": 96,
   "id": "0dfe37fe",
   "metadata": {
    "scrolled": false
   },
   "outputs": [],
   "source": [
    "nodes_df = pd.read_csv('../../data/initial/nodes.csv')"
   ]
  },
  {
   "cell_type": "code",
   "execution_count": 23,
   "id": "79d699e6",
   "metadata": {},
   "outputs": [],
   "source": [
    "nodes_df = remove_nan(nodes_df)"
   ]
  },
  {
   "cell_type": "code",
   "execution_count": 24,
   "id": "cfa06b27",
   "metadata": {},
   "outputs": [],
   "source": [
    "df[\"av_time_H\"] = df.apply(av_time, axis=1)"
   ]
  },
  {
   "cell_type": "code",
   "execution_count": 25,
   "id": "bcc827fc",
   "metadata": {},
   "outputs": [],
   "source": [
    "df[\"num_nods\"] = df.apply(num_nods, axis=1)"
   ]
  },
  {
   "cell_type": "code",
   "execution_count": 26,
   "id": "e30fdcf8",
   "metadata": {},
   "outputs": [],
   "source": [
    "df[\"av_speed_kmH\"] = df.apply(av_speed, axis=1)"
   ]
  },
  {
   "cell_type": "code",
   "execution_count": 86,
   "id": "5386938c",
   "metadata": {},
   "outputs": [],
   "source": [
    "nodes_df = pd.read_csv('../../data/initial/nodes_test.csv')"
   ]
  },
  {
   "cell_type": "code",
   "execution_count": 87,
   "id": "423b56f4",
   "metadata": {},
   "outputs": [],
   "source": [
    "nodes_df = remove_nan(nodes_df)"
   ]
  },
  {
   "cell_type": "code",
   "execution_count": 88,
   "id": "f2b4a273",
   "metadata": {},
   "outputs": [],
   "source": [
    "df_test[\"av_time_H\"] = df_test.apply(av_time, axis=1)"
   ]
  },
  {
   "cell_type": "code",
   "execution_count": 89,
   "id": "e0a32f52",
   "metadata": {},
   "outputs": [],
   "source": [
    "df_test[\"av_speed_kmH\"] = df_test.apply(av_speed, axis=1)"
   ]
  },
  {
   "cell_type": "code",
   "execution_count": 90,
   "id": "35b065a1",
   "metadata": {},
   "outputs": [],
   "source": [
    "df_test[\"num_nods\"] = df_test.apply(num_nods, axis=1)"
   ]
  },
  {
   "cell_type": "code",
   "execution_count": 237,
   "id": "6aa872d6",
   "metadata": {},
   "outputs": [],
   "source": [
    "x = df.drop(['completed_time', 'running_time', \"time\", 'delta_time'], axis = 1)"
   ]
  },
  {
   "cell_type": "code",
   "execution_count": 238,
   "id": "cf0383b0",
   "metadata": {},
   "outputs": [
    {
     "data": {
      "text/plain": [
       "11"
      ]
     },
     "execution_count": 238,
     "metadata": {},
     "output_type": "execute_result"
    }
   ],
   "source": [
    "len(x.columns)"
   ]
  },
  {
   "cell_type": "code",
   "execution_count": 239,
   "id": "4e2a1b92",
   "metadata": {},
   "outputs": [],
   "source": [
    "\n",
    "#x_test = df_test.drop(['Id','completed_time', 'running_time', \"time\", 'delta_time'], axis = 1)"
   ]
  },
  {
   "cell_type": "code",
   "execution_count": 240,
   "id": "887e22ac",
   "metadata": {},
   "outputs": [
    {
     "data": {
      "text/plain": [
       "Index(['Id', 'route_distance_km', 'month', 'quarter', 'day_week', 'weekend',\n",
       "       'minute', 'hour', 'av_time_H', 'num_nods', 'av_speed_kmH'],\n",
       "      dtype='object')"
      ]
     },
     "execution_count": 240,
     "metadata": {},
     "output_type": "execute_result"
    }
   ],
   "source": [
    "x.columns"
   ]
  },
  {
   "cell_type": "code",
   "execution_count": 241,
   "id": "32f781db",
   "metadata": {},
   "outputs": [],
   "source": [
    "y = df['delta_time']"
   ]
  },
  {
   "cell_type": "code",
   "execution_count": 242,
   "id": "f4640c26",
   "metadata": {},
   "outputs": [],
   "source": [
    "x_test = df_test.drop(['running_time', \"time\"], axis = 1)"
   ]
  },
  {
   "cell_type": "code",
   "execution_count": 243,
   "id": "99aea8df",
   "metadata": {},
   "outputs": [],
   "source": [
    "#x_test = np.asarray(x_test).astype('float32')\n",
    "#y_test = np.asarray(y_test).astype('float32')"
   ]
  },
  {
   "cell_type": "code",
   "execution_count": 244,
   "id": "650b9618",
   "metadata": {},
   "outputs": [],
   "source": [
    "X_train, Y_train = x, y\n",
    "X_test, Y_test = x_test, y_test"
   ]
  },
  {
   "cell_type": "code",
   "execution_count": 275,
   "id": "351b5733",
   "metadata": {},
   "outputs": [],
   "source": [
    "static_x_test = X_test.drop(time_columns, axis = 1)\n",
    "time_x_test = X_test.drop(static_columns, axis = 1)\n",
    "\n",
    "\n",
    "static_x_train = X_train.drop(time_columns, axis = 1)\n",
    "time_x_train = X_train.drop(static_columns, axis = 1)"
   ]
  },
  {
   "cell_type": "code",
   "execution_count": 277,
   "id": "149e4543",
   "metadata": {},
   "outputs": [
    {
     "data": {
      "text/html": [
       "<div>\n",
       "<style scoped>\n",
       "    .dataframe tbody tr th:only-of-type {\n",
       "        vertical-align: middle;\n",
       "    }\n",
       "\n",
       "    .dataframe tbody tr th {\n",
       "        vertical-align: top;\n",
       "    }\n",
       "\n",
       "    .dataframe thead th {\n",
       "        text-align: right;\n",
       "    }\n",
       "</style>\n",
       "<table border=\"1\" class=\"dataframe\">\n",
       "  <thead>\n",
       "    <tr style=\"text-align: right;\">\n",
       "      <th></th>\n",
       "      <th>month</th>\n",
       "      <th>quarter</th>\n",
       "      <th>day_week</th>\n",
       "      <th>weekend</th>\n",
       "      <th>minute</th>\n",
       "      <th>hour</th>\n",
       "    </tr>\n",
       "  </thead>\n",
       "  <tbody>\n",
       "    <tr>\n",
       "      <th>0</th>\n",
       "      <td>1</td>\n",
       "      <td>1</td>\n",
       "      <td>0</td>\n",
       "      <td>0</td>\n",
       "      <td>30.0</td>\n",
       "      <td>18.0</td>\n",
       "    </tr>\n",
       "    <tr>\n",
       "      <th>1</th>\n",
       "      <td>1</td>\n",
       "      <td>1</td>\n",
       "      <td>0</td>\n",
       "      <td>0</td>\n",
       "      <td>53.0</td>\n",
       "      <td>6.0</td>\n",
       "    </tr>\n",
       "    <tr>\n",
       "      <th>2</th>\n",
       "      <td>1</td>\n",
       "      <td>1</td>\n",
       "      <td>0</td>\n",
       "      <td>0</td>\n",
       "      <td>0.0</td>\n",
       "      <td>10.0</td>\n",
       "    </tr>\n",
       "    <tr>\n",
       "      <th>3</th>\n",
       "      <td>1</td>\n",
       "      <td>1</td>\n",
       "      <td>0</td>\n",
       "      <td>0</td>\n",
       "      <td>28.0</td>\n",
       "      <td>14.0</td>\n",
       "    </tr>\n",
       "    <tr>\n",
       "      <th>4</th>\n",
       "      <td>1</td>\n",
       "      <td>1</td>\n",
       "      <td>0</td>\n",
       "      <td>0</td>\n",
       "      <td>57.0</td>\n",
       "      <td>11.0</td>\n",
       "    </tr>\n",
       "    <tr>\n",
       "      <th>...</th>\n",
       "      <td>...</td>\n",
       "      <td>...</td>\n",
       "      <td>...</td>\n",
       "      <td>...</td>\n",
       "      <td>...</td>\n",
       "      <td>...</td>\n",
       "    </tr>\n",
       "    <tr>\n",
       "      <th>4995</th>\n",
       "      <td>1</td>\n",
       "      <td>1</td>\n",
       "      <td>0</td>\n",
       "      <td>0</td>\n",
       "      <td>10.0</td>\n",
       "      <td>21.0</td>\n",
       "    </tr>\n",
       "    <tr>\n",
       "      <th>4996</th>\n",
       "      <td>1</td>\n",
       "      <td>1</td>\n",
       "      <td>0</td>\n",
       "      <td>0</td>\n",
       "      <td>10.0</td>\n",
       "      <td>15.0</td>\n",
       "    </tr>\n",
       "    <tr>\n",
       "      <th>4997</th>\n",
       "      <td>1</td>\n",
       "      <td>1</td>\n",
       "      <td>0</td>\n",
       "      <td>0</td>\n",
       "      <td>57.0</td>\n",
       "      <td>13.0</td>\n",
       "    </tr>\n",
       "    <tr>\n",
       "      <th>4998</th>\n",
       "      <td>1</td>\n",
       "      <td>1</td>\n",
       "      <td>0</td>\n",
       "      <td>0</td>\n",
       "      <td>46.0</td>\n",
       "      <td>8.0</td>\n",
       "    </tr>\n",
       "    <tr>\n",
       "      <th>4999</th>\n",
       "      <td>1</td>\n",
       "      <td>1</td>\n",
       "      <td>0</td>\n",
       "      <td>0</td>\n",
       "      <td>57.0</td>\n",
       "      <td>14.0</td>\n",
       "    </tr>\n",
       "  </tbody>\n",
       "</table>\n",
       "<p>5000 rows × 6 columns</p>\n",
       "</div>"
      ],
      "text/plain": [
       "      month  quarter  day_week  weekend  minute  hour\n",
       "0         1        1         0        0    30.0  18.0\n",
       "1         1        1         0        0    53.0   6.0\n",
       "2         1        1         0        0     0.0  10.0\n",
       "3         1        1         0        0    28.0  14.0\n",
       "4         1        1         0        0    57.0  11.0\n",
       "...     ...      ...       ...      ...     ...   ...\n",
       "4995      1        1         0        0    10.0  21.0\n",
       "4996      1        1         0        0    10.0  15.0\n",
       "4997      1        1         0        0    57.0  13.0\n",
       "4998      1        1         0        0    46.0   8.0\n",
       "4999      1        1         0        0    57.0  14.0\n",
       "\n",
       "[5000 rows x 6 columns]"
      ]
     },
     "execution_count": 277,
     "metadata": {},
     "output_type": "execute_result"
    }
   ],
   "source": [
    "time_x_train"
   ]
  },
  {
   "cell_type": "code",
   "execution_count": 274,
   "id": "eb7484cd",
   "metadata": {},
   "outputs": [],
   "source": [
    "#static_x_train = static_x_train.drop([\"Id\"], axis=1)\n",
    "#time_x_train = time_x_train.drop([\"Id\"], axis=1)"
   ]
  },
  {
   "cell_type": "code",
   "execution_count": 246,
   "id": "6ed7aa96",
   "metadata": {},
   "outputs": [],
   "source": [
    "lstm_x_speed = []\n",
    "lstm_x_dist = []"
   ]
  },
  {
   "cell_type": "code",
   "execution_count": 247,
   "id": "d87d438d",
   "metadata": {},
   "outputs": [],
   "source": [
    "for i in X_train[\"Id\"]:\n",
    "    temp_df = nodes_df[nodes_df['Id'] == i]\n",
    "    ls = temp_df[\"speed\"].to_numpy()\n",
    "    ls = np.pad(ls, (0, 300 - len(ls)%300), 'constant')\n",
    "    lstm_x_speed.append(ls)\n",
    "    ld = temp_df[\"distance\"].to_numpy()\n",
    "    ld = np.pad(ld, (0, 300 - len(ld)%300), 'constant')\n",
    "    lstm_x_speed.append(ls)\n",
    "    lstm_x_dist.append(ld)"
   ]
  },
  {
   "cell_type": "code",
   "execution_count": 248,
   "id": "7e31af02",
   "metadata": {},
   "outputs": [],
   "source": [
    "lstm_x_speed = np.asarray(lstm_x_speed).astype('float32')\n",
    "lstm_x_dist = np.asarray(lstm_x_dist).astype('float32')\n"
   ]
  },
  {
   "cell_type": "code",
   "execution_count": 249,
   "id": "5fb86670",
   "metadata": {},
   "outputs": [],
   "source": [
    "x= x.drop([\"Id\"], axis=1)"
   ]
  },
  {
   "cell_type": "code",
   "execution_count": 269,
   "id": "6c87d2b0",
   "metadata": {},
   "outputs": [
    {
     "ename": "KeyError",
     "evalue": "\"['Id'] not found in axis\"",
     "output_type": "error",
     "traceback": [
      "\u001b[1;31m---------------------------------------------------------------------------\u001b[0m",
      "\u001b[1;31mKeyError\u001b[0m                                  Traceback (most recent call last)",
      "Cell \u001b[1;32mIn [269], line 1\u001b[0m\n\u001b[1;32m----> 1\u001b[0m X_train\u001b[38;5;241m=\u001b[39m \u001b[43mX_train\u001b[49m\u001b[38;5;241;43m.\u001b[39;49m\u001b[43mdrop\u001b[49m\u001b[43m(\u001b[49m\u001b[43m[\u001b[49m\u001b[38;5;124;43m\"\u001b[39;49m\u001b[38;5;124;43mId\u001b[39;49m\u001b[38;5;124;43m\"\u001b[39;49m\u001b[43m]\u001b[49m\u001b[43m,\u001b[49m\u001b[43m \u001b[49m\u001b[43maxis\u001b[49m\u001b[38;5;241;43m=\u001b[39;49m\u001b[38;5;241;43m1\u001b[39;49m\u001b[43m)\u001b[49m\n",
      "File \u001b[1;32mN:\\python_dataset\\pythonNeuralNet\\venv\\lib\\site-packages\\pandas\\util\\_decorators.py:311\u001b[0m, in \u001b[0;36mdeprecate_nonkeyword_arguments.<locals>.decorate.<locals>.wrapper\u001b[1;34m(*args, **kwargs)\u001b[0m\n\u001b[0;32m    305\u001b[0m \u001b[38;5;28;01mif\u001b[39;00m \u001b[38;5;28mlen\u001b[39m(args) \u001b[38;5;241m>\u001b[39m num_allow_args:\n\u001b[0;32m    306\u001b[0m     warnings\u001b[38;5;241m.\u001b[39mwarn(\n\u001b[0;32m    307\u001b[0m         msg\u001b[38;5;241m.\u001b[39mformat(arguments\u001b[38;5;241m=\u001b[39marguments),\n\u001b[0;32m    308\u001b[0m         \u001b[38;5;167;01mFutureWarning\u001b[39;00m,\n\u001b[0;32m    309\u001b[0m         stacklevel\u001b[38;5;241m=\u001b[39mstacklevel,\n\u001b[0;32m    310\u001b[0m     )\n\u001b[1;32m--> 311\u001b[0m \u001b[38;5;28;01mreturn\u001b[39;00m func(\u001b[38;5;241m*\u001b[39margs, \u001b[38;5;241m*\u001b[39m\u001b[38;5;241m*\u001b[39mkwargs)\n",
      "File \u001b[1;32mN:\\python_dataset\\pythonNeuralNet\\venv\\lib\\site-packages\\pandas\\core\\frame.py:4954\u001b[0m, in \u001b[0;36mDataFrame.drop\u001b[1;34m(self, labels, axis, index, columns, level, inplace, errors)\u001b[0m\n\u001b[0;32m   4806\u001b[0m \u001b[38;5;129m@deprecate_nonkeyword_arguments\u001b[39m(version\u001b[38;5;241m=\u001b[39m\u001b[38;5;28;01mNone\u001b[39;00m, allowed_args\u001b[38;5;241m=\u001b[39m[\u001b[38;5;124m\"\u001b[39m\u001b[38;5;124mself\u001b[39m\u001b[38;5;124m\"\u001b[39m, \u001b[38;5;124m\"\u001b[39m\u001b[38;5;124mlabels\u001b[39m\u001b[38;5;124m\"\u001b[39m])\n\u001b[0;32m   4807\u001b[0m \u001b[38;5;28;01mdef\u001b[39;00m \u001b[38;5;21mdrop\u001b[39m(\n\u001b[0;32m   4808\u001b[0m     \u001b[38;5;28mself\u001b[39m,\n\u001b[1;32m   (...)\u001b[0m\n\u001b[0;32m   4815\u001b[0m     errors: \u001b[38;5;28mstr\u001b[39m \u001b[38;5;241m=\u001b[39m \u001b[38;5;124m\"\u001b[39m\u001b[38;5;124mraise\u001b[39m\u001b[38;5;124m\"\u001b[39m,\n\u001b[0;32m   4816\u001b[0m ):\n\u001b[0;32m   4817\u001b[0m     \u001b[38;5;124;03m\"\"\"\u001b[39;00m\n\u001b[0;32m   4818\u001b[0m \u001b[38;5;124;03m    Drop specified labels from rows or columns.\u001b[39;00m\n\u001b[0;32m   4819\u001b[0m \n\u001b[1;32m   (...)\u001b[0m\n\u001b[0;32m   4952\u001b[0m \u001b[38;5;124;03m            weight  1.0     0.8\u001b[39;00m\n\u001b[0;32m   4953\u001b[0m \u001b[38;5;124;03m    \"\"\"\u001b[39;00m\n\u001b[1;32m-> 4954\u001b[0m     \u001b[38;5;28;01mreturn\u001b[39;00m \u001b[38;5;28;43msuper\u001b[39;49m\u001b[43m(\u001b[49m\u001b[43m)\u001b[49m\u001b[38;5;241;43m.\u001b[39;49m\u001b[43mdrop\u001b[49m\u001b[43m(\u001b[49m\n\u001b[0;32m   4955\u001b[0m \u001b[43m        \u001b[49m\u001b[43mlabels\u001b[49m\u001b[38;5;241;43m=\u001b[39;49m\u001b[43mlabels\u001b[49m\u001b[43m,\u001b[49m\n\u001b[0;32m   4956\u001b[0m \u001b[43m        \u001b[49m\u001b[43maxis\u001b[49m\u001b[38;5;241;43m=\u001b[39;49m\u001b[43maxis\u001b[49m\u001b[43m,\u001b[49m\n\u001b[0;32m   4957\u001b[0m \u001b[43m        \u001b[49m\u001b[43mindex\u001b[49m\u001b[38;5;241;43m=\u001b[39;49m\u001b[43mindex\u001b[49m\u001b[43m,\u001b[49m\n\u001b[0;32m   4958\u001b[0m \u001b[43m        \u001b[49m\u001b[43mcolumns\u001b[49m\u001b[38;5;241;43m=\u001b[39;49m\u001b[43mcolumns\u001b[49m\u001b[43m,\u001b[49m\n\u001b[0;32m   4959\u001b[0m \u001b[43m        \u001b[49m\u001b[43mlevel\u001b[49m\u001b[38;5;241;43m=\u001b[39;49m\u001b[43mlevel\u001b[49m\u001b[43m,\u001b[49m\n\u001b[0;32m   4960\u001b[0m \u001b[43m        \u001b[49m\u001b[43minplace\u001b[49m\u001b[38;5;241;43m=\u001b[39;49m\u001b[43minplace\u001b[49m\u001b[43m,\u001b[49m\n\u001b[0;32m   4961\u001b[0m \u001b[43m        \u001b[49m\u001b[43merrors\u001b[49m\u001b[38;5;241;43m=\u001b[39;49m\u001b[43merrors\u001b[49m\u001b[43m,\u001b[49m\n\u001b[0;32m   4962\u001b[0m \u001b[43m    \u001b[49m\u001b[43m)\u001b[49m\n",
      "File \u001b[1;32mN:\\python_dataset\\pythonNeuralNet\\venv\\lib\\site-packages\\pandas\\core\\generic.py:4267\u001b[0m, in \u001b[0;36mNDFrame.drop\u001b[1;34m(self, labels, axis, index, columns, level, inplace, errors)\u001b[0m\n\u001b[0;32m   4265\u001b[0m \u001b[38;5;28;01mfor\u001b[39;00m axis, labels \u001b[38;5;129;01min\u001b[39;00m axes\u001b[38;5;241m.\u001b[39mitems():\n\u001b[0;32m   4266\u001b[0m     \u001b[38;5;28;01mif\u001b[39;00m labels \u001b[38;5;129;01mis\u001b[39;00m \u001b[38;5;129;01mnot\u001b[39;00m \u001b[38;5;28;01mNone\u001b[39;00m:\n\u001b[1;32m-> 4267\u001b[0m         obj \u001b[38;5;241m=\u001b[39m \u001b[43mobj\u001b[49m\u001b[38;5;241;43m.\u001b[39;49m\u001b[43m_drop_axis\u001b[49m\u001b[43m(\u001b[49m\u001b[43mlabels\u001b[49m\u001b[43m,\u001b[49m\u001b[43m \u001b[49m\u001b[43maxis\u001b[49m\u001b[43m,\u001b[49m\u001b[43m \u001b[49m\u001b[43mlevel\u001b[49m\u001b[38;5;241;43m=\u001b[39;49m\u001b[43mlevel\u001b[49m\u001b[43m,\u001b[49m\u001b[43m \u001b[49m\u001b[43merrors\u001b[49m\u001b[38;5;241;43m=\u001b[39;49m\u001b[43merrors\u001b[49m\u001b[43m)\u001b[49m\n\u001b[0;32m   4269\u001b[0m \u001b[38;5;28;01mif\u001b[39;00m inplace:\n\u001b[0;32m   4270\u001b[0m     \u001b[38;5;28mself\u001b[39m\u001b[38;5;241m.\u001b[39m_update_inplace(obj)\n",
      "File \u001b[1;32mN:\\python_dataset\\pythonNeuralNet\\venv\\lib\\site-packages\\pandas\\core\\generic.py:4311\u001b[0m, in \u001b[0;36mNDFrame._drop_axis\u001b[1;34m(self, labels, axis, level, errors, consolidate, only_slice)\u001b[0m\n\u001b[0;32m   4309\u001b[0m         new_axis \u001b[38;5;241m=\u001b[39m axis\u001b[38;5;241m.\u001b[39mdrop(labels, level\u001b[38;5;241m=\u001b[39mlevel, errors\u001b[38;5;241m=\u001b[39merrors)\n\u001b[0;32m   4310\u001b[0m     \u001b[38;5;28;01melse\u001b[39;00m:\n\u001b[1;32m-> 4311\u001b[0m         new_axis \u001b[38;5;241m=\u001b[39m \u001b[43maxis\u001b[49m\u001b[38;5;241;43m.\u001b[39;49m\u001b[43mdrop\u001b[49m\u001b[43m(\u001b[49m\u001b[43mlabels\u001b[49m\u001b[43m,\u001b[49m\u001b[43m \u001b[49m\u001b[43merrors\u001b[49m\u001b[38;5;241;43m=\u001b[39;49m\u001b[43merrors\u001b[49m\u001b[43m)\u001b[49m\n\u001b[0;32m   4312\u001b[0m     indexer \u001b[38;5;241m=\u001b[39m axis\u001b[38;5;241m.\u001b[39mget_indexer(new_axis)\n\u001b[0;32m   4314\u001b[0m \u001b[38;5;66;03m# Case for non-unique axis\u001b[39;00m\n\u001b[0;32m   4315\u001b[0m \u001b[38;5;28;01melse\u001b[39;00m:\n",
      "File \u001b[1;32mN:\\python_dataset\\pythonNeuralNet\\venv\\lib\\site-packages\\pandas\\core\\indexes\\base.py:6644\u001b[0m, in \u001b[0;36mIndex.drop\u001b[1;34m(self, labels, errors)\u001b[0m\n\u001b[0;32m   6642\u001b[0m \u001b[38;5;28;01mif\u001b[39;00m mask\u001b[38;5;241m.\u001b[39many():\n\u001b[0;32m   6643\u001b[0m     \u001b[38;5;28;01mif\u001b[39;00m errors \u001b[38;5;241m!=\u001b[39m \u001b[38;5;124m\"\u001b[39m\u001b[38;5;124mignore\u001b[39m\u001b[38;5;124m\"\u001b[39m:\n\u001b[1;32m-> 6644\u001b[0m         \u001b[38;5;28;01mraise\u001b[39;00m \u001b[38;5;167;01mKeyError\u001b[39;00m(\u001b[38;5;124mf\u001b[39m\u001b[38;5;124m\"\u001b[39m\u001b[38;5;132;01m{\u001b[39;00m\u001b[38;5;28mlist\u001b[39m(labels[mask])\u001b[38;5;132;01m}\u001b[39;00m\u001b[38;5;124m not found in axis\u001b[39m\u001b[38;5;124m\"\u001b[39m)\n\u001b[0;32m   6645\u001b[0m     indexer \u001b[38;5;241m=\u001b[39m indexer[\u001b[38;5;241m~\u001b[39mmask]\n\u001b[0;32m   6646\u001b[0m \u001b[38;5;28;01mreturn\u001b[39;00m \u001b[38;5;28mself\u001b[39m\u001b[38;5;241m.\u001b[39mdelete(indexer)\n",
      "\u001b[1;31mKeyError\u001b[0m: \"['Id'] not found in axis\""
     ]
    }
   ],
   "source": [
    "X_train= X_train.drop([\"Id\"], axis=1)"
   ]
  },
  {
   "cell_type": "code",
   "execution_count": 251,
   "id": "d2f0d090",
   "metadata": {},
   "outputs": [],
   "source": [
    "static_x_train = np.asarray(static_x_train).astype('float32')\n",
    "static_x_test = np.asarray(static_x_test).astype('float32')\n",
    "\n",
    "time_x_train = np.asarray(time_x_train).astype('float32')\n",
    "time_x_test = np.asarray(time_x_test).astype('float32')"
   ]
  },
  {
   "cell_type": "code",
   "execution_count": 252,
   "id": "e7dd0b52",
   "metadata": {},
   "outputs": [],
   "source": [
    "Y_test = np.asarray(Y_test).astype('float32')\n",
    "Y_train = np.asarray(Y_train).astype('float32')"
   ]
  },
  {
   "cell_type": "code",
   "execution_count": null,
   "id": "bf5590a0",
   "metadata": {},
   "outputs": [],
   "source": []
  },
  {
   "cell_type": "code",
   "execution_count": null,
   "id": "8413e8e7",
   "metadata": {},
   "outputs": [],
   "source": []
  },
  {
   "cell_type": "code",
   "execution_count": null,
   "id": "61cebd08",
   "metadata": {},
   "outputs": [],
   "source": []
  },
  {
   "cell_type": "code",
   "execution_count": null,
   "id": "1e0fcc3a",
   "metadata": {},
   "outputs": [],
   "source": []
  },
  {
   "cell_type": "code",
   "execution_count": 279,
   "id": "1e5ea6a5",
   "metadata": {
    "scrolled": true
   },
   "outputs": [],
   "source": [
    "optimizer = keras.optimizers.Adam(learning_rate=0.04)"
   ]
  },
  {
   "cell_type": "code",
   "execution_count": 280,
   "id": "18b3a558",
   "metadata": {},
   "outputs": [],
   "source": [
    "input_layer_lstm_s = Input(shape=(300,))\n",
    "embedded_s = Embedding(1, output_dim=32, input_length=300)(input_layer_lstm_s)\n",
    "\n",
    "input_layer_lstm_d = Input(shape=(300,))\n",
    "embedded_d = Embedding(1, output_dim=32, input_length=300)(input_layer_lstm_d)"
   ]
  },
  {
   "cell_type": "code",
   "execution_count": 281,
   "id": "646526d2",
   "metadata": {},
   "outputs": [],
   "source": [
    "lstm_s = LSTM(units=32)(embedded_s)\n",
    "lstm_s =Dense(128)(lstm_s)\n",
    "\n",
    "lstm_d = LSTM(units=32)(embedded_d)\n",
    "lstm_d =Dense(128)(lstm_d)"
   ]
  },
  {
   "cell_type": "code",
   "execution_count": 282,
   "id": "67e8ff61",
   "metadata": {},
   "outputs": [],
   "source": [
    "input_layer_time = Input(shape=(len(time_columns),), name='input_t')\n",
    "input_layer_static = Input(shape=(len(static_columns),), name='input_s', dtype='float32')"
   ]
  },
  {
   "cell_type": "code",
   "execution_count": 283,
   "id": "240838b1",
   "metadata": {},
   "outputs": [],
   "source": [
    "x_time = Dense(128)(input_layer_time)\n",
    "x_static = Dense(128)(input_layer_static)\n",
    "\n",
    "x_2_t = Dense(128)(input_layer_time)\n",
    "x_2_s  = Dense(128)(input_layer_static)"
   ]
  },
  {
   "cell_type": "code",
   "execution_count": 284,
   "id": "431729b8",
   "metadata": {
    "scrolled": true
   },
   "outputs": [],
   "source": [
    "combined = Add()([x_2_t, x_2_s])\n",
    "combined = LayerNormalization()(combined)"
   ]
  },
  {
   "cell_type": "code",
   "execution_count": null,
   "id": "66ad4930",
   "metadata": {},
   "outputs": [],
   "source": []
  },
  {
   "cell_type": "code",
   "execution_count": 285,
   "id": "e14ba8d8",
   "metadata": {},
   "outputs": [],
   "source": [
    "combined_FCNN = Dense(128)(combined)\n",
    "combined_FCNN_2 = Dense(128)(combined_FCNN)"
   ]
  },
  {
   "cell_type": "code",
   "execution_count": 286,
   "id": "d7adacc1",
   "metadata": {},
   "outputs": [],
   "source": [
    "connected_lstm = Multiply()([lstm_s, lstm_d])"
   ]
  },
  {
   "cell_type": "code",
   "execution_count": 287,
   "id": "6e69e39e",
   "metadata": {},
   "outputs": [],
   "source": [
    "combined_FCNN_2 = Add()([combined_FCNN_2, connected_lstm])"
   ]
  },
  {
   "cell_type": "code",
   "execution_count": 288,
   "id": "63acf676",
   "metadata": {},
   "outputs": [],
   "source": [
    "\n",
    "combined_FCNN_2N = LayerNormalization()(combined_FCNN_2)\n",
    "combined_FCNN_3 = Dense(128)(combined_FCNN_2N)\n",
    "combined_FCNN_3N = LayerNormalization()(combined_FCNN_3)\n",
    "\n",
    "combined_FCNN_3N = Add()([combined_FCNN_3N, connected_lstm])\n",
    "\n",
    "combined_FCNN_4 = Dense(256)(combined_FCNN_3N)\n",
    "\n",
    "combined_FCNN_4N = LayerNormalization()(combined_FCNN_4)\n",
    "\n",
    "combined_FCNN_4 = Dense(64)(combined_FCNN_4)\n",
    "dropout = Dropout(0.2)(combined_FCNN_4)"
   ]
  },
  {
   "cell_type": "code",
   "execution_count": 289,
   "id": "20268073",
   "metadata": {},
   "outputs": [],
   "source": [
    "output = Dense(1)(dropout)"
   ]
  },
  {
   "cell_type": "code",
   "execution_count": 290,
   "id": "a62bf91c",
   "metadata": {
    "scrolled": true
   },
   "outputs": [],
   "source": [
    "model = Model(inputs=[input_layer_time, input_layer_static, input_layer_lstm_s, input_layer_lstm_d], outputs=output)"
   ]
  },
  {
   "cell_type": "code",
   "execution_count": 291,
   "id": "95462b3d",
   "metadata": {},
   "outputs": [],
   "source": [
    "model.compile(loss=\"mean_absolute_error\", metrics = ['mse'], optimizer=optimizer)"
   ]
  },
  {
   "cell_type": "code",
   "execution_count": 292,
   "id": "c069f202",
   "metadata": {
    "scrolled": false
   },
   "outputs": [
    {
     "name": "stdout",
     "output_type": "stream",
     "text": [
      "Model: \"model_9\"\n",
      "__________________________________________________________________________________________________\n",
      " Layer (type)                   Output Shape         Param #     Connected to                     \n",
      "==================================================================================================\n",
      " input_t (InputLayer)           [(None, 6)]          0           []                               \n",
      "                                                                                                  \n",
      " input_s (InputLayer)           [(None, 4)]          0           []                               \n",
      "                                                                                                  \n",
      " dense_104 (Dense)              (None, 128)          896         ['input_t[0][0]']                \n",
      "                                                                                                  \n",
      " dense_105 (Dense)              (None, 128)          640         ['input_s[0][0]']                \n",
      "                                                                                                  \n",
      " input_12 (InputLayer)          [(None, 300)]        0           []                               \n",
      "                                                                                                  \n",
      " input_13 (InputLayer)          [(None, 300)]        0           []                               \n",
      "                                                                                                  \n",
      " add_15 (Add)                   (None, 128)          0           ['dense_104[0][0]',              \n",
      "                                                                  'dense_105[0][0]']              \n",
      "                                                                                                  \n",
      " embedding_11 (Embedding)       (None, 300, 32)      32          ['input_12[0][0]']               \n",
      "                                                                                                  \n",
      " embedding_12 (Embedding)       (None, 300, 32)      32          ['input_13[0][0]']               \n",
      "                                                                                                  \n",
      " layer_normalization_35 (LayerN  (None, 128)         256         ['add_15[0][0]']                 \n",
      " ormalization)                                                                                    \n",
      "                                                                                                  \n",
      " lstm_11 (LSTM)                 (None, 32)           8320        ['embedding_11[0][0]']           \n",
      "                                                                                                  \n",
      " lstm_12 (LSTM)                 (None, 32)           8320        ['embedding_12[0][0]']           \n",
      "                                                                                                  \n",
      " dense_106 (Dense)              (None, 128)          16512       ['layer_normalization_35[0][0]'] \n",
      "                                                                                                  \n",
      " dense_100 (Dense)              (None, 128)          4224        ['lstm_11[0][0]']                \n",
      "                                                                                                  \n",
      " dense_101 (Dense)              (None, 128)          4224        ['lstm_12[0][0]']                \n",
      "                                                                                                  \n",
      " dense_107 (Dense)              (None, 128)          16512       ['dense_106[0][0]']              \n",
      "                                                                                                  \n",
      " multiply_18 (Multiply)         (None, 128)          0           ['dense_100[0][0]',              \n",
      "                                                                  'dense_101[0][0]']              \n",
      "                                                                                                  \n",
      " add_16 (Add)                   (None, 128)          0           ['dense_107[0][0]',              \n",
      "                                                                  'multiply_18[0][0]']            \n",
      "                                                                                                  \n",
      " layer_normalization_36 (LayerN  (None, 128)         256         ['add_16[0][0]']                 \n",
      " ormalization)                                                                                    \n",
      "                                                                                                  \n",
      " dense_108 (Dense)              (None, 128)          16512       ['layer_normalization_36[0][0]'] \n",
      "                                                                                                  \n",
      " layer_normalization_37 (LayerN  (None, 128)         256         ['dense_108[0][0]']              \n",
      " ormalization)                                                                                    \n",
      "                                                                                                  \n",
      " add_17 (Add)                   (None, 128)          0           ['layer_normalization_37[0][0]', \n",
      "                                                                  'multiply_18[0][0]']            \n",
      "                                                                                                  \n",
      " dense_109 (Dense)              (None, 256)          33024       ['add_17[0][0]']                 \n",
      "                                                                                                  \n",
      " dense_110 (Dense)              (None, 64)           16448       ['dense_109[0][0]']              \n",
      "                                                                                                  \n",
      " dropout_9 (Dropout)            (None, 64)           0           ['dense_110[0][0]']              \n",
      "                                                                                                  \n",
      " dense_111 (Dense)              (None, 1)            65          ['dropout_9[0][0]']              \n",
      "                                                                                                  \n",
      "==================================================================================================\n",
      "Total params: 126,529\n",
      "Trainable params: 126,529\n",
      "Non-trainable params: 0\n",
      "__________________________________________________________________________________________________\n"
     ]
    }
   ],
   "source": [
    "\n",
    "model.summary()"
   ]
  },
  {
   "cell_type": "code",
   "execution_count": 293,
   "id": "c1f2ffae",
   "metadata": {},
   "outputs": [],
   "source": [
    "from tensorflow.keras.callbacks import ModelCheckpoint\n",
    "filepath = 'model.h5'\n",
    "checkpoint = ModelCheckpoint(filepath, monitor='accuracy', verbose=1, save_best_only=True, mode='max')\n",
    "callbacks = [checkpoint]"
   ]
  },
  {
   "cell_type": "code",
   "execution_count": 294,
   "id": "9585f9c4",
   "metadata": {
    "scrolled": true
   },
   "outputs": [
    {
     "name": "stdout",
     "output_type": "stream",
     "text": [
      "Epoch 1/45\n",
      "125/125 [==============================] - ETA: 0s - loss: 217.1129 - mse: 72116.2109WARNING:tensorflow:Can save best model only with accuracy available, skipping.\n",
      "125/125 [==============================] - 14s 66ms/step - loss: 217.1129 - mse: 72116.2109 - val_loss: 205.1624 - val_mse: 65634.7812\n",
      "Epoch 2/45\n",
      "124/125 [============================>.] - ETA: 0s - loss: 165.3057 - mse: 42382.7969WARNING:tensorflow:Can save best model only with accuracy available, skipping.\n",
      "125/125 [==============================] - 7s 55ms/step - loss: 165.1069 - mse: 42292.8594 - val_loss: 143.7738 - val_mse: 33988.8438\n",
      "Epoch 3/45\n",
      "125/125 [==============================] - ETA: 0s - loss: 152.5023 - mse: 36982.1094WARNING:tensorflow:Can save best model only with accuracy available, skipping.\n",
      "125/125 [==============================] - 7s 57ms/step - loss: 152.5023 - mse: 36982.1094 - val_loss: 136.5674 - val_mse: 32045.8633\n",
      "Epoch 4/45\n",
      "125/125 [==============================] - ETA: 0s - loss: 144.2890 - mse: 33088.9492WARNING:tensorflow:Can save best model only with accuracy available, skipping.\n",
      "125/125 [==============================] - 7s 58ms/step - loss: 144.2890 - mse: 33088.9492 - val_loss: 133.0314 - val_mse: 29136.1289\n",
      "Epoch 5/45\n",
      "125/125 [==============================] - ETA: 0s - loss: 132.8689 - mse: 28777.2578WARNING:tensorflow:Can save best model only with accuracy available, skipping.\n",
      "125/125 [==============================] - 8s 62ms/step - loss: 132.8689 - mse: 28777.2578 - val_loss: 128.5932 - val_mse: 30298.6445\n",
      "Epoch 6/45\n",
      "125/125 [==============================] - ETA: 0s - loss: 132.3809 - mse: 28957.4844WARNING:tensorflow:Can save best model only with accuracy available, skipping.\n",
      "125/125 [==============================] - 7s 59ms/step - loss: 132.3809 - mse: 28957.4844 - val_loss: 119.8063 - val_mse: 25232.2363\n",
      "Epoch 7/45\n",
      "125/125 [==============================] - ETA: 0s - loss: 135.0712 - mse: 29712.2949WARNING:tensorflow:Can save best model only with accuracy available, skipping.\n",
      "125/125 [==============================] - 8s 60ms/step - loss: 135.0712 - mse: 29712.2949 - val_loss: 146.2145 - val_mse: 30103.6113\n",
      "Epoch 8/45\n",
      "125/125 [==============================] - ETA: 0s - loss: 131.0592 - mse: 27575.0488WARNING:tensorflow:Can save best model only with accuracy available, skipping.\n",
      "125/125 [==============================] - 7s 56ms/step - loss: 131.0592 - mse: 27575.0488 - val_loss: 111.9045 - val_mse: 20151.3047\n",
      "Epoch 9/45\n",
      "124/125 [============================>.] - ETA: 0s - loss: 130.3081 - mse: 27983.6738WARNING:tensorflow:Can save best model only with accuracy available, skipping.\n",
      "125/125 [==============================] - 7s 55ms/step - loss: 130.3583 - mse: 27981.6836 - val_loss: 111.5617 - val_mse: 19677.0527\n",
      "Epoch 10/45\n",
      "125/125 [==============================] - ETA: 0s - loss: 128.7455 - mse: 26898.1133WARNING:tensorflow:Can save best model only with accuracy available, skipping.\n",
      "125/125 [==============================] - 7s 55ms/step - loss: 128.7455 - mse: 26898.1133 - val_loss: 109.5199 - val_mse: 19789.3652\n",
      "Epoch 11/45\n",
      "125/125 [==============================] - ETA: 0s - loss: 122.5859 - mse: 24953.0312WARNING:tensorflow:Can save best model only with accuracy available, skipping.\n",
      "125/125 [==============================] - 7s 55ms/step - loss: 122.5859 - mse: 24953.0312 - val_loss: 122.5307 - val_mse: 24517.5215\n",
      "Epoch 12/45\n",
      "125/125 [==============================] - ETA: 0s - loss: 129.2004 - mse: 27640.1621WARNING:tensorflow:Can save best model only with accuracy available, skipping.\n",
      "125/125 [==============================] - 7s 60ms/step - loss: 129.2004 - mse: 27640.1621 - val_loss: 123.0884 - val_mse: 25984.9883\n",
      "Epoch 13/45\n",
      "125/125 [==============================] - ETA: 0s - loss: 126.6359 - mse: 26368.9805WARNING:tensorflow:Can save best model only with accuracy available, skipping.\n",
      "125/125 [==============================] - 7s 56ms/step - loss: 126.6359 - mse: 26368.9805 - val_loss: 109.0007 - val_mse: 19448.1543\n",
      "Epoch 14/45\n",
      "125/125 [==============================] - ETA: 0s - loss: 123.0328 - mse: 25090.4844WARNING:tensorflow:Can save best model only with accuracy available, skipping.\n",
      "125/125 [==============================] - 7s 57ms/step - loss: 123.0328 - mse: 25090.4844 - val_loss: 114.3444 - val_mse: 20081.2891\n",
      "Epoch 15/45\n",
      "124/125 [============================>.] - ETA: 0s - loss: 121.3307 - mse: 24373.7520WARNING:tensorflow:Can save best model only with accuracy available, skipping.\n",
      "125/125 [==============================] - 7s 56ms/step - loss: 121.4582 - mse: 24397.9805 - val_loss: 108.8149 - val_mse: 19566.6621\n",
      "Epoch 16/45\n",
      "125/125 [==============================] - ETA: 0s - loss: 125.2310 - mse: 26135.1230WARNING:tensorflow:Can save best model only with accuracy available, skipping.\n",
      "125/125 [==============================] - 7s 56ms/step - loss: 125.2310 - mse: 26135.1230 - val_loss: 120.5684 - val_mse: 22093.3398\n",
      "Epoch 17/45\n",
      "125/125 [==============================] - ETA: 0s - loss: 122.5830 - mse: 24515.0684WARNING:tensorflow:Can save best model only with accuracy available, skipping.\n",
      "125/125 [==============================] - 7s 57ms/step - loss: 122.5830 - mse: 24515.0684 - val_loss: 130.4634 - val_mse: 24092.9941\n",
      "Epoch 18/45\n",
      "124/125 [============================>.] - ETA: 0s - loss: 119.0974 - mse: 23589.9570WARNING:tensorflow:Can save best model only with accuracy available, skipping.\n",
      "125/125 [==============================] - 7s 56ms/step - loss: 118.9135 - mse: 23523.7871 - val_loss: 117.9249 - val_mse: 20501.2383\n",
      "Epoch 19/45\n",
      "125/125 [==============================] - ETA: 0s - loss: 119.1508 - mse: 23493.1426WARNING:tensorflow:Can save best model only with accuracy available, skipping.\n",
      "125/125 [==============================] - 7s 56ms/step - loss: 119.1508 - mse: 23493.1426 - val_loss: 139.8113 - val_mse: 27258.2539\n",
      "Epoch 20/45\n",
      "124/125 [============================>.] - ETA: 0s - loss: 119.3771 - mse: 23402.0449WARNING:tensorflow:Can save best model only with accuracy available, skipping.\n",
      "125/125 [==============================] - 7s 56ms/step - loss: 119.3672 - mse: 23390.1465 - val_loss: 118.1066 - val_mse: 20331.1328\n",
      "Epoch 21/45\n",
      "125/125 [==============================] - ETA: 0s - loss: 120.6472 - mse: 24101.8066WARNING:tensorflow:Can save best model only with accuracy available, skipping.\n",
      "125/125 [==============================] - 7s 55ms/step - loss: 120.6472 - mse: 24101.8066 - val_loss: 106.6388 - val_mse: 21172.5781\n",
      "Epoch 22/45\n",
      "125/125 [==============================] - ETA: 0s - loss: 117.7438 - mse: 23025.4746WARNING:tensorflow:Can save best model only with accuracy available, skipping.\n",
      "125/125 [==============================] - 7s 58ms/step - loss: 117.7438 - mse: 23025.4746 - val_loss: 110.2882 - val_mse: 22136.9199\n",
      "Epoch 23/45\n",
      "124/125 [============================>.] - ETA: 0s - loss: 123.0577 - mse: 25056.7656WARNING:tensorflow:Can save best model only with accuracy available, skipping.\n",
      "125/125 [==============================] - 7s 56ms/step - loss: 123.3983 - mse: 25154.0996 - val_loss: 135.5898 - val_mse: 25903.3594\n",
      "Epoch 24/45\n",
      "125/125 [==============================] - ETA: 0s - loss: 119.4294 - mse: 23758.4961WARNING:tensorflow:Can save best model only with accuracy available, skipping.\n",
      "125/125 [==============================] - 7s 59ms/step - loss: 119.4294 - mse: 23758.4961 - val_loss: 106.7910 - val_mse: 18713.5020\n",
      "Epoch 25/45\n",
      "125/125 [==============================] - ETA: 0s - loss: 117.9211 - mse: 23193.2012WARNING:tensorflow:Can save best model only with accuracy available, skipping.\n",
      "125/125 [==============================] - 9s 69ms/step - loss: 117.9211 - mse: 23193.2012 - val_loss: 105.3927 - val_mse: 18966.6426\n",
      "Epoch 26/45\n",
      "124/125 [============================>.] - ETA: 0s - loss: 119.4623 - mse: 23876.3770WARNING:tensorflow:Can save best model only with accuracy available, skipping.\n",
      "125/125 [==============================] - 8s 66ms/step - loss: 119.3698 - mse: 23856.3789 - val_loss: 114.1268 - val_mse: 19753.2715\n",
      "Epoch 27/45\n",
      "125/125 [==============================] - ETA: 0s - loss: 117.9712 - mse: 23076.7930WARNING:tensorflow:Can save best model only with accuracy available, skipping.\n"
     ]
    },
    {
     "name": "stdout",
     "output_type": "stream",
     "text": [
      "125/125 [==============================] - 8s 67ms/step - loss: 117.9712 - mse: 23076.7930 - val_loss: 110.4914 - val_mse: 19019.7148\n",
      "Epoch 28/45\n",
      "124/125 [============================>.] - ETA: 0s - loss: 117.7864 - mse: 23289.0352WARNING:tensorflow:Can save best model only with accuracy available, skipping.\n",
      "125/125 [==============================] - 8s 66ms/step - loss: 117.7348 - mse: 23283.6953 - val_loss: 105.7524 - val_mse: 20763.5332\n",
      "Epoch 29/45\n",
      "125/125 [==============================] - ETA: 0s - loss: 122.9749 - mse: 24873.1270WARNING:tensorflow:Can save best model only with accuracy available, skipping.\n",
      "125/125 [==============================] - 9s 74ms/step - loss: 122.9749 - mse: 24873.1270 - val_loss: 107.6068 - val_mse: 18417.9980\n",
      "Epoch 30/45\n",
      "125/125 [==============================] - ETA: 0s - loss: 117.1796 - mse: 22933.4746WARNING:tensorflow:Can save best model only with accuracy available, skipping.\n",
      "125/125 [==============================] - 8s 63ms/step - loss: 117.1796 - mse: 22933.4746 - val_loss: 111.4741 - val_mse: 19058.5547\n",
      "Epoch 31/45\n",
      "125/125 [==============================] - ETA: 0s - loss: 117.0727 - mse: 22896.4766WARNING:tensorflow:Can save best model only with accuracy available, skipping.\n",
      "125/125 [==============================] - 7s 59ms/step - loss: 117.0727 - mse: 22896.4766 - val_loss: 107.9415 - val_mse: 21026.1055\n",
      "Epoch 32/45\n",
      "125/125 [==============================] - ETA: 0s - loss: 119.0468 - mse: 23487.3320WARNING:tensorflow:Can save best model only with accuracy available, skipping.\n",
      "125/125 [==============================] - 8s 66ms/step - loss: 119.0468 - mse: 23487.3320 - val_loss: 115.1147 - val_mse: 19977.7793\n",
      "Epoch 33/45\n",
      "125/125 [==============================] - ETA: 0s - loss: 118.4188 - mse: 23069.5449WARNING:tensorflow:Can save best model only with accuracy available, skipping.\n",
      "125/125 [==============================] - 7s 59ms/step - loss: 118.4188 - mse: 23069.5449 - val_loss: 111.6848 - val_mse: 19690.0820\n",
      "Epoch 34/45\n",
      "125/125 [==============================] - ETA: 0s - loss: 118.8542 - mse: 23690.4023WARNING:tensorflow:Can save best model only with accuracy available, skipping.\n",
      "125/125 [==============================] - 9s 68ms/step - loss: 118.8542 - mse: 23690.4023 - val_loss: 112.3985 - val_mse: 19765.4883\n",
      "Epoch 35/45\n",
      "125/125 [==============================] - ETA: 0s - loss: 119.7071 - mse: 23699.3828WARNING:tensorflow:Can save best model only with accuracy available, skipping.\n",
      "125/125 [==============================] - 7s 59ms/step - loss: 119.7071 - mse: 23699.3828 - val_loss: 116.7644 - val_mse: 19864.1523\n",
      "Epoch 36/45\n",
      "125/125 [==============================] - ETA: 0s - loss: 122.1561 - mse: 24868.0977WARNING:tensorflow:Can save best model only with accuracy available, skipping.\n",
      "125/125 [==============================] - 7s 57ms/step - loss: 122.1561 - mse: 24868.0977 - val_loss: 112.6267 - val_mse: 19769.5898\n",
      "Epoch 37/45\n",
      "125/125 [==============================] - ETA: 0s - loss: 117.1516 - mse: 22523.7480WARNING:tensorflow:Can save best model only with accuracy available, skipping.\n",
      "125/125 [==============================] - 7s 60ms/step - loss: 117.1516 - mse: 22523.7480 - val_loss: 118.2830 - val_mse: 21231.9238\n",
      "Epoch 38/45\n",
      "125/125 [==============================] - ETA: 0s - loss: 116.5288 - mse: 22666.9902WARNING:tensorflow:Can save best model only with accuracy available, skipping.\n",
      "125/125 [==============================] - 9s 70ms/step - loss: 116.5288 - mse: 22666.9902 - val_loss: 111.4123 - val_mse: 19032.8047\n",
      "Epoch 39/45\n",
      "125/125 [==============================] - ETA: 0s - loss: 120.5314 - mse: 23708.1074WARNING:tensorflow:Can save best model only with accuracy available, skipping.\n",
      "125/125 [==============================] - 7s 57ms/step - loss: 120.5314 - mse: 23708.1074 - val_loss: 107.7389 - val_mse: 18672.2129\n",
      "Epoch 40/45\n",
      "125/125 [==============================] - ETA: 0s - loss: 117.4889 - mse: 22971.6621WARNING:tensorflow:Can save best model only with accuracy available, skipping.\n",
      "125/125 [==============================] - 7s 55ms/step - loss: 117.4889 - mse: 22971.6621 - val_loss: 113.7825 - val_mse: 19923.6875\n",
      "Epoch 41/45\n",
      "125/125 [==============================] - ETA: 0s - loss: 117.9061 - mse: 22955.4199WARNING:tensorflow:Can save best model only with accuracy available, skipping.\n",
      "125/125 [==============================] - 9s 69ms/step - loss: 117.9061 - mse: 22955.4199 - val_loss: 117.8742 - val_mse: 20408.8848\n",
      "Epoch 42/45\n",
      "125/125 [==============================] - ETA: 0s - loss: 121.8812 - mse: 24691.4629WARNING:tensorflow:Can save best model only with accuracy available, skipping.\n",
      "125/125 [==============================] - 8s 60ms/step - loss: 121.8812 - mse: 24691.4629 - val_loss: 110.7501 - val_mse: 18823.6875\n",
      "Epoch 43/45\n",
      "125/125 [==============================] - ETA: 0s - loss: 119.1766 - mse: 23451.3633WARNING:tensorflow:Can save best model only with accuracy available, skipping.\n",
      "125/125 [==============================] - 8s 61ms/step - loss: 119.1766 - mse: 23451.3633 - val_loss: 106.9683 - val_mse: 19947.8203\n",
      "Epoch 44/45\n",
      "124/125 [============================>.] - ETA: 0s - loss: 117.1448 - mse: 22694.7500WARNING:tensorflow:Can save best model only with accuracy available, skipping.\n",
      "125/125 [==============================] - 7s 58ms/step - loss: 117.2622 - mse: 22698.5977 - val_loss: 117.2128 - val_mse: 20839.7109\n",
      "Epoch 45/45\n",
      "125/125 [==============================] - ETA: 0s - loss: 121.8117 - mse: 24437.6582WARNING:tensorflow:Can save best model only with accuracy available, skipping.\n",
      "125/125 [==============================] - 8s 64ms/step - loss: 121.8117 - mse: 24437.6582 - val_loss: 123.8796 - val_mse: 21804.0352\n"
     ]
    }
   ],
   "source": [
    "history = model.fit(\n",
    "    [time_x_train, static_x_train, lstm_x_speed, lstm_x_dist],\n",
    "    Y_train,\n",
    "    epochs=45,\n",
    "    verbose=1,\n",
    "    validation_split = 0.2,\n",
    "    callbacks = callbacks)"
   ]
  },
  {
   "cell_type": "code",
   "execution_count": null,
   "id": "669da1ee",
   "metadata": {},
   "outputs": [],
   "source": []
  },
  {
   "cell_type": "code",
   "execution_count": 83,
   "id": "2d321073",
   "metadata": {},
   "outputs": [
    {
     "name": "stdout",
     "output_type": "stream",
     "text": [
      "32/32 [==============================] - 1s 5ms/step\n"
     ]
    }
   ],
   "source": [
    "Y_pred = model.predict([time_x_test, static_x_test])"
   ]
  },
  {
   "cell_type": "code",
   "execution_count": 84,
   "id": "c172ac1a",
   "metadata": {},
   "outputs": [
    {
     "name": "stdout",
     "output_type": "stream",
     "text": [
      "[26809.83]\n"
     ]
    }
   ],
   "source": [
    "se = 0\n",
    "for i in range(len(Y_pred)):\n",
    "    se+=(Y_pred[i]-Y_test[i])**2\n",
    "se=se/1000\n",
    "print(se)"
   ]
  },
  {
   "cell_type": "code",
   "execution_count": 85,
   "id": "be89b685",
   "metadata": {},
   "outputs": [
    {
     "data": {
      "text/plain": [
       "array([163.73708], dtype=float32)"
      ]
     },
     "execution_count": 85,
     "metadata": {},
     "output_type": "execute_result"
    }
   ],
   "source": [
    "se**(1/2)"
   ]
  },
  {
   "cell_type": "code",
   "execution_count": 151,
   "id": "0f315444",
   "metadata": {},
   "outputs": [],
   "source": [
    "from sklearn.metrics import mean_squared_error"
   ]
  },
  {
   "cell_type": "code",
   "execution_count": 455,
   "id": "094af40f",
   "metadata": {
    "scrolled": false
   },
   "outputs": [],
   "source": [
    "Y_pr = [Y_pred[i][0] for i in range(len(Y_pred))]"
   ]
  },
  {
   "cell_type": "code",
   "execution_count": 456,
   "id": "4938c035",
   "metadata": {
    "scrolled": false
   },
   "outputs": [
    {
     "data": {
      "text/plain": [
       "25276.148"
      ]
     },
     "execution_count": 456,
     "metadata": {},
     "output_type": "execute_result"
    }
   ],
   "source": [
    "mean_squared_error(Y_test, Y_pr)"
   ]
  },
  {
   "cell_type": "code",
   "execution_count": null,
   "id": "b032d2aa",
   "metadata": {},
   "outputs": [],
   "source": []
  }
 ],
 "metadata": {
  "kernelspec": {
   "display_name": "Python 3 (ipykernel)",
   "language": "python",
   "name": "python3"
  },
  "language_info": {
   "codemirror_mode": {
    "name": "ipython",
    "version": 3
   },
   "file_extension": ".py",
   "mimetype": "text/x-python",
   "name": "python",
   "nbconvert_exporter": "python",
   "pygments_lexer": "ipython3",
   "version": "3.9.12"
  }
 },
 "nbformat": 4,
 "nbformat_minor": 5
}
