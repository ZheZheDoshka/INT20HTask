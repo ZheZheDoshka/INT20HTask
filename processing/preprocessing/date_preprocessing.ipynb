{
 "cells": [
  {
   "cell_type": "code",
   "execution_count": 28,
   "id": "7cce59ef",
   "metadata": {},
   "outputs": [],
   "source": [
    "import pandas as pd\n",
    "import numpy as np"
   ]
  },
  {
   "cell_type": "code",
   "execution_count": 41,
   "id": "5dda8fb4",
   "metadata": {},
   "outputs": [],
   "source": [
    "orders_df = pd.read_csv('../../data/initial/orders.csv')"
   ]
  },
  {
   "cell_type": "code",
   "execution_count": 42,
   "id": "b6459425",
   "metadata": {},
   "outputs": [],
   "source": [
    "def date_transform(df):\n",
    "    date = pd.DataFrame({\"time\" : []})\n",
    "    date[\"time\"] = pd.to_datetime(df[\"running_time\"])\n",
    "    date[\"month\"] = date[\"time\"].dt.month\n",
    "    date[\"quarter\"] = date[\"time\"].dt.quarter\n",
    "    date[\"day_week\"] = date[\"time\"].dt.dayofweek\n",
    "    date[\"minute\"] = (date[\"time\"].dt.minute.to_numpy(dtype=np.int32) + date[\"time\"].dt.hour.to_numpy(dtype=np.int32)*60) #minute of the day\n",
    "    #date[\"hour\"] = date[\"time\"].dt.hour.to_numpy(dtype=np.int32) #hour of the day\n",
    "    return date"
   ]
  },
  {
   "cell_type": "code",
   "execution_count": 43,
   "id": "dcc4597e",
   "metadata": {
    "scrolled": true
   },
   "outputs": [],
   "source": [
    "date = date_transform(orders_df)"
   ]
  },
  {
   "cell_type": "code",
   "execution_count": 44,
   "id": "a1abff1c",
   "metadata": {},
   "outputs": [
    {
     "data": {
      "text/html": [
       "<div>\n",
       "<style scoped>\n",
       "    .dataframe tbody tr th:only-of-type {\n",
       "        vertical-align: middle;\n",
       "    }\n",
       "\n",
       "    .dataframe tbody tr th {\n",
       "        vertical-align: top;\n",
       "    }\n",
       "\n",
       "    .dataframe thead th {\n",
       "        text-align: right;\n",
       "    }\n",
       "</style>\n",
       "<table border=\"1\" class=\"dataframe\">\n",
       "  <thead>\n",
       "    <tr style=\"text-align: right;\">\n",
       "      <th></th>\n",
       "      <th>time</th>\n",
       "      <th>month</th>\n",
       "      <th>quarter</th>\n",
       "      <th>day_week</th>\n",
       "      <th>minute</th>\n",
       "    </tr>\n",
       "  </thead>\n",
       "  <tbody>\n",
       "    <tr>\n",
       "      <th>0</th>\n",
       "      <td>2022-01-24 18:30:21</td>\n",
       "      <td>1</td>\n",
       "      <td>1</td>\n",
       "      <td>0</td>\n",
       "      <td>1110</td>\n",
       "    </tr>\n",
       "    <tr>\n",
       "      <th>1</th>\n",
       "      <td>2022-01-24 06:53:53</td>\n",
       "      <td>1</td>\n",
       "      <td>1</td>\n",
       "      <td>0</td>\n",
       "      <td>413</td>\n",
       "    </tr>\n",
       "    <tr>\n",
       "      <th>2</th>\n",
       "      <td>2022-01-24 10:00:59</td>\n",
       "      <td>1</td>\n",
       "      <td>1</td>\n",
       "      <td>0</td>\n",
       "      <td>600</td>\n",
       "    </tr>\n",
       "    <tr>\n",
       "      <th>3</th>\n",
       "      <td>2022-01-24 14:28:05</td>\n",
       "      <td>1</td>\n",
       "      <td>1</td>\n",
       "      <td>0</td>\n",
       "      <td>868</td>\n",
       "    </tr>\n",
       "    <tr>\n",
       "      <th>4</th>\n",
       "      <td>2022-01-24 11:57:29</td>\n",
       "      <td>1</td>\n",
       "      <td>1</td>\n",
       "      <td>0</td>\n",
       "      <td>717</td>\n",
       "    </tr>\n",
       "  </tbody>\n",
       "</table>\n",
       "</div>"
      ],
      "text/plain": [
       "                 time  month  quarter  day_week  minute\n",
       "0 2022-01-24 18:30:21      1        1         0    1110\n",
       "1 2022-01-24 06:53:53      1        1         0     413\n",
       "2 2022-01-24 10:00:59      1        1         0     600\n",
       "3 2022-01-24 14:28:05      1        1         0     868\n",
       "4 2022-01-24 11:57:29      1        1         0     717"
      ]
     },
     "execution_count": 44,
     "metadata": {},
     "output_type": "execute_result"
    }
   ],
   "source": [
    "date.head()"
   ]
  },
  {
   "cell_type": "code",
   "execution_count": 45,
   "id": "3d9bd4cd",
   "metadata": {},
   "outputs": [],
   "source": [
    "df = orders_df.join(date)"
   ]
  },
  {
   "cell_type": "code",
   "execution_count": 46,
   "id": "9b3dd51f",
   "metadata": {},
   "outputs": [
    {
     "data": {
      "text/html": [
       "<div>\n",
       "<style scoped>\n",
       "    .dataframe tbody tr th:only-of-type {\n",
       "        vertical-align: middle;\n",
       "    }\n",
       "\n",
       "    .dataframe tbody tr th {\n",
       "        vertical-align: top;\n",
       "    }\n",
       "\n",
       "    .dataframe thead th {\n",
       "        text-align: right;\n",
       "    }\n",
       "</style>\n",
       "<table border=\"1\" class=\"dataframe\">\n",
       "  <thead>\n",
       "    <tr style=\"text-align: right;\">\n",
       "      <th></th>\n",
       "      <th>Id</th>\n",
       "      <th>running_time</th>\n",
       "      <th>completed_time</th>\n",
       "      <th>route_distance_km</th>\n",
       "      <th>delta_time</th>\n",
       "      <th>time</th>\n",
       "      <th>month</th>\n",
       "      <th>quarter</th>\n",
       "      <th>day_week</th>\n",
       "      <th>minute</th>\n",
       "    </tr>\n",
       "  </thead>\n",
       "  <tbody>\n",
       "    <tr>\n",
       "      <th>0</th>\n",
       "      <td>-4773019581999572651</td>\n",
       "      <td>2022-01-24 18:30:21</td>\n",
       "      <td>2022-01-24 18:44:43</td>\n",
       "      <td>3.740</td>\n",
       "      <td>862.0</td>\n",
       "      <td>2022-01-24 18:30:21</td>\n",
       "      <td>1</td>\n",
       "      <td>1</td>\n",
       "      <td>0</td>\n",
       "      <td>1110</td>\n",
       "    </tr>\n",
       "    <tr>\n",
       "      <th>1</th>\n",
       "      <td>-7575630690398473489</td>\n",
       "      <td>2022-01-24 06:53:53</td>\n",
       "      <td>2022-01-24 07:06:26</td>\n",
       "      <td>3.526</td>\n",
       "      <td>753.0</td>\n",
       "      <td>2022-01-24 06:53:53</td>\n",
       "      <td>1</td>\n",
       "      <td>1</td>\n",
       "      <td>0</td>\n",
       "      <td>413</td>\n",
       "    </tr>\n",
       "    <tr>\n",
       "      <th>2</th>\n",
       "      <td>-6264582368520213833</td>\n",
       "      <td>2022-01-24 10:00:59</td>\n",
       "      <td>2022-01-24 10:15:58</td>\n",
       "      <td>5.071</td>\n",
       "      <td>899.0</td>\n",
       "      <td>2022-01-24 10:00:59</td>\n",
       "      <td>1</td>\n",
       "      <td>1</td>\n",
       "      <td>0</td>\n",
       "      <td>600</td>\n",
       "    </tr>\n",
       "    <tr>\n",
       "      <th>3</th>\n",
       "      <td>5964315354301636538</td>\n",
       "      <td>2022-01-24 14:28:05</td>\n",
       "      <td>2022-01-24 14:35:08</td>\n",
       "      <td>2.867</td>\n",
       "      <td>423.0</td>\n",
       "      <td>2022-01-24 14:28:05</td>\n",
       "      <td>1</td>\n",
       "      <td>1</td>\n",
       "      <td>0</td>\n",
       "      <td>868</td>\n",
       "    </tr>\n",
       "    <tr>\n",
       "      <th>4</th>\n",
       "      <td>1372379574816145639</td>\n",
       "      <td>2022-01-24 11:57:29</td>\n",
       "      <td>2022-01-24 12:06:29</td>\n",
       "      <td>3.751</td>\n",
       "      <td>540.0</td>\n",
       "      <td>2022-01-24 11:57:29</td>\n",
       "      <td>1</td>\n",
       "      <td>1</td>\n",
       "      <td>0</td>\n",
       "      <td>717</td>\n",
       "    </tr>\n",
       "  </tbody>\n",
       "</table>\n",
       "</div>"
      ],
      "text/plain": [
       "                    Id         running_time       completed_time  \\\n",
       "0 -4773019581999572651  2022-01-24 18:30:21  2022-01-24 18:44:43   \n",
       "1 -7575630690398473489  2022-01-24 06:53:53  2022-01-24 07:06:26   \n",
       "2 -6264582368520213833  2022-01-24 10:00:59  2022-01-24 10:15:58   \n",
       "3  5964315354301636538  2022-01-24 14:28:05  2022-01-24 14:35:08   \n",
       "4  1372379574816145639  2022-01-24 11:57:29  2022-01-24 12:06:29   \n",
       "\n",
       "   route_distance_km  delta_time                time  month  quarter  \\\n",
       "0              3.740       862.0 2022-01-24 18:30:21      1        1   \n",
       "1              3.526       753.0 2022-01-24 06:53:53      1        1   \n",
       "2              5.071       899.0 2022-01-24 10:00:59      1        1   \n",
       "3              2.867       423.0 2022-01-24 14:28:05      1        1   \n",
       "4              3.751       540.0 2022-01-24 11:57:29      1        1   \n",
       "\n",
       "   day_week  minute  \n",
       "0         0    1110  \n",
       "1         0     413  \n",
       "2         0     600  \n",
       "3         0     868  \n",
       "4         0     717  "
      ]
     },
     "execution_count": 46,
     "metadata": {},
     "output_type": "execute_result"
    }
   ],
   "source": [
    "df.head()"
   ]
  },
  {
   "cell_type": "code",
   "execution_count": 47,
   "id": "ccce15cd",
   "metadata": {},
   "outputs": [],
   "source": [
    "date.to_csv('extracted_date_data.csv')"
   ]
  }
 ],
 "metadata": {
  "kernelspec": {
   "display_name": "Python 3 (ipykernel)",
   "language": "python",
   "name": "python3"
  },
  "language_info": {
   "codemirror_mode": {
    "name": "ipython",
    "version": 3
   },
   "file_extension": ".py",
   "mimetype": "text/x-python",
   "name": "python",
   "nbconvert_exporter": "python",
   "pygments_lexer": "ipython3",
   "version": "3.9.12"
  }
 },
 "nbformat": 4,
 "nbformat_minor": 5
}
